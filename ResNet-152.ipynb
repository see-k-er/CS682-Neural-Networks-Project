{
  "nbformat": 4,
  "nbformat_minor": 0,
  "metadata": {
    "colab": {
      "name": "Final_ResNet_final.ipynb",
      "provenance": [],
      "collapsed_sections": []
    },
    "kernelspec": {
      "name": "python3",
      "display_name": "Python 3"
    },
    "language_info": {
      "name": "python"
    },
    "accelerator": "GPU"
  },
  "cells": [
    {
      "cell_type": "code",
      "metadata": {
        "colab": {
          "base_uri": "https://localhost:8080/"
        },
        "id": "4SeokCWGxdW_",
        "outputId": "6f9bee31-9926-4b07-b079-77c40f1c8012"
      },
      "source": [
        "from google.colab import drive\n",
        "drive.mount('/content/drive/', force_remount=True)\n",
        "%cd '/content/drive/MyDrive/Project_682'"
      ],
      "execution_count": null,
      "outputs": [
        {
          "output_type": "stream",
          "name": "stdout",
          "text": [
            "Mounted at /content/drive/\n",
            "/content/drive/MyDrive/Project_682\n"
          ]
        }
      ]
    },
    {
      "cell_type": "code",
      "metadata": {
        "id": "yU2YT9f8xhls"
      },
      "source": [
        "import matplotlib.pyplot as plt\n",
        "from PIL import Image\n",
        "import seaborn as sns\n",
        "import numpy as np\n",
        "import pandas as pd\n",
        "import os\n",
        "from tensorflow.keras.utils import to_categorical\n",
        "from glob import glob\n",
        "from tensorflow.keras.preprocessing.image import ImageDataGenerator"
      ],
      "execution_count": null,
      "outputs": []
    },
    {
      "cell_type": "markdown",
      "source": [
        "## Loading and Cleaning Metadata"
      ],
      "metadata": {
        "id": "IFiI0WKedoNO"
      }
    },
    {
      "cell_type": "code",
      "metadata": {
        "id": "sheQiGYAx0EU"
      },
      "source": [
        "df = pd.read_csv('HAM10000_metadata.csv')"
      ],
      "execution_count": null,
      "outputs": []
    },
    {
      "cell_type": "code",
      "metadata": {
        "colab": {
          "base_uri": "https://localhost:8080/",
          "height": 419
        },
        "id": "lDvMKj9tho-2",
        "outputId": "fdc0338a-a4c5-46fc-8717-c4ede3dd2e69"
      },
      "source": [
        "df"
      ],
      "execution_count": null,
      "outputs": [
        {
          "output_type": "execute_result",
          "data": {
            "text/html": [
              "<div>\n",
              "<style scoped>\n",
              "    .dataframe tbody tr th:only-of-type {\n",
              "        vertical-align: middle;\n",
              "    }\n",
              "\n",
              "    .dataframe tbody tr th {\n",
              "        vertical-align: top;\n",
              "    }\n",
              "\n",
              "    .dataframe thead th {\n",
              "        text-align: right;\n",
              "    }\n",
              "</style>\n",
              "<table border=\"1\" class=\"dataframe\">\n",
              "  <thead>\n",
              "    <tr style=\"text-align: right;\">\n",
              "      <th></th>\n",
              "      <th>lesion_id</th>\n",
              "      <th>image_id</th>\n",
              "      <th>dx</th>\n",
              "      <th>dx_type</th>\n",
              "      <th>age</th>\n",
              "      <th>sex</th>\n",
              "      <th>localization</th>\n",
              "      <th>dataset</th>\n",
              "    </tr>\n",
              "  </thead>\n",
              "  <tbody>\n",
              "    <tr>\n",
              "      <th>0</th>\n",
              "      <td>HAM_0000118</td>\n",
              "      <td>ISIC_0027419</td>\n",
              "      <td>bkl</td>\n",
              "      <td>histo</td>\n",
              "      <td>80.0</td>\n",
              "      <td>male</td>\n",
              "      <td>scalp</td>\n",
              "      <td>vidir_modern</td>\n",
              "    </tr>\n",
              "    <tr>\n",
              "      <th>1</th>\n",
              "      <td>HAM_0000118</td>\n",
              "      <td>ISIC_0025030</td>\n",
              "      <td>bkl</td>\n",
              "      <td>histo</td>\n",
              "      <td>80.0</td>\n",
              "      <td>male</td>\n",
              "      <td>scalp</td>\n",
              "      <td>vidir_modern</td>\n",
              "    </tr>\n",
              "    <tr>\n",
              "      <th>2</th>\n",
              "      <td>HAM_0002730</td>\n",
              "      <td>ISIC_0026769</td>\n",
              "      <td>bkl</td>\n",
              "      <td>histo</td>\n",
              "      <td>80.0</td>\n",
              "      <td>male</td>\n",
              "      <td>scalp</td>\n",
              "      <td>vidir_modern</td>\n",
              "    </tr>\n",
              "    <tr>\n",
              "      <th>3</th>\n",
              "      <td>HAM_0002730</td>\n",
              "      <td>ISIC_0025661</td>\n",
              "      <td>bkl</td>\n",
              "      <td>histo</td>\n",
              "      <td>80.0</td>\n",
              "      <td>male</td>\n",
              "      <td>scalp</td>\n",
              "      <td>vidir_modern</td>\n",
              "    </tr>\n",
              "    <tr>\n",
              "      <th>4</th>\n",
              "      <td>HAM_0001466</td>\n",
              "      <td>ISIC_0031633</td>\n",
              "      <td>bkl</td>\n",
              "      <td>histo</td>\n",
              "      <td>75.0</td>\n",
              "      <td>male</td>\n",
              "      <td>ear</td>\n",
              "      <td>vidir_modern</td>\n",
              "    </tr>\n",
              "    <tr>\n",
              "      <th>...</th>\n",
              "      <td>...</td>\n",
              "      <td>...</td>\n",
              "      <td>...</td>\n",
              "      <td>...</td>\n",
              "      <td>...</td>\n",
              "      <td>...</td>\n",
              "      <td>...</td>\n",
              "      <td>...</td>\n",
              "    </tr>\n",
              "    <tr>\n",
              "      <th>10010</th>\n",
              "      <td>HAM_0002867</td>\n",
              "      <td>ISIC_0033084</td>\n",
              "      <td>akiec</td>\n",
              "      <td>histo</td>\n",
              "      <td>40.0</td>\n",
              "      <td>male</td>\n",
              "      <td>abdomen</td>\n",
              "      <td>vidir_modern</td>\n",
              "    </tr>\n",
              "    <tr>\n",
              "      <th>10011</th>\n",
              "      <td>HAM_0002867</td>\n",
              "      <td>ISIC_0033550</td>\n",
              "      <td>akiec</td>\n",
              "      <td>histo</td>\n",
              "      <td>40.0</td>\n",
              "      <td>male</td>\n",
              "      <td>abdomen</td>\n",
              "      <td>vidir_modern</td>\n",
              "    </tr>\n",
              "    <tr>\n",
              "      <th>10012</th>\n",
              "      <td>HAM_0002867</td>\n",
              "      <td>ISIC_0033536</td>\n",
              "      <td>akiec</td>\n",
              "      <td>histo</td>\n",
              "      <td>40.0</td>\n",
              "      <td>male</td>\n",
              "      <td>abdomen</td>\n",
              "      <td>vidir_modern</td>\n",
              "    </tr>\n",
              "    <tr>\n",
              "      <th>10013</th>\n",
              "      <td>HAM_0000239</td>\n",
              "      <td>ISIC_0032854</td>\n",
              "      <td>akiec</td>\n",
              "      <td>histo</td>\n",
              "      <td>80.0</td>\n",
              "      <td>male</td>\n",
              "      <td>face</td>\n",
              "      <td>vidir_modern</td>\n",
              "    </tr>\n",
              "    <tr>\n",
              "      <th>10014</th>\n",
              "      <td>HAM_0003521</td>\n",
              "      <td>ISIC_0032258</td>\n",
              "      <td>mel</td>\n",
              "      <td>histo</td>\n",
              "      <td>70.0</td>\n",
              "      <td>female</td>\n",
              "      <td>back</td>\n",
              "      <td>vidir_modern</td>\n",
              "    </tr>\n",
              "  </tbody>\n",
              "</table>\n",
              "<p>10015 rows × 8 columns</p>\n",
              "</div>"
            ],
            "text/plain": [
              "         lesion_id      image_id     dx  ...     sex  localization       dataset\n",
              "0      HAM_0000118  ISIC_0027419    bkl  ...    male         scalp  vidir_modern\n",
              "1      HAM_0000118  ISIC_0025030    bkl  ...    male         scalp  vidir_modern\n",
              "2      HAM_0002730  ISIC_0026769    bkl  ...    male         scalp  vidir_modern\n",
              "3      HAM_0002730  ISIC_0025661    bkl  ...    male         scalp  vidir_modern\n",
              "4      HAM_0001466  ISIC_0031633    bkl  ...    male           ear  vidir_modern\n",
              "...            ...           ...    ...  ...     ...           ...           ...\n",
              "10010  HAM_0002867  ISIC_0033084  akiec  ...    male       abdomen  vidir_modern\n",
              "10011  HAM_0002867  ISIC_0033550  akiec  ...    male       abdomen  vidir_modern\n",
              "10012  HAM_0002867  ISIC_0033536  akiec  ...    male       abdomen  vidir_modern\n",
              "10013  HAM_0000239  ISIC_0032854  akiec  ...    male          face  vidir_modern\n",
              "10014  HAM_0003521  ISIC_0032258    mel  ...  female          back  vidir_modern\n",
              "\n",
              "[10015 rows x 8 columns]"
            ]
          },
          "metadata": {},
          "execution_count": 4
        }
      ]
    },
    {
      "cell_type": "code",
      "metadata": {
        "colab": {
          "base_uri": "https://localhost:8080/"
        },
        "id": "VM5WGKiJhrFg",
        "outputId": "dfaeb7df-96eb-4727-a62d-97445902e4f9"
      },
      "source": [
        "df.shape"
      ],
      "execution_count": null,
      "outputs": [
        {
          "output_type": "execute_result",
          "data": {
            "text/plain": [
              "(10015, 8)"
            ]
          },
          "metadata": {},
          "execution_count": 5
        }
      ]
    },
    {
      "cell_type": "code",
      "metadata": {
        "colab": {
          "base_uri": "https://localhost:8080/"
        },
        "id": "wMdvisjuhwA1",
        "outputId": "3938b6db-eb49-4450-da94-a484de6188c2"
      },
      "source": [
        "df.dtypes"
      ],
      "execution_count": null,
      "outputs": [
        {
          "output_type": "execute_result",
          "data": {
            "text/plain": [
              "lesion_id        object\n",
              "image_id         object\n",
              "dx               object\n",
              "dx_type          object\n",
              "age             float64\n",
              "sex              object\n",
              "localization     object\n",
              "dataset          object\n",
              "dtype: object"
            ]
          },
          "metadata": {},
          "execution_count": 6
        }
      ]
    },
    {
      "cell_type": "code",
      "metadata": {
        "colab": {
          "base_uri": "https://localhost:8080/",
          "height": 390
        },
        "id": "HdSh1Kamhyqj",
        "outputId": "7daaa5b8-dfdf-4ae6-f7ee-170e4a9cbf85"
      },
      "source": [
        "df.describe(include='all')"
      ],
      "execution_count": null,
      "outputs": [
        {
          "output_type": "execute_result",
          "data": {
            "text/html": [
              "<div>\n",
              "<style scoped>\n",
              "    .dataframe tbody tr th:only-of-type {\n",
              "        vertical-align: middle;\n",
              "    }\n",
              "\n",
              "    .dataframe tbody tr th {\n",
              "        vertical-align: top;\n",
              "    }\n",
              "\n",
              "    .dataframe thead th {\n",
              "        text-align: right;\n",
              "    }\n",
              "</style>\n",
              "<table border=\"1\" class=\"dataframe\">\n",
              "  <thead>\n",
              "    <tr style=\"text-align: right;\">\n",
              "      <th></th>\n",
              "      <th>lesion_id</th>\n",
              "      <th>image_id</th>\n",
              "      <th>dx</th>\n",
              "      <th>dx_type</th>\n",
              "      <th>age</th>\n",
              "      <th>sex</th>\n",
              "      <th>localization</th>\n",
              "      <th>dataset</th>\n",
              "    </tr>\n",
              "  </thead>\n",
              "  <tbody>\n",
              "    <tr>\n",
              "      <th>count</th>\n",
              "      <td>10015</td>\n",
              "      <td>10015</td>\n",
              "      <td>10015</td>\n",
              "      <td>10015</td>\n",
              "      <td>9958.000000</td>\n",
              "      <td>10015</td>\n",
              "      <td>10015</td>\n",
              "      <td>10015</td>\n",
              "    </tr>\n",
              "    <tr>\n",
              "      <th>unique</th>\n",
              "      <td>7470</td>\n",
              "      <td>10015</td>\n",
              "      <td>7</td>\n",
              "      <td>4</td>\n",
              "      <td>NaN</td>\n",
              "      <td>3</td>\n",
              "      <td>15</td>\n",
              "      <td>4</td>\n",
              "    </tr>\n",
              "    <tr>\n",
              "      <th>top</th>\n",
              "      <td>HAM_0003789</td>\n",
              "      <td>ISIC_0029192</td>\n",
              "      <td>nv</td>\n",
              "      <td>histo</td>\n",
              "      <td>NaN</td>\n",
              "      <td>male</td>\n",
              "      <td>back</td>\n",
              "      <td>vidir_molemax</td>\n",
              "    </tr>\n",
              "    <tr>\n",
              "      <th>freq</th>\n",
              "      <td>6</td>\n",
              "      <td>1</td>\n",
              "      <td>6705</td>\n",
              "      <td>5340</td>\n",
              "      <td>NaN</td>\n",
              "      <td>5406</td>\n",
              "      <td>2192</td>\n",
              "      <td>3954</td>\n",
              "    </tr>\n",
              "    <tr>\n",
              "      <th>mean</th>\n",
              "      <td>NaN</td>\n",
              "      <td>NaN</td>\n",
              "      <td>NaN</td>\n",
              "      <td>NaN</td>\n",
              "      <td>51.863828</td>\n",
              "      <td>NaN</td>\n",
              "      <td>NaN</td>\n",
              "      <td>NaN</td>\n",
              "    </tr>\n",
              "    <tr>\n",
              "      <th>std</th>\n",
              "      <td>NaN</td>\n",
              "      <td>NaN</td>\n",
              "      <td>NaN</td>\n",
              "      <td>NaN</td>\n",
              "      <td>16.968614</td>\n",
              "      <td>NaN</td>\n",
              "      <td>NaN</td>\n",
              "      <td>NaN</td>\n",
              "    </tr>\n",
              "    <tr>\n",
              "      <th>min</th>\n",
              "      <td>NaN</td>\n",
              "      <td>NaN</td>\n",
              "      <td>NaN</td>\n",
              "      <td>NaN</td>\n",
              "      <td>0.000000</td>\n",
              "      <td>NaN</td>\n",
              "      <td>NaN</td>\n",
              "      <td>NaN</td>\n",
              "    </tr>\n",
              "    <tr>\n",
              "      <th>25%</th>\n",
              "      <td>NaN</td>\n",
              "      <td>NaN</td>\n",
              "      <td>NaN</td>\n",
              "      <td>NaN</td>\n",
              "      <td>40.000000</td>\n",
              "      <td>NaN</td>\n",
              "      <td>NaN</td>\n",
              "      <td>NaN</td>\n",
              "    </tr>\n",
              "    <tr>\n",
              "      <th>50%</th>\n",
              "      <td>NaN</td>\n",
              "      <td>NaN</td>\n",
              "      <td>NaN</td>\n",
              "      <td>NaN</td>\n",
              "      <td>50.000000</td>\n",
              "      <td>NaN</td>\n",
              "      <td>NaN</td>\n",
              "      <td>NaN</td>\n",
              "    </tr>\n",
              "    <tr>\n",
              "      <th>75%</th>\n",
              "      <td>NaN</td>\n",
              "      <td>NaN</td>\n",
              "      <td>NaN</td>\n",
              "      <td>NaN</td>\n",
              "      <td>65.000000</td>\n",
              "      <td>NaN</td>\n",
              "      <td>NaN</td>\n",
              "      <td>NaN</td>\n",
              "    </tr>\n",
              "    <tr>\n",
              "      <th>max</th>\n",
              "      <td>NaN</td>\n",
              "      <td>NaN</td>\n",
              "      <td>NaN</td>\n",
              "      <td>NaN</td>\n",
              "      <td>85.000000</td>\n",
              "      <td>NaN</td>\n",
              "      <td>NaN</td>\n",
              "      <td>NaN</td>\n",
              "    </tr>\n",
              "  </tbody>\n",
              "</table>\n",
              "</div>"
            ],
            "text/plain": [
              "          lesion_id      image_id     dx  ...    sex  localization        dataset\n",
              "count         10015         10015  10015  ...  10015         10015          10015\n",
              "unique         7470         10015      7  ...      3            15              4\n",
              "top     HAM_0003789  ISIC_0029192     nv  ...   male          back  vidir_molemax\n",
              "freq              6             1   6705  ...   5406          2192           3954\n",
              "mean            NaN           NaN    NaN  ...    NaN           NaN            NaN\n",
              "std             NaN           NaN    NaN  ...    NaN           NaN            NaN\n",
              "min             NaN           NaN    NaN  ...    NaN           NaN            NaN\n",
              "25%             NaN           NaN    NaN  ...    NaN           NaN            NaN\n",
              "50%             NaN           NaN    NaN  ...    NaN           NaN            NaN\n",
              "75%             NaN           NaN    NaN  ...    NaN           NaN            NaN\n",
              "max             NaN           NaN    NaN  ...    NaN           NaN            NaN\n",
              "\n",
              "[11 rows x 8 columns]"
            ]
          },
          "metadata": {},
          "execution_count": 7
        }
      ]
    },
    {
      "cell_type": "code",
      "metadata": {
        "colab": {
          "base_uri": "https://localhost:8080/"
        },
        "id": "aCINirU9h1-y",
        "outputId": "9b3281c9-f197-4a33-aacf-b2db287799cc"
      },
      "source": [
        "df.info()"
      ],
      "execution_count": null,
      "outputs": [
        {
          "output_type": "stream",
          "name": "stdout",
          "text": [
            "<class 'pandas.core.frame.DataFrame'>\n",
            "RangeIndex: 10015 entries, 0 to 10014\n",
            "Data columns (total 8 columns):\n",
            " #   Column        Non-Null Count  Dtype  \n",
            "---  ------        --------------  -----  \n",
            " 0   lesion_id     10015 non-null  object \n",
            " 1   image_id      10015 non-null  object \n",
            " 2   dx            10015 non-null  object \n",
            " 3   dx_type       10015 non-null  object \n",
            " 4   age           9958 non-null   float64\n",
            " 5   sex           10015 non-null  object \n",
            " 6   localization  10015 non-null  object \n",
            " 7   dataset       10015 non-null  object \n",
            "dtypes: float64(1), object(7)\n",
            "memory usage: 626.1+ KB\n"
          ]
        }
      ]
    },
    {
      "cell_type": "code",
      "metadata": {
        "colab": {
          "base_uri": "https://localhost:8080/"
        },
        "id": "X9j8XqM1h2Cd",
        "outputId": "10988536-f937-4017-aafa-95a9ff84d872"
      },
      "source": [
        "df.isnull().sum()"
      ],
      "execution_count": null,
      "outputs": [
        {
          "output_type": "execute_result",
          "data": {
            "text/plain": [
              "lesion_id        0\n",
              "image_id         0\n",
              "dx               0\n",
              "dx_type          0\n",
              "age             57\n",
              "sex              0\n",
              "localization     0\n",
              "dataset          0\n",
              "dtype: int64"
            ]
          },
          "metadata": {},
          "execution_count": 9
        }
      ]
    },
    {
      "cell_type": "code",
      "metadata": {
        "id": "XOxfVEhAh2Fs"
      },
      "source": [
        "mean = int(df['age'].mean())\n",
        "df['age'].fillna(mean,inplace=True)"
      ],
      "execution_count": null,
      "outputs": []
    },
    {
      "cell_type": "code",
      "metadata": {
        "colab": {
          "base_uri": "https://localhost:8080/"
        },
        "id": "D_j5J7npx-or",
        "outputId": "c158364e-149e-44c7-8bcb-994bbbcb35c8"
      },
      "source": [
        "df.isnull().sum()"
      ],
      "execution_count": null,
      "outputs": [
        {
          "output_type": "execute_result",
          "data": {
            "text/plain": [
              "lesion_id       0\n",
              "image_id        0\n",
              "dx              0\n",
              "dx_type         0\n",
              "age             0\n",
              "sex             0\n",
              "localization    0\n",
              "dataset         0\n",
              "dtype: int64"
            ]
          },
          "metadata": {},
          "execution_count": 11
        }
      ]
    },
    {
      "cell_type": "code",
      "metadata": {
        "id": "44qgv_l7yAGF"
      },
      "source": [
        "lesion_type = {\n",
        "    'nv': 'Melanocytic nevi',\n",
        "    'mel': 'Melanoma',\n",
        "    'bkl': 'Benign keratosis-like lesions ',\n",
        "    'bcc': 'Basal cell carcinoma',\n",
        "    'akiec': 'Actinic keratoses',\n",
        "    'vasc': 'Vascular lesions',\n",
        "    'df': 'Dermatofibroma'\n",
        "}\n",
        "\n",
        "df['lesion_type'] = df['dx'].map(lesion_type.get) \n",
        "df['lesion_type_idx'] = pd.Categorical(df['lesion_type']).codes"
      ],
      "execution_count": null,
      "outputs": []
    },
    {
      "cell_type": "code",
      "metadata": {
        "id": "q2ZwxUxAiM1k"
      },
      "source": [
        "#Now time to read images based on image ID from the CSV file\n",
        "#This is the safest way to read images as it ensures the right image is read for the right ID\n",
        "imageid_path = {os.path.splitext(os.path.basename(x))[0]: x\n",
        "                     for x in glob(os.path.join('', '*', '*.jpg'))}"
      ],
      "execution_count": null,
      "outputs": []
    },
    {
      "cell_type": "code",
      "metadata": {
        "id": "SbEz0MaYyddN"
      },
      "source": [
        "df['path'] = df['image_id'].map(imageid_path.get)"
      ],
      "execution_count": null,
      "outputs": []
    },
    {
      "cell_type": "code",
      "metadata": {
        "colab": {
          "base_uri": "https://localhost:8080/",
          "height": 419
        },
        "id": "UEgsPiFojnB_",
        "outputId": "70daaacf-d981-47c7-9deb-526eb5506df0"
      },
      "source": [
        "df"
      ],
      "execution_count": null,
      "outputs": [
        {
          "output_type": "execute_result",
          "data": {
            "text/html": [
              "<div>\n",
              "<style scoped>\n",
              "    .dataframe tbody tr th:only-of-type {\n",
              "        vertical-align: middle;\n",
              "    }\n",
              "\n",
              "    .dataframe tbody tr th {\n",
              "        vertical-align: top;\n",
              "    }\n",
              "\n",
              "    .dataframe thead th {\n",
              "        text-align: right;\n",
              "    }\n",
              "</style>\n",
              "<table border=\"1\" class=\"dataframe\">\n",
              "  <thead>\n",
              "    <tr style=\"text-align: right;\">\n",
              "      <th></th>\n",
              "      <th>lesion_id</th>\n",
              "      <th>image_id</th>\n",
              "      <th>dx</th>\n",
              "      <th>dx_type</th>\n",
              "      <th>age</th>\n",
              "      <th>sex</th>\n",
              "      <th>localization</th>\n",
              "      <th>dataset</th>\n",
              "      <th>lesion_type</th>\n",
              "      <th>lesion_type_idx</th>\n",
              "      <th>path</th>\n",
              "    </tr>\n",
              "  </thead>\n",
              "  <tbody>\n",
              "    <tr>\n",
              "      <th>0</th>\n",
              "      <td>HAM_0000118</td>\n",
              "      <td>ISIC_0027419</td>\n",
              "      <td>bkl</td>\n",
              "      <td>histo</td>\n",
              "      <td>80.0</td>\n",
              "      <td>male</td>\n",
              "      <td>scalp</td>\n",
              "      <td>vidir_modern</td>\n",
              "      <td>Benign keratosis-like lesions</td>\n",
              "      <td>2</td>\n",
              "      <td>HAM10000/ISIC_0027419.jpg</td>\n",
              "    </tr>\n",
              "    <tr>\n",
              "      <th>1</th>\n",
              "      <td>HAM_0000118</td>\n",
              "      <td>ISIC_0025030</td>\n",
              "      <td>bkl</td>\n",
              "      <td>histo</td>\n",
              "      <td>80.0</td>\n",
              "      <td>male</td>\n",
              "      <td>scalp</td>\n",
              "      <td>vidir_modern</td>\n",
              "      <td>Benign keratosis-like lesions</td>\n",
              "      <td>2</td>\n",
              "      <td>HAM10000/ISIC_0025030.jpg</td>\n",
              "    </tr>\n",
              "    <tr>\n",
              "      <th>2</th>\n",
              "      <td>HAM_0002730</td>\n",
              "      <td>ISIC_0026769</td>\n",
              "      <td>bkl</td>\n",
              "      <td>histo</td>\n",
              "      <td>80.0</td>\n",
              "      <td>male</td>\n",
              "      <td>scalp</td>\n",
              "      <td>vidir_modern</td>\n",
              "      <td>Benign keratosis-like lesions</td>\n",
              "      <td>2</td>\n",
              "      <td>HAM10000/ISIC_0026769.jpg</td>\n",
              "    </tr>\n",
              "    <tr>\n",
              "      <th>3</th>\n",
              "      <td>HAM_0002730</td>\n",
              "      <td>ISIC_0025661</td>\n",
              "      <td>bkl</td>\n",
              "      <td>histo</td>\n",
              "      <td>80.0</td>\n",
              "      <td>male</td>\n",
              "      <td>scalp</td>\n",
              "      <td>vidir_modern</td>\n",
              "      <td>Benign keratosis-like lesions</td>\n",
              "      <td>2</td>\n",
              "      <td>HAM10000/ISIC_0025661.jpg</td>\n",
              "    </tr>\n",
              "    <tr>\n",
              "      <th>4</th>\n",
              "      <td>HAM_0001466</td>\n",
              "      <td>ISIC_0031633</td>\n",
              "      <td>bkl</td>\n",
              "      <td>histo</td>\n",
              "      <td>75.0</td>\n",
              "      <td>male</td>\n",
              "      <td>ear</td>\n",
              "      <td>vidir_modern</td>\n",
              "      <td>Benign keratosis-like lesions</td>\n",
              "      <td>2</td>\n",
              "      <td>HAM10000/ISIC_0031633.jpg</td>\n",
              "    </tr>\n",
              "    <tr>\n",
              "      <th>...</th>\n",
              "      <td>...</td>\n",
              "      <td>...</td>\n",
              "      <td>...</td>\n",
              "      <td>...</td>\n",
              "      <td>...</td>\n",
              "      <td>...</td>\n",
              "      <td>...</td>\n",
              "      <td>...</td>\n",
              "      <td>...</td>\n",
              "      <td>...</td>\n",
              "      <td>...</td>\n",
              "    </tr>\n",
              "    <tr>\n",
              "      <th>10010</th>\n",
              "      <td>HAM_0002867</td>\n",
              "      <td>ISIC_0033084</td>\n",
              "      <td>akiec</td>\n",
              "      <td>histo</td>\n",
              "      <td>40.0</td>\n",
              "      <td>male</td>\n",
              "      <td>abdomen</td>\n",
              "      <td>vidir_modern</td>\n",
              "      <td>Actinic keratoses</td>\n",
              "      <td>0</td>\n",
              "      <td>HAM10000/ISIC_0033084.jpg</td>\n",
              "    </tr>\n",
              "    <tr>\n",
              "      <th>10011</th>\n",
              "      <td>HAM_0002867</td>\n",
              "      <td>ISIC_0033550</td>\n",
              "      <td>akiec</td>\n",
              "      <td>histo</td>\n",
              "      <td>40.0</td>\n",
              "      <td>male</td>\n",
              "      <td>abdomen</td>\n",
              "      <td>vidir_modern</td>\n",
              "      <td>Actinic keratoses</td>\n",
              "      <td>0</td>\n",
              "      <td>HAM10000/ISIC_0033550.jpg</td>\n",
              "    </tr>\n",
              "    <tr>\n",
              "      <th>10012</th>\n",
              "      <td>HAM_0002867</td>\n",
              "      <td>ISIC_0033536</td>\n",
              "      <td>akiec</td>\n",
              "      <td>histo</td>\n",
              "      <td>40.0</td>\n",
              "      <td>male</td>\n",
              "      <td>abdomen</td>\n",
              "      <td>vidir_modern</td>\n",
              "      <td>Actinic keratoses</td>\n",
              "      <td>0</td>\n",
              "      <td>HAM10000/ISIC_0033536.jpg</td>\n",
              "    </tr>\n",
              "    <tr>\n",
              "      <th>10013</th>\n",
              "      <td>HAM_0000239</td>\n",
              "      <td>ISIC_0032854</td>\n",
              "      <td>akiec</td>\n",
              "      <td>histo</td>\n",
              "      <td>80.0</td>\n",
              "      <td>male</td>\n",
              "      <td>face</td>\n",
              "      <td>vidir_modern</td>\n",
              "      <td>Actinic keratoses</td>\n",
              "      <td>0</td>\n",
              "      <td>HAM10000/ISIC_0032854.jpg</td>\n",
              "    </tr>\n",
              "    <tr>\n",
              "      <th>10014</th>\n",
              "      <td>HAM_0003521</td>\n",
              "      <td>ISIC_0032258</td>\n",
              "      <td>mel</td>\n",
              "      <td>histo</td>\n",
              "      <td>70.0</td>\n",
              "      <td>female</td>\n",
              "      <td>back</td>\n",
              "      <td>vidir_modern</td>\n",
              "      <td>Melanoma</td>\n",
              "      <td>5</td>\n",
              "      <td>HAM10000/ISIC_0032258.jpg</td>\n",
              "    </tr>\n",
              "  </tbody>\n",
              "</table>\n",
              "<p>10015 rows × 11 columns</p>\n",
              "</div>"
            ],
            "text/plain": [
              "         lesion_id      image_id  ... lesion_type_idx                       path\n",
              "0      HAM_0000118  ISIC_0027419  ...               2  HAM10000/ISIC_0027419.jpg\n",
              "1      HAM_0000118  ISIC_0025030  ...               2  HAM10000/ISIC_0025030.jpg\n",
              "2      HAM_0002730  ISIC_0026769  ...               2  HAM10000/ISIC_0026769.jpg\n",
              "3      HAM_0002730  ISIC_0025661  ...               2  HAM10000/ISIC_0025661.jpg\n",
              "4      HAM_0001466  ISIC_0031633  ...               2  HAM10000/ISIC_0031633.jpg\n",
              "...            ...           ...  ...             ...                        ...\n",
              "10010  HAM_0002867  ISIC_0033084  ...               0  HAM10000/ISIC_0033084.jpg\n",
              "10011  HAM_0002867  ISIC_0033550  ...               0  HAM10000/ISIC_0033550.jpg\n",
              "10012  HAM_0002867  ISIC_0033536  ...               0  HAM10000/ISIC_0033536.jpg\n",
              "10013  HAM_0000239  ISIC_0032854  ...               0  HAM10000/ISIC_0032854.jpg\n",
              "10014  HAM_0003521  ISIC_0032258  ...               5  HAM10000/ISIC_0032258.jpg\n",
              "\n",
              "[10015 rows x 11 columns]"
            ]
          },
          "metadata": {},
          "execution_count": 15
        }
      ]
    },
    {
      "cell_type": "code",
      "metadata": {
        "colab": {
          "base_uri": "https://localhost:8080/"
        },
        "id": "UPhnVXerjlS-",
        "outputId": "62654ed3-4930-407e-b6a8-87c2c9429691"
      },
      "source": [
        "df['lesion_type_idx'].value_counts()"
      ],
      "execution_count": null,
      "outputs": [
        {
          "output_type": "execute_result",
          "data": {
            "text/plain": [
              "4    6705\n",
              "5    1113\n",
              "2    1099\n",
              "1     514\n",
              "0     327\n",
              "6     142\n",
              "3     115\n",
              "Name: lesion_type_idx, dtype: int64"
            ]
          },
          "metadata": {},
          "execution_count": 16
        }
      ]
    },
    {
      "cell_type": "markdown",
      "source": [
        "## Denoise, Resize and Data Augmentation"
      ],
      "metadata": {
        "id": "AfLJIdZudxbV"
      }
    },
    {
      "cell_type": "code",
      "metadata": {
        "id": "rutYNdZXJRV5"
      },
      "source": [
        "import cv2\n",
        "from cv2 import imread, resize"
      ],
      "execution_count": null,
      "outputs": []
    },
    {
      "cell_type": "code",
      "metadata": {
        "id": "VwJIuvmTjOk2"
      },
      "source": [
        "def produce_new_img(img2):\n",
        "    imga = cv2.rotate(img2,cv2.ROTATE_90_CLOCKWISE)\n",
        "    imgb = cv2.rotate(img2,cv2.ROTATE_90_COUNTERCLOCKWISE)\n",
        "    imgc = cv2.rotate(img2,cv2.ROTATE_180)\n",
        "    imgd = cv2.flip(img2,0)\n",
        "    imge = cv2.flip(img2,1)\n",
        "    return imga,imgb,imgc,imgd,imge\n",
        "\n",
        "X = []\n",
        "y = []\n",
        "\n",
        "kernel = cv2.getStructuringElement(1,(17,17)) # Kernel for the morphological filtering\n",
        "\n",
        "for i in range(len(df)):\n",
        "  src = cv2.imread(df['path'][i])\n",
        "  grayScale = cv2.cvtColor( src, cv2.COLOR_RGB2GRAY ) #1 Convert the original image to grayscale\n",
        "  blackhat = cv2.morphologyEx(grayScale, cv2.MORPH_BLACKHAT, kernel) #2 Perform the blackHat filtering on the grayscale image to find the hair countours\n",
        "  ret,thresh2 = cv2.threshold(blackhat,10,255,cv2.THRESH_BINARY) # intensify the hair countours in preparation for the inpainting algorithm\n",
        "  dst = cv2.inpaint(src,thresh2,1,cv2.INPAINT_TELEA) # inpaint the original image depending on the mask\n",
        "\n",
        "  file_to_read = df['path'][i]\n",
        "  img = imread(file_to_read)\n",
        "  img2 = resize(dst,(64,64))\n",
        "  X.append(img2)\n",
        "    \n",
        "  #targets\n",
        "  output = df['lesion_type_idx'][i]\n",
        "  y.append(output)\n",
        "    \n",
        "  # add more images for class between 1-6, rotating them \n",
        "  if output != 4:\n",
        "    new_img = produce_new_img(img2)\n",
        "    for i in range(5):\n",
        "      X.append(new_img[i])\n",
        "      y.append(output)"
      ],
      "execution_count": null,
      "outputs": []
    },
    {
      "cell_type": "code",
      "metadata": {
        "colab": {
          "base_uri": "https://localhost:8080/"
        },
        "id": "yqd4Z6RBMfw5",
        "outputId": "b58e8a2f-09ce-443b-c86b-e55d1e87b757"
      },
      "source": [
        "print(y.count(0),y.count(1),y.count(2),y.count(3),y.count(4),y.count(5),y.count(6))"
      ],
      "execution_count": null,
      "outputs": [
        {
          "output_type": "stream",
          "name": "stdout",
          "text": [
            "1962 3084 6594 690 6705 6678 852\n"
          ]
        }
      ]
    },
    {
      "cell_type": "markdown",
      "source": [
        "## Saving data after pre-processing"
      ],
      "metadata": {
        "id": "9OWRMkMudznW"
      }
    },
    {
      "cell_type": "code",
      "source": [
        "import pickle"
      ],
      "metadata": {
        "id": "Dl_Vfm44dz3X"
      },
      "execution_count": null,
      "outputs": []
    },
    {
      "cell_type": "code",
      "source": [
        "file_name = \"X.pkl\"\n",
        "\n",
        "#open_file = open(file_name, \"wb\")\n",
        "#pickle.dump(X, open_file)\n",
        "#open_file.close()\n",
        "\n",
        "open_file = open(file_name, \"rb\")\n",
        "X = pickle.load(open_file)\n",
        "open_file.close()\n",
        "\n",
        "#print(X)"
      ],
      "metadata": {
        "id": "NYsVdx5ndz87"
      },
      "execution_count": null,
      "outputs": []
    },
    {
      "cell_type": "code",
      "source": [
        "X= np.array(X)"
      ],
      "metadata": {
        "id": "5-_0fXjCd0BM"
      },
      "execution_count": null,
      "outputs": []
    },
    {
      "cell_type": "code",
      "source": [
        "X.shape"
      ],
      "metadata": {
        "id": "r-tJ3u2_d0EM"
      },
      "execution_count": null,
      "outputs": []
    },
    {
      "cell_type": "code",
      "source": [
        "X = X.astype(np.float64)"
      ],
      "metadata": {
        "id": "SLSybj9gd0HC"
      },
      "execution_count": null,
      "outputs": []
    },
    {
      "cell_type": "code",
      "source": [
        "X.dtype"
      ],
      "metadata": {
        "id": "aC2PECqnd0I6"
      },
      "execution_count": null,
      "outputs": []
    },
    {
      "cell_type": "code",
      "source": [
        "file_name = \"y.pkl\"\n",
        "\n",
        "#open_file = open(file_name, \"wb\")\n",
        "#pickle.dump(y, open_file)\n",
        "#open_file.close()\n",
        "\n",
        "open_file = open(file_name, \"rb\")\n",
        "y = pickle.load(open_file)\n",
        "open_file.close()\n",
        "\n",
        "#print(y)"
      ],
      "metadata": {
        "id": "ssugzW89d0MA"
      },
      "execution_count": null,
      "outputs": []
    },
    {
      "cell_type": "code",
      "source": [
        "y = np.array(y)"
      ],
      "metadata": {
        "id": "2acpge2ud0PS"
      },
      "execution_count": null,
      "outputs": []
    },
    {
      "cell_type": "code",
      "source": [
        "y.shape"
      ],
      "metadata": {
        "id": "JcQPibNwd0Sy"
      },
      "execution_count": null,
      "outputs": []
    },
    {
      "cell_type": "code",
      "metadata": {
        "id": "aA48daGmL5I5"
      },
      "source": [
        "from keras.utils.np_utils import to_categorical\n",
        "\n",
        "X = np.array(X)\n",
        "y = np.array(y)\n",
        "\n",
        "y_train = to_categorical(y, num_classes=7)"
      ],
      "execution_count": null,
      "outputs": []
    },
    {
      "cell_type": "code",
      "metadata": {
        "id": "LFiDpjaTA3lL"
      },
      "source": [
        "X = X.astype(np.float64)"
      ],
      "execution_count": null,
      "outputs": []
    },
    {
      "cell_type": "code",
      "metadata": {
        "id": "tyvqes2gsf4m"
      },
      "source": [
        "#y_train = [1 if each == 5 else 0 for each in y]"
      ],
      "execution_count": null,
      "outputs": []
    },
    {
      "cell_type": "markdown",
      "source": [
        "## Train and Test split"
      ],
      "metadata": {
        "id": "YX5QsCEVeJe1"
      }
    },
    {
      "cell_type": "code",
      "metadata": {
        "colab": {
          "base_uri": "https://localhost:8080/"
        },
        "id": "a0tQBoWiL8iQ",
        "outputId": "3d1c6d21-504c-4d5c-9ef6-c7349e852716"
      },
      "source": [
        "from sklearn.model_selection import train_test_split\n",
        "\n",
        "# split in 70% training and 30% test data\n",
        "X_train, X_test, y_train, y_test = train_test_split(X, y_train, test_size=0.20, random_state=0)\n",
        "#X_train, X_test, y_train, y_test = train_test_split(X, y, test_size=0.20, random_state=0)\n",
        "\n",
        "print('Train dataset shape',X_train.shape)\n",
        "print('Test dataset shape',X_test.shape)"
      ],
      "execution_count": null,
      "outputs": [
        {
          "output_type": "stream",
          "name": "stdout",
          "text": [
            "Train dataset shape (21252, 64, 64, 3)\n",
            "Test dataset shape (5313, 64, 64, 3)\n"
          ]
        }
      ]
    },
    {
      "cell_type": "markdown",
      "metadata": {
        "id": "pXxxNo5Tbksx"
      },
      "source": [
        "## ResNet-152"
      ]
    },
    {
      "cell_type": "code",
      "metadata": {
        "colab": {
          "base_uri": "https://localhost:8080/"
        },
        "id": "Dvy0wcUljqG8",
        "outputId": "01c6b1d4-8387-40c3-e478-aa162aabed22"
      },
      "source": [
        "USE_GPU = True\n",
        "\n",
        "if USE_GPU:\n",
        "    device = '/device:GPU:0'\n",
        "else:\n",
        "    device = '/cpu:0'\n",
        "\n",
        "# Constant to control how often we print when training models.\n",
        "print_every = 100\n",
        "print('Using device: ', device)"
      ],
      "execution_count": null,
      "outputs": [
        {
          "output_type": "stream",
          "name": "stdout",
          "text": [
            "Using device:  /device:GPU:0\n"
          ]
        }
      ]
    },
    {
      "cell_type": "code",
      "metadata": {
        "id": "x2Am3QM9j5ax"
      },
      "source": [
        "import keras\n",
        "from keras.models import Sequential, load_model\n",
        "from keras.callbacks import EarlyStopping,ModelCheckpoint\n",
        "from keras.layers.core import Dropout, Activation\n",
        "from keras.layers import Conv2D,BatchNormalization,MaxPool2D,Flatten,Dense"
      ],
      "execution_count": null,
      "outputs": []
    },
    {
      "cell_type": "code",
      "metadata": {
        "id": "uCl1B1Svj5db",
        "colab": {
          "base_uri": "https://localhost:8080/"
        },
        "outputId": "c9217c61-e2df-4f4e-e900-9eed61b09ba2"
      },
      "source": [
        "from sklearn.utils.class_weight import compute_class_weight\n",
        "y_id = np.array(df['lesion_type_idx'])\n",
        "\n",
        "# compute weights for the loss function, because the problem is unbalanced\n",
        "class_weights = np.around(compute_class_weight(class_weight='balanced',classes=np.unique(y_id),y=y),2)\n",
        "class_weights = dict(zip(np.unique(y_id),class_weights))\n",
        "\n",
        "print('The problem is unbalanced. We need to provide class_weights ')\n",
        "print(class_weights)"
      ],
      "execution_count": null,
      "outputs": [
        {
          "output_type": "stream",
          "name": "stdout",
          "text": [
            "The problem is unbalanced. We need to provide class_weights \n",
            "{0: 1.93, 1: 1.23, 2: 0.58, 3: 5.5, 4: 0.57, 5: 0.57, 6: 4.45}\n"
          ]
        }
      ]
    },
    {
      "cell_type": "code",
      "metadata": {
        "id": "Ebyfjh-rj5gA"
      },
      "source": [
        "# building Neural Network\n",
        "\n",
        "import tensorflow as tf\n",
        "from tensorflow.keras import layers\n",
        "from tensorflow.keras.optimizers import Adam\n",
        "#pre_trained_model = tf.keras.applications.MobileNet(include_top=False,\n",
        "#                                                    input_shape=(SIZE, SIZE, 3),\n",
        "#                                                    weights='imagenet')\n",
        "#resnet152 - 564 layers\n",
        "pre_trained_model = tf.keras.applications.ResNet152V2(include_top=False,\n",
        "                             input_shape=(64, 64, 3),\n",
        "                             weights='imagenet')\n",
        "\n",
        "\n",
        "#for layer in pre_trained_model.layers[:48]:\n",
        "#    layer.trainable = False\n",
        "#for layer in pre_trained_model.layers[48:]:\n",
        "#    layer.trainable = True\n",
        "\n",
        "for layer in pre_trained_model.layers[:1]:\n",
        "    layer.trainable = False\n",
        "for layer in pre_trained_model.layers[1:]:\n",
        "    layer.trainable = True\n",
        "\n",
        "\n",
        "model = tf.keras.models.Sequential([\n",
        "    pre_trained_model,\n",
        "    layers.Flatten(),\n",
        "    layers.Dense(4096, activation='relu'),\n",
        "    layers.Dropout(0.4),\n",
        "    layers.Dense(4096, activation='relu'),\n",
        "    layers.Dropout(0.4),\n",
        "    layers.Dense(7, activation='softmax')\n",
        "])\n",
        "\n",
        "#print(str(len(pre_trained_model.layers)))"
      ],
      "execution_count": null,
      "outputs": []
    },
    {
      "cell_type": "code",
      "metadata": {
        "id": "_71Emg1ij5i1",
        "colab": {
          "base_uri": "https://localhost:8080/"
        },
        "outputId": "7ba9da77-55d3-4ac5-cef4-a51d5a5536ed"
      },
      "source": [
        "# training\n",
        "from tensorflow.keras.callbacks import ModelCheckpoint, ReduceLROnPlateau, EarlyStopping\n",
        "\n",
        "# max 10 iterations without improvements\n",
        "early_stopping = EarlyStopping(monitor='val_accuracy',\n",
        "                               mode='max',\n",
        "                               patience=10)\n",
        "\n",
        "#saving best model\n",
        "checkpoint = ModelCheckpoint('model.h5',\n",
        "                             monitor='val_accuracy',\n",
        "                             mode='max',\n",
        "                             save_best_only=True,\n",
        "                             verbose=1)\n",
        "\n",
        "callback_list = [early_stopping, checkpoint]\n",
        "\n",
        "batch_size = 32\n",
        "epochs = 30\n",
        "optimizer = Adam(lr=0.0001, beta_1=0.9, beta_2=0.999, epsilon=1e-3)\n",
        "model.compile(optimizer = optimizer, loss = 'categorical_crossentropy', metrics=['accuracy'])\n",
        "datagen = ImageDataGenerator(zoom_range = 0.2, horizontal_flip=True, shear_range=0.2)\n",
        "\n",
        "datagen.fit(X_train)\n",
        "\n",
        "history=model.fit(datagen.flow(X_train,y_train), epochs=epochs, batch_size=batch_size, shuffle=True, callbacks=callback_list, validation_data=(X_test, y_test), class_weight=class_weights)"
      ],
      "execution_count": null,
      "outputs": [
        {
          "output_type": "stream",
          "name": "stderr",
          "text": [
            "/usr/local/lib/python3.7/dist-packages/keras/optimizer_v2/adam.py:105: UserWarning: The `lr` argument is deprecated, use `learning_rate` instead.\n",
            "  super(Adam, self).__init__(name, **kwargs)\n"
          ]
        },
        {
          "output_type": "stream",
          "name": "stdout",
          "text": [
            "Epoch 1/30\n",
            "665/665 [==============================] - ETA: 0s - loss: 1.3075 - accuracy: 0.4695\n",
            "Epoch 00001: val_accuracy improved from -inf to 0.61190, saving model to modelv2_2.h5\n"
          ]
        },
        {
          "output_type": "stream",
          "name": "stderr",
          "text": [
            "/usr/local/lib/python3.7/dist-packages/keras/engine/functional.py:1410: CustomMaskWarning: Custom mask layers require a config and must override get_config. When loading, the custom mask layer must be passed to the custom_objects argument.\n",
            "  layer_config = serialize_layer_fn(layer)\n"
          ]
        },
        {
          "output_type": "stream",
          "name": "stdout",
          "text": [
            "665/665 [==============================] - 123s 162ms/step - loss: 1.3075 - accuracy: 0.4695 - val_loss: 0.9990 - val_accuracy: 0.6119\n",
            "Epoch 2/30\n",
            "665/665 [==============================] - ETA: 0s - loss: 0.8218 - accuracy: 0.6325\n",
            "Epoch 00002: val_accuracy improved from 0.61190 to 0.68154, saving model to modelv2_2.h5\n",
            "665/665 [==============================] - 119s 180ms/step - loss: 0.8218 - accuracy: 0.6325 - val_loss: 0.8400 - val_accuracy: 0.6815\n",
            "Epoch 3/30\n",
            "665/665 [==============================] - ETA: 0s - loss: 0.6508 - accuracy: 0.6937\n",
            "Epoch 00003: val_accuracy improved from 0.68154 to 0.70676, saving model to modelv2_2.h5\n",
            "665/665 [==============================] - 119s 178ms/step - loss: 0.6508 - accuracy: 0.6937 - val_loss: 0.7824 - val_accuracy: 0.7068\n",
            "Epoch 4/30\n",
            "665/665 [==============================] - ETA: 0s - loss: 0.5548 - accuracy: 0.7330\n",
            "Epoch 00004: val_accuracy improved from 0.70676 to 0.73687, saving model to modelv2_2.h5\n",
            "665/665 [==============================] - 114s 172ms/step - loss: 0.5548 - accuracy: 0.7330 - val_loss: 0.6825 - val_accuracy: 0.7369\n",
            "Epoch 5/30\n",
            "665/665 [==============================] - ETA: 0s - loss: 0.4737 - accuracy: 0.7701\n",
            "Epoch 00005: val_accuracy improved from 0.73687 to 0.78901, saving model to modelv2_2.h5\n",
            "665/665 [==============================] - 122s 183ms/step - loss: 0.4737 - accuracy: 0.7701 - val_loss: 0.5614 - val_accuracy: 0.7890\n",
            "Epoch 6/30\n",
            "665/665 [==============================] - ETA: 0s - loss: 0.4001 - accuracy: 0.8030\n",
            "Epoch 00006: val_accuracy did not improve from 0.78901\n",
            "665/665 [==============================] - 98s 147ms/step - loss: 0.4001 - accuracy: 0.8030 - val_loss: 0.7840 - val_accuracy: 0.7086\n",
            "Epoch 7/30\n",
            "665/665 [==============================] - ETA: 0s - loss: 0.3498 - accuracy: 0.8241\n",
            "Epoch 00007: val_accuracy did not improve from 0.78901\n",
            "665/665 [==============================] - 94s 141ms/step - loss: 0.3498 - accuracy: 0.8241 - val_loss: 0.7241 - val_accuracy: 0.7401\n",
            "Epoch 8/30\n",
            "665/665 [==============================] - ETA: 0s - loss: 0.3187 - accuracy: 0.8442\n",
            "Epoch 00008: val_accuracy did not improve from 0.78901\n",
            "665/665 [==============================] - 98s 147ms/step - loss: 0.3187 - accuracy: 0.8442 - val_loss: 0.6010 - val_accuracy: 0.7881\n",
            "Epoch 9/30\n",
            "665/665 [==============================] - ETA: 0s - loss: 0.2884 - accuracy: 0.8570\n",
            "Epoch 00009: val_accuracy did not improve from 0.78901\n",
            "665/665 [==============================] - 93s 140ms/step - loss: 0.2884 - accuracy: 0.8570 - val_loss: 0.9444 - val_accuracy: 0.6970\n",
            "Epoch 10/30\n",
            "665/665 [==============================] - ETA: 0s - loss: 0.2435 - accuracy: 0.8810\n",
            "Epoch 00010: val_accuracy did not improve from 0.78901\n",
            "665/665 [==============================] - 93s 140ms/step - loss: 0.2435 - accuracy: 0.8810 - val_loss: 1.4856 - val_accuracy: 0.5795\n",
            "Epoch 11/30\n",
            "665/665 [==============================] - ETA: 0s - loss: 0.2016 - accuracy: 0.8978\n",
            "Epoch 00011: val_accuracy improved from 0.78901 to 0.80595, saving model to modelv2_2.h5\n",
            "665/665 [==============================] - 112s 168ms/step - loss: 0.2016 - accuracy: 0.8978 - val_loss: 0.5779 - val_accuracy: 0.8059\n",
            "Epoch 12/30\n",
            "665/665 [==============================] - ETA: 0s - loss: 0.1879 - accuracy: 0.9048\n",
            "Epoch 00012: val_accuracy did not improve from 0.80595\n",
            "665/665 [==============================] - 98s 147ms/step - loss: 0.1879 - accuracy: 0.9048 - val_loss: 0.7228 - val_accuracy: 0.7644\n",
            "Epoch 13/30\n",
            "665/665 [==============================] - ETA: 0s - loss: 0.1674 - accuracy: 0.9197\n",
            "Epoch 00013: val_accuracy improved from 0.80595 to 0.87484, saving model to modelv2_2.h5\n",
            "665/665 [==============================] - 112s 169ms/step - loss: 0.1674 - accuracy: 0.9197 - val_loss: 0.3578 - val_accuracy: 0.8748\n",
            "Epoch 14/30\n",
            "665/665 [==============================] - ETA: 0s - loss: 0.1494 - accuracy: 0.9264\n",
            "Epoch 00014: val_accuracy improved from 0.87484 to 0.88538, saving model to modelv2_2.h5\n",
            "665/665 [==============================] - 116s 174ms/step - loss: 0.1494 - accuracy: 0.9264 - val_loss: 0.3479 - val_accuracy: 0.8854\n",
            "Epoch 15/30\n",
            "665/665 [==============================] - ETA: 0s - loss: 0.1408 - accuracy: 0.9324\n",
            "Epoch 00015: val_accuracy did not improve from 0.88538\n",
            "665/665 [==============================] - 95s 142ms/step - loss: 0.1408 - accuracy: 0.9324 - val_loss: 0.6736 - val_accuracy: 0.7794\n",
            "Epoch 16/30\n",
            "665/665 [==============================] - ETA: 0s - loss: 0.1510 - accuracy: 0.9290\n",
            "Epoch 00016: val_accuracy did not improve from 0.88538\n",
            "665/665 [==============================] - 94s 141ms/step - loss: 0.1510 - accuracy: 0.9290 - val_loss: 0.9396 - val_accuracy: 0.7244\n",
            "Epoch 17/30\n",
            "665/665 [==============================] - ETA: 0s - loss: 0.1237 - accuracy: 0.9401\n",
            "Epoch 00017: val_accuracy did not improve from 0.88538\n",
            "665/665 [==============================] - 97s 146ms/step - loss: 0.1237 - accuracy: 0.9401 - val_loss: 0.4086 - val_accuracy: 0.8585\n",
            "Epoch 18/30\n",
            "665/665 [==============================] - ETA: 0s - loss: 0.0977 - accuracy: 0.9511\n",
            "Epoch 00018: val_accuracy did not improve from 0.88538\n",
            "665/665 [==============================] - 98s 147ms/step - loss: 0.0977 - accuracy: 0.9511 - val_loss: 0.5690 - val_accuracy: 0.8161\n",
            "Epoch 19/30\n",
            "665/665 [==============================] - ETA: 0s - loss: 0.0873 - accuracy: 0.9570\n",
            "Epoch 00019: val_accuracy did not improve from 0.88538\n",
            "665/665 [==============================] - 94s 141ms/step - loss: 0.0873 - accuracy: 0.9570 - val_loss: 0.8845 - val_accuracy: 0.7595\n",
            "Epoch 20/30\n",
            "665/665 [==============================] - ETA: 0s - loss: 0.0851 - accuracy: 0.9581\n",
            "Epoch 00020: val_accuracy improved from 0.88538 to 0.89930, saving model to modelv2_2.h5\n",
            "665/665 [==============================] - 111s 167ms/step - loss: 0.0851 - accuracy: 0.9581 - val_loss: 0.3186 - val_accuracy: 0.8993\n",
            "Epoch 21/30\n",
            "665/665 [==============================] - ETA: 0s - loss: 0.1164 - accuracy: 0.9489\n",
            "Epoch 00021: val_accuracy did not improve from 0.89930\n",
            "665/665 [==============================] - 93s 140ms/step - loss: 0.1164 - accuracy: 0.9489 - val_loss: 0.4222 - val_accuracy: 0.8699\n",
            "Epoch 22/30\n",
            "665/665 [==============================] - ETA: 0s - loss: 0.0949 - accuracy: 0.9575\n",
            "Epoch 00022: val_accuracy improved from 0.89930 to 0.91756, saving model to modelv2_2.h5\n",
            "665/665 [==============================] - 116s 175ms/step - loss: 0.0949 - accuracy: 0.9575 - val_loss: 0.2562 - val_accuracy: 0.9176\n",
            "Epoch 23/30\n",
            "665/665 [==============================] - ETA: 0s - loss: 0.0648 - accuracy: 0.9687\n",
            "Epoch 00023: val_accuracy did not improve from 0.91756\n",
            "665/665 [==============================] - 95s 143ms/step - loss: 0.0648 - accuracy: 0.9687 - val_loss: 0.3666 - val_accuracy: 0.8891\n",
            "Epoch 24/30\n",
            "665/665 [==============================] - ETA: 0s - loss: 0.0721 - accuracy: 0.9668\n",
            "Epoch 00024: val_accuracy improved from 0.91756 to 0.91775, saving model to modelv2_2.h5\n",
            "665/665 [==============================] - 116s 174ms/step - loss: 0.0721 - accuracy: 0.9668 - val_loss: 0.2873 - val_accuracy: 0.9177\n",
            "Epoch 25/30\n",
            "665/665 [==============================] - ETA: 0s - loss: 0.0636 - accuracy: 0.9689\n",
            "Epoch 00025: val_accuracy did not improve from 0.91775\n",
            "665/665 [==============================] - 99s 149ms/step - loss: 0.0636 - accuracy: 0.9689 - val_loss: 0.3474 - val_accuracy: 0.8935\n",
            "Epoch 26/30\n",
            "665/665 [==============================] - ETA: 0s - loss: 0.0588 - accuracy: 0.9721\n",
            "Epoch 00026: val_accuracy did not improve from 0.91775\n",
            "665/665 [==============================] - 94s 141ms/step - loss: 0.0588 - accuracy: 0.9721 - val_loss: 0.5153 - val_accuracy: 0.8470\n",
            "Epoch 27/30\n",
            "665/665 [==============================] - ETA: 0s - loss: 0.0458 - accuracy: 0.9772\n",
            "Epoch 00027: val_accuracy did not improve from 0.91775\n",
            "665/665 [==============================] - 94s 141ms/step - loss: 0.0458 - accuracy: 0.9772 - val_loss: 0.3802 - val_accuracy: 0.8993\n",
            "Epoch 28/30\n",
            "665/665 [==============================] - ETA: 0s - loss: 0.0575 - accuracy: 0.9724\n",
            "Epoch 00028: val_accuracy did not improve from 0.91775\n",
            "665/665 [==============================] - 94s 142ms/step - loss: 0.0575 - accuracy: 0.9724 - val_loss: 0.2858 - val_accuracy: 0.9129\n",
            "Epoch 29/30\n",
            "665/665 [==============================] - ETA: 0s - loss: 0.0614 - accuracy: 0.9740\n",
            "Epoch 00029: val_accuracy did not improve from 0.91775\n",
            "665/665 [==============================] - 98s 148ms/step - loss: 0.0614 - accuracy: 0.9740 - val_loss: 0.5499 - val_accuracy: 0.8421\n",
            "Epoch 30/30\n",
            "665/665 [==============================] - ETA: 0s - loss: 0.0676 - accuracy: 0.9676\n",
            "Epoch 00030: val_accuracy did not improve from 0.91775\n",
            "665/665 [==============================] - 98s 148ms/step - loss: 0.0676 - accuracy: 0.9676 - val_loss: 0.3302 - val_accuracy: 0.8976\n"
          ]
        }
      ]
    },
    {
      "cell_type": "code",
      "metadata": {
        "id": "PcnjI5NYj5oR"
      },
      "source": [
        "#getting the iteration results\n",
        "history_df = pd.DataFrame(history.history)\n",
        "history_df.to_csv('resnetV152_hyper.csv')"
      ],
      "execution_count": null,
      "outputs": []
    },
    {
      "cell_type": "code",
      "metadata": {
        "colab": {
          "base_uri": "https://localhost:8080/",
          "height": 979
        },
        "id": "IB554ZQrzbnI",
        "outputId": "196c6c79-e36c-4b3e-ebe2-5c03bb176d0d"
      },
      "source": [
        "history_df"
      ],
      "execution_count": null,
      "outputs": [
        {
          "output_type": "execute_result",
          "data": {
            "text/html": [
              "<div>\n",
              "<style scoped>\n",
              "    .dataframe tbody tr th:only-of-type {\n",
              "        vertical-align: middle;\n",
              "    }\n",
              "\n",
              "    .dataframe tbody tr th {\n",
              "        vertical-align: top;\n",
              "    }\n",
              "\n",
              "    .dataframe thead th {\n",
              "        text-align: right;\n",
              "    }\n",
              "</style>\n",
              "<table border=\"1\" class=\"dataframe\">\n",
              "  <thead>\n",
              "    <tr style=\"text-align: right;\">\n",
              "      <th></th>\n",
              "      <th>loss</th>\n",
              "      <th>accuracy</th>\n",
              "      <th>val_loss</th>\n",
              "      <th>val_accuracy</th>\n",
              "    </tr>\n",
              "  </thead>\n",
              "  <tbody>\n",
              "    <tr>\n",
              "      <th>0</th>\n",
              "      <td>1.307504</td>\n",
              "      <td>0.469509</td>\n",
              "      <td>0.999048</td>\n",
              "      <td>0.611895</td>\n",
              "    </tr>\n",
              "    <tr>\n",
              "      <th>1</th>\n",
              "      <td>0.821762</td>\n",
              "      <td>0.632458</td>\n",
              "      <td>0.840048</td>\n",
              "      <td>0.681536</td>\n",
              "    </tr>\n",
              "    <tr>\n",
              "      <th>2</th>\n",
              "      <td>0.650813</td>\n",
              "      <td>0.693676</td>\n",
              "      <td>0.782364</td>\n",
              "      <td>0.706757</td>\n",
              "    </tr>\n",
              "    <tr>\n",
              "      <th>3</th>\n",
              "      <td>0.554826</td>\n",
              "      <td>0.733013</td>\n",
              "      <td>0.682473</td>\n",
              "      <td>0.736872</td>\n",
              "    </tr>\n",
              "    <tr>\n",
              "      <th>4</th>\n",
              "      <td>0.473731</td>\n",
              "      <td>0.770139</td>\n",
              "      <td>0.561360</td>\n",
              "      <td>0.789008</td>\n",
              "    </tr>\n",
              "    <tr>\n",
              "      <th>5</th>\n",
              "      <td>0.400069</td>\n",
              "      <td>0.802983</td>\n",
              "      <td>0.783966</td>\n",
              "      <td>0.708639</td>\n",
              "    </tr>\n",
              "    <tr>\n",
              "      <th>6</th>\n",
              "      <td>0.349781</td>\n",
              "      <td>0.824064</td>\n",
              "      <td>0.724118</td>\n",
              "      <td>0.740072</td>\n",
              "    </tr>\n",
              "    <tr>\n",
              "      <th>7</th>\n",
              "      <td>0.318666</td>\n",
              "      <td>0.844156</td>\n",
              "      <td>0.601026</td>\n",
              "      <td>0.788067</td>\n",
              "    </tr>\n",
              "    <tr>\n",
              "      <th>8</th>\n",
              "      <td>0.288390</td>\n",
              "      <td>0.857002</td>\n",
              "      <td>0.944396</td>\n",
              "      <td>0.696970</td>\n",
              "    </tr>\n",
              "    <tr>\n",
              "      <th>9</th>\n",
              "      <td>0.243456</td>\n",
              "      <td>0.881046</td>\n",
              "      <td>1.485562</td>\n",
              "      <td>0.579522</td>\n",
              "    </tr>\n",
              "    <tr>\n",
              "      <th>10</th>\n",
              "      <td>0.201594</td>\n",
              "      <td>0.897751</td>\n",
              "      <td>0.577910</td>\n",
              "      <td>0.805948</td>\n",
              "    </tr>\n",
              "    <tr>\n",
              "      <th>11</th>\n",
              "      <td>0.187946</td>\n",
              "      <td>0.904762</td>\n",
              "      <td>0.722767</td>\n",
              "      <td>0.764352</td>\n",
              "    </tr>\n",
              "    <tr>\n",
              "      <th>12</th>\n",
              "      <td>0.167442</td>\n",
              "      <td>0.919725</td>\n",
              "      <td>0.357763</td>\n",
              "      <td>0.874835</td>\n",
              "    </tr>\n",
              "    <tr>\n",
              "      <th>13</th>\n",
              "      <td>0.149375</td>\n",
              "      <td>0.926407</td>\n",
              "      <td>0.347927</td>\n",
              "      <td>0.885375</td>\n",
              "    </tr>\n",
              "    <tr>\n",
              "      <th>14</th>\n",
              "      <td>0.140821</td>\n",
              "      <td>0.932430</td>\n",
              "      <td>0.673626</td>\n",
              "      <td>0.779409</td>\n",
              "    </tr>\n",
              "    <tr>\n",
              "      <th>15</th>\n",
              "      <td>0.150956</td>\n",
              "      <td>0.929042</td>\n",
              "      <td>0.939605</td>\n",
              "      <td>0.724449</td>\n",
              "    </tr>\n",
              "    <tr>\n",
              "      <th>16</th>\n",
              "      <td>0.123659</td>\n",
              "      <td>0.940053</td>\n",
              "      <td>0.408585</td>\n",
              "      <td>0.858460</td>\n",
              "    </tr>\n",
              "    <tr>\n",
              "      <th>17</th>\n",
              "      <td>0.097749</td>\n",
              "      <td>0.951110</td>\n",
              "      <td>0.569021</td>\n",
              "      <td>0.816111</td>\n",
              "    </tr>\n",
              "    <tr>\n",
              "      <th>18</th>\n",
              "      <td>0.087281</td>\n",
              "      <td>0.957039</td>\n",
              "      <td>0.884524</td>\n",
              "      <td>0.759458</td>\n",
              "    </tr>\n",
              "    <tr>\n",
              "      <th>19</th>\n",
              "      <td>0.085105</td>\n",
              "      <td>0.958122</td>\n",
              "      <td>0.318570</td>\n",
              "      <td>0.899304</td>\n",
              "    </tr>\n",
              "    <tr>\n",
              "      <th>20</th>\n",
              "      <td>0.116355</td>\n",
              "      <td>0.948899</td>\n",
              "      <td>0.422178</td>\n",
              "      <td>0.869942</td>\n",
              "    </tr>\n",
              "    <tr>\n",
              "      <th>21</th>\n",
              "      <td>0.094866</td>\n",
              "      <td>0.957463</td>\n",
              "      <td>0.256243</td>\n",
              "      <td>0.917561</td>\n",
              "    </tr>\n",
              "    <tr>\n",
              "      <th>22</th>\n",
              "      <td>0.064783</td>\n",
              "      <td>0.968709</td>\n",
              "      <td>0.366603</td>\n",
              "      <td>0.889140</td>\n",
              "    </tr>\n",
              "    <tr>\n",
              "      <th>23</th>\n",
              "      <td>0.072070</td>\n",
              "      <td>0.966780</td>\n",
              "      <td>0.287298</td>\n",
              "      <td>0.917749</td>\n",
              "    </tr>\n",
              "    <tr>\n",
              "      <th>24</th>\n",
              "      <td>0.063592</td>\n",
              "      <td>0.968850</td>\n",
              "      <td>0.347440</td>\n",
              "      <td>0.893469</td>\n",
              "    </tr>\n",
              "    <tr>\n",
              "      <th>25</th>\n",
              "      <td>0.058850</td>\n",
              "      <td>0.972144</td>\n",
              "      <td>0.515264</td>\n",
              "      <td>0.846979</td>\n",
              "    </tr>\n",
              "    <tr>\n",
              "      <th>26</th>\n",
              "      <td>0.045808</td>\n",
              "      <td>0.977226</td>\n",
              "      <td>0.380185</td>\n",
              "      <td>0.899304</td>\n",
              "    </tr>\n",
              "    <tr>\n",
              "      <th>27</th>\n",
              "      <td>0.057504</td>\n",
              "      <td>0.972426</td>\n",
              "      <td>0.285802</td>\n",
              "      <td>0.912855</td>\n",
              "    </tr>\n",
              "    <tr>\n",
              "      <th>28</th>\n",
              "      <td>0.061417</td>\n",
              "      <td>0.973979</td>\n",
              "      <td>0.549895</td>\n",
              "      <td>0.842085</td>\n",
              "    </tr>\n",
              "    <tr>\n",
              "      <th>29</th>\n",
              "      <td>0.067612</td>\n",
              "      <td>0.967627</td>\n",
              "      <td>0.330195</td>\n",
              "      <td>0.897610</td>\n",
              "    </tr>\n",
              "  </tbody>\n",
              "</table>\n",
              "</div>"
            ],
            "text/plain": [
              "        loss  accuracy  val_loss  val_accuracy\n",
              "0   1.307504  0.469509  0.999048      0.611895\n",
              "1   0.821762  0.632458  0.840048      0.681536\n",
              "2   0.650813  0.693676  0.782364      0.706757\n",
              "3   0.554826  0.733013  0.682473      0.736872\n",
              "4   0.473731  0.770139  0.561360      0.789008\n",
              "5   0.400069  0.802983  0.783966      0.708639\n",
              "6   0.349781  0.824064  0.724118      0.740072\n",
              "7   0.318666  0.844156  0.601026      0.788067\n",
              "8   0.288390  0.857002  0.944396      0.696970\n",
              "9   0.243456  0.881046  1.485562      0.579522\n",
              "10  0.201594  0.897751  0.577910      0.805948\n",
              "11  0.187946  0.904762  0.722767      0.764352\n",
              "12  0.167442  0.919725  0.357763      0.874835\n",
              "13  0.149375  0.926407  0.347927      0.885375\n",
              "14  0.140821  0.932430  0.673626      0.779409\n",
              "15  0.150956  0.929042  0.939605      0.724449\n",
              "16  0.123659  0.940053  0.408585      0.858460\n",
              "17  0.097749  0.951110  0.569021      0.816111\n",
              "18  0.087281  0.957039  0.884524      0.759458\n",
              "19  0.085105  0.958122  0.318570      0.899304\n",
              "20  0.116355  0.948899  0.422178      0.869942\n",
              "21  0.094866  0.957463  0.256243      0.917561\n",
              "22  0.064783  0.968709  0.366603      0.889140\n",
              "23  0.072070  0.966780  0.287298      0.917749\n",
              "24  0.063592  0.968850  0.347440      0.893469\n",
              "25  0.058850  0.972144  0.515264      0.846979\n",
              "26  0.045808  0.977226  0.380185      0.899304\n",
              "27  0.057504  0.972426  0.285802      0.912855\n",
              "28  0.061417  0.973979  0.549895      0.842085\n",
              "29  0.067612  0.967627  0.330195      0.897610"
            ]
          },
          "metadata": {},
          "execution_count": 62
        }
      ]
    },
    {
      "cell_type": "code",
      "metadata": {
        "colab": {
          "base_uri": "https://localhost:8080/"
        },
        "id": "JrHQ6JvEzU4T",
        "outputId": "f8c9ac8b-fb33-4cf7-bd5e-0285958508b2"
      },
      "source": [
        "# getting the best model\n",
        "model = load_model('model.h5')\n",
        "scores = model.evaluate(X_test, y_test, verbose=1)\n",
        "print(\"Accuracy: %.2f%%\" % (scores[1]*100))"
      ],
      "execution_count": null,
      "outputs": [
        {
          "output_type": "stream",
          "name": "stdout",
          "text": [
            "167/167 [==============================] - 9s 42ms/step - loss: 0.2873 - accuracy: 0.9177\n",
            "Accuracy: 91.77%\n"
          ]
        }
      ]
    },
    {
      "cell_type": "code",
      "metadata": {
        "colab": {
          "base_uri": "https://localhost:8080/",
          "height": 573
        },
        "id": "alZnFJchzU9q",
        "outputId": "cac8e5c0-8f1a-4f72-ad58-a8988b6b5cae"
      },
      "source": [
        "# summarize history for accuracy\n",
        "plt.plot(history.history['accuracy'])\n",
        "plt.plot(history.history['val_accuracy'])\n",
        "plt.title('model accuracy')\n",
        "plt.ylabel('accuracy')\n",
        "plt.xlabel('epoch')\n",
        "plt.legend(['train', 'test'], loc='upper left')\n",
        "plt.show()\n",
        "# summarize history for loss\n",
        "plt.plot(history.history['loss'])\n",
        "plt.plot(history.history['val_loss'])\n",
        "plt.title('model loss')\n",
        "plt.ylabel('loss')\n",
        "plt.xlabel('epoch')\n",
        "plt.legend(['train', 'test'], loc='upper left')\n",
        "plt.show()"
      ],
      "execution_count": null,
      "outputs": [
        {
          "output_type": "display_data",
          "data": {
            "image/png": "[encoded data removed]",
            "text/plain": [
              "<Figure size 432x288 with 1 Axes>"
            ]
          },
          "metadata": {
            "needs_background": "light"
          }
        },
        {
          "output_type": "display_data",
          "data": {
            "image/png": "[encoded data removed]",
            "text/plain": [
              "<Figure size 432x288 with 1 Axes>"
            ]
          },
          "metadata": {
            "needs_background": "light"
          }
        }
      ]
    },
    {
      "cell_type": "code",
      "metadata": {
        "colab": {
          "base_uri": "https://localhost:8080/"
        },
        "id": "x2ttnXRpzVDq",
        "outputId": "e11a3d67-fd48-4d99-9f10-ebeb8ac89f5e"
      },
      "source": [
        "y_pred = model.predict(X_test)\n",
        "\n",
        "total = 0\n",
        "accurate = 0\n",
        "accurateindex = []\n",
        "wrongindex = []\n",
        "\n",
        "for i in range(len(y_pred)):\n",
        "    if np.argmax(y_pred[i]) == np.argmax(y_test[i]):\n",
        "        accurate += 1\n",
        "        accurateindex.append(i)\n",
        "    else:\n",
        "        wrongindex.append(i)\n",
        "        \n",
        "    total += 1\n",
        "    \n",
        "print('Total-test-data;', total, '\\taccurately-predicted-data:', accurate, '\\t wrongly-predicted-data: ', total - accurate)\n",
        "\n",
        "print('Accuracy:', round(accurate/total*100, 3), '%')"
      ],
      "execution_count": null,
      "outputs": [
        {
          "output_type": "stream",
          "name": "stdout",
          "text": [
            "Total-test-data; 5313 \taccurately-predicted-data: 4876 \t wrongly-predicted-data:  437\n",
            "Accuracy: 91.775 %\n"
          ]
        }
      ]
    },
    {
      "cell_type": "code",
      "source": [
        "best_model = load_model('model.h5')\n",
        "\n",
        "# compute predictions\n",
        "y_pred_prob = np.around(best_model.predict(X_test),3)\n",
        "y_pred = np.argmax(y_pred_prob,axis=1)\n",
        "\n",
        "y_test2 = np.argmax(y_test,axis=1)"
      ],
      "metadata": {
        "id": "WwHiZARWeofJ"
      },
      "execution_count": null,
      "outputs": []
    },
    {
      "cell_type": "code",
      "metadata": {
        "id": "Reg-YEDJ1kp6"
      },
      "source": [
        "file_name = \"ResNet.pkl\"\n",
        "\n",
        "open_file = open(file_name, \"wb\")\n",
        "pickle.dump(best_model, open_file)\n",
        "open_file.close()"
      ],
      "execution_count": null,
      "outputs": []
    },
    {
      "cell_type": "code",
      "metadata": {
        "id": "n2MMdhbV1VP-"
      },
      "source": [
        "lesion_names = ['Melanocytic nevi','Melanoma','Benign keratosis-like lesions ',\n",
        "               'Basal cell carcinoma','Actinic keratoses','Vascular lesions',\n",
        "               'Dermatofibroma']"
      ],
      "execution_count": null,
      "outputs": []
    },
    {
      "cell_type": "code",
      "metadata": {
        "id": "SPETpPrvj5t2",
        "colab": {
          "base_uri": "https://localhost:8080/"
        },
        "outputId": "50f4de01-b4de-45a9-f530-52c7c2b9531a"
      },
      "source": [
        "acc_tot= []\n",
        "\n",
        "for i in range(7):\n",
        "    acc_parz = round(np.mean(y_test2[y_test2 == i] == y_pred[y_test2 == i]),2)\n",
        "    lab_parz = lesion_names[i]\n",
        "    print('accuracy for',lab_parz,'=',acc_parz)\n",
        "    acc_tot.append(acc_parz)"
      ],
      "execution_count": null,
      "outputs": [
        {
          "output_type": "stream",
          "name": "stdout",
          "text": [
            "accuracy for Melanocytic nevi = 0.95\n",
            "accuracy for Melanoma = 0.92\n",
            "accuracy for Benign keratosis-like lesions  = 0.95\n",
            "accuracy for Basal cell carcinoma = 0.97\n",
            "accuracy for Actinic keratoses = 0.83\n",
            "accuracy for Vascular lesions = 0.94\n",
            "accuracy for Dermatofibroma = 0.99\n"
          ]
        }
      ]
    },
    {
      "cell_type": "code",
      "metadata": {
        "colab": {
          "base_uri": "https://localhost:8080/"
        },
        "id": "v5bZLFKW0usF",
        "outputId": "3652af65-e4df-414b-9db8-230e94fa3871"
      },
      "source": [
        "acc_tot = np.array(acc_tot)\n",
        "freq = np.unique(y_test2,return_counts=True)[1]\n",
        "\n",
        "np.sum(acc_tot*freq)/np.sum(freq)"
      ],
      "execution_count": null,
      "outputs": [
        {
          "output_type": "execute_result",
          "data": {
            "text/plain": [
              "0.9161603613777526"
            ]
          },
          "metadata": {},
          "execution_count": 69
        }
      ]
    },
    {
      "cell_type": "code",
      "metadata": {
        "colab": {
          "base_uri": "https://localhost:8080/"
        },
        "id": "WX4wf4j10uxc",
        "outputId": "98817fe5-3701-4b3e-83ff-2a91285f4f83"
      },
      "source": [
        "from sklearn.metrics import confusion_matrix\n",
        "train_pred = best_model.predict(X_train)\n",
        "train_pred_classes = np.argmax(train_pred,axis = 1)\n",
        "test_pred = best_model.predict(X_test)\n",
        "# Convert predictions classes to one hot vectors \n",
        "test_pred_classes = np.argmax(test_pred,axis = 1) \n",
        "\n",
        "confusionmatrix = confusion_matrix(y_test, test_pred_classes)\n",
        "confusionmatrix"
      ],
      "execution_count": null,
      "outputs": [
        {
          "output_type": "execute_result",
          "data": {
            "text/plain": [
              "array([[ 407,    4,   14,    0,    1,    2,    0],\n",
              "       [  15,  608,   16,   11,    2,    8,    1],\n",
              "       [   6,    5, 1220,    1,   14,   38,    0],\n",
              "       [   2,    0,    2,  132,    0,    0,    0],\n",
              "       [   6,   16,   91,    3, 1085,   99,    4],\n",
              "       [   4,    2,   24,    0,   44, 1250,    0],\n",
              "       [   0,    0,    0,    0,    1,    1,  174]])"
            ]
          },
          "metadata": {},
          "execution_count": 31
        }
      ]
    },
    {
      "cell_type": "code",
      "metadata": {
        "colab": {
          "base_uri": "https://localhost:8080/"
        },
        "id": "ZDDiNHRtCsOG",
        "outputId": "46986204-266e-41d4-86e4-92ed91574c1d"
      },
      "source": [
        "from sklearn.metrics import confusion_matrix\n",
        "train_pred = best_model.predict(X_train)\n",
        "train_pred_classes = np.argmax(train_pred,axis = 1)\n",
        "test_pred = best_model.predict(X_test)\n",
        "# Convert predictions classes to one hot vectors \n",
        "test_pred_classes = np.argmax(test_pred,axis = 1) \n",
        "\n",
        "confusionmatrix = confusion_matrix(y_test, test_pred_classes)\n",
        "confusionmatrix"
      ],
      "execution_count": null,
      "outputs": [
        {
          "output_type": "execute_result",
          "data": {
            "text/plain": [
              "array([[ 407,    4,   14,    0,    1,    2,    0],\n",
              "       [  15,  608,   16,   11,    2,    8,    1],\n",
              "       [   6,    5, 1220,    1,   14,   38,    0],\n",
              "       [   2,    0,    2,  132,    0,    0,    0],\n",
              "       [   6,   16,   91,    3, 1085,   99,    4],\n",
              "       [   4,    2,   24,    0,   44, 1250,    0],\n",
              "       [   0,    0,    0,    0,    1,    1,  174]])"
            ]
          },
          "metadata": {},
          "execution_count": 58
        }
      ]
    },
    {
      "cell_type": "code",
      "metadata": {
        "id": "dGgIFIpdDEUG"
      },
      "source": [
        "classes=[0,1,2,3,4,5,6]"
      ],
      "execution_count": null,
      "outputs": []
    },
    {
      "cell_type": "code",
      "metadata": {
        "id": "v7fmYpbj0u8h"
      },
      "source": [
        "con_mat_norm = np.around(confusionmatrix.astype('float') / confusionmatrix.sum(axis=1)[:, np.newaxis], decimals=2)\n",
        "\n",
        "con_mat_df = pd.DataFrame(con_mat_norm,\n",
        "                     index = classes, \n",
        "                     columns = classes)"
      ],
      "execution_count": null,
      "outputs": []
    },
    {
      "cell_type": "code",
      "metadata": {
        "colab": {
          "base_uri": "https://localhost:8080/",
          "height": 599
        },
        "id": "QVc4Ouc6DGlG",
        "outputId": "2c974ce7-ea3d-4734-b7d8-b789510654bd"
      },
      "source": [
        "figure = plt.figure(figsize=(8, 8))\n",
        "sns.heatmap(con_mat_df, annot=True,cmap=plt.cm.Blues)\n",
        "plt.tight_layout()\n",
        "plt.ylabel('True label')\n",
        "plt.xlabel('Predicted label')\n",
        "plt.show()"
      ],
      "execution_count": null,
      "outputs": [
        {
          "output_type": "display_data",
          "data": {
            "image/png": "[encoded data removed]",
            "text/plain": [
              "<Figure size 576x576 with 2 Axes>"
            ]
          },
          "metadata": {
            "needs_background": "light"
          }
        }
      ]
    }
  ]
}
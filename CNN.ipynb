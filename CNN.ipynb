{
  "nbformat": 4,
  "nbformat_minor": 0,
  "metadata": {
    "accelerator": "GPU",
    "colab": {
      "name": "CNN.ipynb",
      "provenance": [],
      "collapsed_sections": []
    },
    "kernelspec": {
      "display_name": "Python 3",
      "name": "python3"
    },
    "language_info": {
      "name": "python"
    }
  },
  "cells": [
    {
      "cell_type": "code",
      "metadata": {
        "colab": {
          "base_uri": "https://localhost:8080/"
        },
        "id": "KmEwMjqsRCgJ",
        "outputId": "5ad60c1e-94fc-4dbe-fe2a-17e0c506e547"
      },
      "source": [
        "from google.colab import drive\n",
        "drive.mount('/content/drive/', force_remount=True)\n",
        "%cd '/content/drive/MyDrive/Project_682'"
      ],
      "execution_count": null,
      "outputs": [
        {
          "output_type": "stream",
          "name": "stdout",
          "text": [
            "Mounted at /content/drive/\n",
            "/content/drive/MyDrive/Project_682\n"
          ]
        }
      ]
    },
    {
      "cell_type": "code",
      "metadata": {
        "id": "7DTv4cg1RHdl"
      },
      "source": [
        "import matplotlib.pyplot as plt\n",
        "from PIL import Image\n",
        "import seaborn as sns\n",
        "import numpy as np\n",
        "import pandas as pd\n",
        "import os\n",
        "from tensorflow.keras.utils import to_categorical\n",
        "from glob import glob\n",
        "from tensorflow.keras.preprocessing.image import ImageDataGenerator"
      ],
      "execution_count": null,
      "outputs": []
    },
    {
      "cell_type": "markdown",
      "source": [
        "## Loading and Cleaning Metadata"
      ],
      "metadata": {
        "id": "BAfAi2-eicur"
      }
    },
    {
      "cell_type": "code",
      "metadata": {
        "id": "d4IEUljSRYQV"
      },
      "source": [
        "df = pd.read_csv('HAM10000_metadata.csv')"
      ],
      "execution_count": null,
      "outputs": []
    },
    {
      "cell_type": "code",
      "metadata": {
        "colab": {
          "base_uri": "https://localhost:8080/",
          "height": 419
        },
        "id": "lOA2WQ-8RZwI",
        "outputId": "7f58d91d-8475-49cc-c7c9-7a6d7a7b0d1e"
      },
      "source": [
        "df"
      ],
      "execution_count": null,
      "outputs": [
        {
          "output_type": "execute_result",
          "data": {
            "text/html": [
              "<div>\n",
              "<style scoped>\n",
              "    .dataframe tbody tr th:only-of-type {\n",
              "        vertical-align: middle;\n",
              "    }\n",
              "\n",
              "    .dataframe tbody tr th {\n",
              "        vertical-align: top;\n",
              "    }\n",
              "\n",
              "    .dataframe thead th {\n",
              "        text-align: right;\n",
              "    }\n",
              "</style>\n",
              "<table border=\"1\" class=\"dataframe\">\n",
              "  <thead>\n",
              "    <tr style=\"text-align: right;\">\n",
              "      <th></th>\n",
              "      <th>lesion_id</th>\n",
              "      <th>image_id</th>\n",
              "      <th>dx</th>\n",
              "      <th>dx_type</th>\n",
              "      <th>age</th>\n",
              "      <th>sex</th>\n",
              "      <th>localization</th>\n",
              "      <th>dataset</th>\n",
              "    </tr>\n",
              "  </thead>\n",
              "  <tbody>\n",
              "    <tr>\n",
              "      <th>0</th>\n",
              "      <td>HAM_0000118</td>\n",
              "      <td>ISIC_0027419</td>\n",
              "      <td>bkl</td>\n",
              "      <td>histo</td>\n",
              "      <td>80.0</td>\n",
              "      <td>male</td>\n",
              "      <td>scalp</td>\n",
              "      <td>vidir_modern</td>\n",
              "    </tr>\n",
              "    <tr>\n",
              "      <th>1</th>\n",
              "      <td>HAM_0000118</td>\n",
              "      <td>ISIC_0025030</td>\n",
              "      <td>bkl</td>\n",
              "      <td>histo</td>\n",
              "      <td>80.0</td>\n",
              "      <td>male</td>\n",
              "      <td>scalp</td>\n",
              "      <td>vidir_modern</td>\n",
              "    </tr>\n",
              "    <tr>\n",
              "      <th>2</th>\n",
              "      <td>HAM_0002730</td>\n",
              "      <td>ISIC_0026769</td>\n",
              "      <td>bkl</td>\n",
              "      <td>histo</td>\n",
              "      <td>80.0</td>\n",
              "      <td>male</td>\n",
              "      <td>scalp</td>\n",
              "      <td>vidir_modern</td>\n",
              "    </tr>\n",
              "    <tr>\n",
              "      <th>3</th>\n",
              "      <td>HAM_0002730</td>\n",
              "      <td>ISIC_0025661</td>\n",
              "      <td>bkl</td>\n",
              "      <td>histo</td>\n",
              "      <td>80.0</td>\n",
              "      <td>male</td>\n",
              "      <td>scalp</td>\n",
              "      <td>vidir_modern</td>\n",
              "    </tr>\n",
              "    <tr>\n",
              "      <th>4</th>\n",
              "      <td>HAM_0001466</td>\n",
              "      <td>ISIC_0031633</td>\n",
              "      <td>bkl</td>\n",
              "      <td>histo</td>\n",
              "      <td>75.0</td>\n",
              "      <td>male</td>\n",
              "      <td>ear</td>\n",
              "      <td>vidir_modern</td>\n",
              "    </tr>\n",
              "    <tr>\n",
              "      <th>...</th>\n",
              "      <td>...</td>\n",
              "      <td>...</td>\n",
              "      <td>...</td>\n",
              "      <td>...</td>\n",
              "      <td>...</td>\n",
              "      <td>...</td>\n",
              "      <td>...</td>\n",
              "      <td>...</td>\n",
              "    </tr>\n",
              "    <tr>\n",
              "      <th>10010</th>\n",
              "      <td>HAM_0002867</td>\n",
              "      <td>ISIC_0033084</td>\n",
              "      <td>akiec</td>\n",
              "      <td>histo</td>\n",
              "      <td>40.0</td>\n",
              "      <td>male</td>\n",
              "      <td>abdomen</td>\n",
              "      <td>vidir_modern</td>\n",
              "    </tr>\n",
              "    <tr>\n",
              "      <th>10011</th>\n",
              "      <td>HAM_0002867</td>\n",
              "      <td>ISIC_0033550</td>\n",
              "      <td>akiec</td>\n",
              "      <td>histo</td>\n",
              "      <td>40.0</td>\n",
              "      <td>male</td>\n",
              "      <td>abdomen</td>\n",
              "      <td>vidir_modern</td>\n",
              "    </tr>\n",
              "    <tr>\n",
              "      <th>10012</th>\n",
              "      <td>HAM_0002867</td>\n",
              "      <td>ISIC_0033536</td>\n",
              "      <td>akiec</td>\n",
              "      <td>histo</td>\n",
              "      <td>40.0</td>\n",
              "      <td>male</td>\n",
              "      <td>abdomen</td>\n",
              "      <td>vidir_modern</td>\n",
              "    </tr>\n",
              "    <tr>\n",
              "      <th>10013</th>\n",
              "      <td>HAM_0000239</td>\n",
              "      <td>ISIC_0032854</td>\n",
              "      <td>akiec</td>\n",
              "      <td>histo</td>\n",
              "      <td>80.0</td>\n",
              "      <td>male</td>\n",
              "      <td>face</td>\n",
              "      <td>vidir_modern</td>\n",
              "    </tr>\n",
              "    <tr>\n",
              "      <th>10014</th>\n",
              "      <td>HAM_0003521</td>\n",
              "      <td>ISIC_0032258</td>\n",
              "      <td>mel</td>\n",
              "      <td>histo</td>\n",
              "      <td>70.0</td>\n",
              "      <td>female</td>\n",
              "      <td>back</td>\n",
              "      <td>vidir_modern</td>\n",
              "    </tr>\n",
              "  </tbody>\n",
              "</table>\n",
              "<p>10015 rows × 8 columns</p>\n",
              "</div>"
            ],
            "text/plain": [
              "         lesion_id      image_id     dx  ...     sex  localization       dataset\n",
              "0      HAM_0000118  ISIC_0027419    bkl  ...    male         scalp  vidir_modern\n",
              "1      HAM_0000118  ISIC_0025030    bkl  ...    male         scalp  vidir_modern\n",
              "2      HAM_0002730  ISIC_0026769    bkl  ...    male         scalp  vidir_modern\n",
              "3      HAM_0002730  ISIC_0025661    bkl  ...    male         scalp  vidir_modern\n",
              "4      HAM_0001466  ISIC_0031633    bkl  ...    male           ear  vidir_modern\n",
              "...            ...           ...    ...  ...     ...           ...           ...\n",
              "10010  HAM_0002867  ISIC_0033084  akiec  ...    male       abdomen  vidir_modern\n",
              "10011  HAM_0002867  ISIC_0033550  akiec  ...    male       abdomen  vidir_modern\n",
              "10012  HAM_0002867  ISIC_0033536  akiec  ...    male       abdomen  vidir_modern\n",
              "10013  HAM_0000239  ISIC_0032854  akiec  ...    male          face  vidir_modern\n",
              "10014  HAM_0003521  ISIC_0032258    mel  ...  female          back  vidir_modern\n",
              "\n",
              "[10015 rows x 8 columns]"
            ]
          },
          "metadata": {},
          "execution_count": 4
        }
      ]
    },
    {
      "cell_type": "code",
      "metadata": {
        "colab": {
          "base_uri": "https://localhost:8080/",
          "height": 390
        },
        "id": "RpQLxbL0RbI1",
        "outputId": "46dc59a5-2384-49b6-db13-ba46d7dc186c"
      },
      "source": [
        "df.describe(include='all')"
      ],
      "execution_count": null,
      "outputs": [
        {
          "output_type": "execute_result",
          "data": {
            "text/html": [
              "<div>\n",
              "<style scoped>\n",
              "    .dataframe tbody tr th:only-of-type {\n",
              "        vertical-align: middle;\n",
              "    }\n",
              "\n",
              "    .dataframe tbody tr th {\n",
              "        vertical-align: top;\n",
              "    }\n",
              "\n",
              "    .dataframe thead th {\n",
              "        text-align: right;\n",
              "    }\n",
              "</style>\n",
              "<table border=\"1\" class=\"dataframe\">\n",
              "  <thead>\n",
              "    <tr style=\"text-align: right;\">\n",
              "      <th></th>\n",
              "      <th>lesion_id</th>\n",
              "      <th>image_id</th>\n",
              "      <th>dx</th>\n",
              "      <th>dx_type</th>\n",
              "      <th>age</th>\n",
              "      <th>sex</th>\n",
              "      <th>localization</th>\n",
              "      <th>dataset</th>\n",
              "    </tr>\n",
              "  </thead>\n",
              "  <tbody>\n",
              "    <tr>\n",
              "      <th>count</th>\n",
              "      <td>10015</td>\n",
              "      <td>10015</td>\n",
              "      <td>10015</td>\n",
              "      <td>10015</td>\n",
              "      <td>9958.000000</td>\n",
              "      <td>10015</td>\n",
              "      <td>10015</td>\n",
              "      <td>10015</td>\n",
              "    </tr>\n",
              "    <tr>\n",
              "      <th>unique</th>\n",
              "      <td>7470</td>\n",
              "      <td>10015</td>\n",
              "      <td>7</td>\n",
              "      <td>4</td>\n",
              "      <td>NaN</td>\n",
              "      <td>3</td>\n",
              "      <td>15</td>\n",
              "      <td>4</td>\n",
              "    </tr>\n",
              "    <tr>\n",
              "      <th>top</th>\n",
              "      <td>HAM_0003789</td>\n",
              "      <td>ISIC_0028066</td>\n",
              "      <td>nv</td>\n",
              "      <td>histo</td>\n",
              "      <td>NaN</td>\n",
              "      <td>male</td>\n",
              "      <td>back</td>\n",
              "      <td>vidir_molemax</td>\n",
              "    </tr>\n",
              "    <tr>\n",
              "      <th>freq</th>\n",
              "      <td>6</td>\n",
              "      <td>1</td>\n",
              "      <td>6705</td>\n",
              "      <td>5340</td>\n",
              "      <td>NaN</td>\n",
              "      <td>5406</td>\n",
              "      <td>2192</td>\n",
              "      <td>3954</td>\n",
              "    </tr>\n",
              "    <tr>\n",
              "      <th>mean</th>\n",
              "      <td>NaN</td>\n",
              "      <td>NaN</td>\n",
              "      <td>NaN</td>\n",
              "      <td>NaN</td>\n",
              "      <td>51.863828</td>\n",
              "      <td>NaN</td>\n",
              "      <td>NaN</td>\n",
              "      <td>NaN</td>\n",
              "    </tr>\n",
              "    <tr>\n",
              "      <th>std</th>\n",
              "      <td>NaN</td>\n",
              "      <td>NaN</td>\n",
              "      <td>NaN</td>\n",
              "      <td>NaN</td>\n",
              "      <td>16.968614</td>\n",
              "      <td>NaN</td>\n",
              "      <td>NaN</td>\n",
              "      <td>NaN</td>\n",
              "    </tr>\n",
              "    <tr>\n",
              "      <th>min</th>\n",
              "      <td>NaN</td>\n",
              "      <td>NaN</td>\n",
              "      <td>NaN</td>\n",
              "      <td>NaN</td>\n",
              "      <td>0.000000</td>\n",
              "      <td>NaN</td>\n",
              "      <td>NaN</td>\n",
              "      <td>NaN</td>\n",
              "    </tr>\n",
              "    <tr>\n",
              "      <th>25%</th>\n",
              "      <td>NaN</td>\n",
              "      <td>NaN</td>\n",
              "      <td>NaN</td>\n",
              "      <td>NaN</td>\n",
              "      <td>40.000000</td>\n",
              "      <td>NaN</td>\n",
              "      <td>NaN</td>\n",
              "      <td>NaN</td>\n",
              "    </tr>\n",
              "    <tr>\n",
              "      <th>50%</th>\n",
              "      <td>NaN</td>\n",
              "      <td>NaN</td>\n",
              "      <td>NaN</td>\n",
              "      <td>NaN</td>\n",
              "      <td>50.000000</td>\n",
              "      <td>NaN</td>\n",
              "      <td>NaN</td>\n",
              "      <td>NaN</td>\n",
              "    </tr>\n",
              "    <tr>\n",
              "      <th>75%</th>\n",
              "      <td>NaN</td>\n",
              "      <td>NaN</td>\n",
              "      <td>NaN</td>\n",
              "      <td>NaN</td>\n",
              "      <td>65.000000</td>\n",
              "      <td>NaN</td>\n",
              "      <td>NaN</td>\n",
              "      <td>NaN</td>\n",
              "    </tr>\n",
              "    <tr>\n",
              "      <th>max</th>\n",
              "      <td>NaN</td>\n",
              "      <td>NaN</td>\n",
              "      <td>NaN</td>\n",
              "      <td>NaN</td>\n",
              "      <td>85.000000</td>\n",
              "      <td>NaN</td>\n",
              "      <td>NaN</td>\n",
              "      <td>NaN</td>\n",
              "    </tr>\n",
              "  </tbody>\n",
              "</table>\n",
              "</div>"
            ],
            "text/plain": [
              "          lesion_id      image_id     dx  ...    sex  localization        dataset\n",
              "count         10015         10015  10015  ...  10015         10015          10015\n",
              "unique         7470         10015      7  ...      3            15              4\n",
              "top     HAM_0003789  ISIC_0028066     nv  ...   male          back  vidir_molemax\n",
              "freq              6             1   6705  ...   5406          2192           3954\n",
              "mean            NaN           NaN    NaN  ...    NaN           NaN            NaN\n",
              "std             NaN           NaN    NaN  ...    NaN           NaN            NaN\n",
              "min             NaN           NaN    NaN  ...    NaN           NaN            NaN\n",
              "25%             NaN           NaN    NaN  ...    NaN           NaN            NaN\n",
              "50%             NaN           NaN    NaN  ...    NaN           NaN            NaN\n",
              "75%             NaN           NaN    NaN  ...    NaN           NaN            NaN\n",
              "max             NaN           NaN    NaN  ...    NaN           NaN            NaN\n",
              "\n",
              "[11 rows x 8 columns]"
            ]
          },
          "metadata": {},
          "execution_count": 5
        }
      ]
    },
    {
      "cell_type": "code",
      "metadata": {
        "colab": {
          "base_uri": "https://localhost:8080/"
        },
        "id": "mb9UABgQReML",
        "outputId": "d81ab28a-de78-4e78-f3c3-1b32bd6c1525"
      },
      "source": [
        "df.info()"
      ],
      "execution_count": null,
      "outputs": [
        {
          "output_type": "stream",
          "name": "stdout",
          "text": [
            "<class 'pandas.core.frame.DataFrame'>\n",
            "RangeIndex: 10015 entries, 0 to 10014\n",
            "Data columns (total 8 columns):\n",
            " #   Column        Non-Null Count  Dtype  \n",
            "---  ------        --------------  -----  \n",
            " 0   lesion_id     10015 non-null  object \n",
            " 1   image_id      10015 non-null  object \n",
            " 2   dx            10015 non-null  object \n",
            " 3   dx_type       10015 non-null  object \n",
            " 4   age           9958 non-null   float64\n",
            " 5   sex           10015 non-null  object \n",
            " 6   localization  10015 non-null  object \n",
            " 7   dataset       10015 non-null  object \n",
            "dtypes: float64(1), object(7)\n",
            "memory usage: 626.1+ KB\n"
          ]
        }
      ]
    },
    {
      "cell_type": "code",
      "metadata": {
        "colab": {
          "base_uri": "https://localhost:8080/"
        },
        "id": "ZX7RhbdqRhwW",
        "outputId": "46eed144-c7a4-4e14-eac9-5344b335e7e7"
      },
      "source": [
        "df.isnull().sum()"
      ],
      "execution_count": null,
      "outputs": [
        {
          "output_type": "execute_result",
          "data": {
            "text/plain": [
              "lesion_id        0\n",
              "image_id         0\n",
              "dx               0\n",
              "dx_type          0\n",
              "age             57\n",
              "sex              0\n",
              "localization     0\n",
              "dataset          0\n",
              "dtype: int64"
            ]
          },
          "metadata": {},
          "execution_count": 7
        }
      ]
    },
    {
      "cell_type": "code",
      "metadata": {
        "id": "RAJT-TePRlEX"
      },
      "source": [
        "mean = int(df['age'].mean())\n",
        "df['age'].fillna(mean,inplace=True)"
      ],
      "execution_count": null,
      "outputs": []
    },
    {
      "cell_type": "code",
      "metadata": {
        "colab": {
          "base_uri": "https://localhost:8080/"
        },
        "id": "jF92dxfpRm44",
        "outputId": "2e3cf741-5ae1-4ed3-e0b8-901e8273c62b"
      },
      "source": [
        "df.isnull().sum()"
      ],
      "execution_count": null,
      "outputs": [
        {
          "output_type": "execute_result",
          "data": {
            "text/plain": [
              "lesion_id       0\n",
              "image_id        0\n",
              "dx              0\n",
              "dx_type         0\n",
              "age             0\n",
              "sex             0\n",
              "localization    0\n",
              "dataset         0\n",
              "dtype: int64"
            ]
          },
          "metadata": {},
          "execution_count": 9
        }
      ]
    },
    {
      "cell_type": "code",
      "metadata": {
        "id": "kVbodHakubL3"
      },
      "source": [
        "lesion_type = {\n",
        "    'nv': 'Melanocytic nevi',\n",
        "    'mel': 'Melanoma',\n",
        "    'bkl': 'Benign keratosis-like lesions ',\n",
        "    'bcc': 'Basal cell carcinoma',\n",
        "    'akiec': 'Actinic keratoses',\n",
        "    'vasc': 'Vascular lesions',\n",
        "    'df': 'Dermatofibroma'\n",
        "}\n",
        "\n",
        "df['lesion_type'] = df['dx'].map(lesion_type.get) \n",
        "df['lesion_type_idx'] = pd.Categorical(df['lesion_type']).codes"
      ],
      "execution_count": null,
      "outputs": []
    },
    {
      "cell_type": "code",
      "metadata": {
        "id": "9zs36XkEubOf"
      },
      "source": [
        "#Now time to read images based on image ID from the CSV file\n",
        "#This is the safest way to read images as it ensures the right image is read for the right ID\n",
        "imageid_path = {os.path.splitext(os.path.basename(x))[0]: x\n",
        "                     for x in glob(os.path.join('', '*', '*.jpg'))}"
      ],
      "execution_count": null,
      "outputs": []
    },
    {
      "cell_type": "code",
      "metadata": {
        "id": "fhwqHszCubRe"
      },
      "source": [
        "df['path'] = df['image_id'].map(imageid_path.get)"
      ],
      "execution_count": null,
      "outputs": []
    },
    {
      "cell_type": "code",
      "metadata": {
        "colab": {
          "base_uri": "https://localhost:8080/",
          "height": 419
        },
        "id": "blJ4x0-5ukOu",
        "outputId": "ef548254-63d6-4584-a303-670428159093"
      },
      "source": [
        "df"
      ],
      "execution_count": null,
      "outputs": [
        {
          "output_type": "execute_result",
          "data": {
            "text/html": [
              "<div>\n",
              "<style scoped>\n",
              "    .dataframe tbody tr th:only-of-type {\n",
              "        vertical-align: middle;\n",
              "    }\n",
              "\n",
              "    .dataframe tbody tr th {\n",
              "        vertical-align: top;\n",
              "    }\n",
              "\n",
              "    .dataframe thead th {\n",
              "        text-align: right;\n",
              "    }\n",
              "</style>\n",
              "<table border=\"1\" class=\"dataframe\">\n",
              "  <thead>\n",
              "    <tr style=\"text-align: right;\">\n",
              "      <th></th>\n",
              "      <th>lesion_id</th>\n",
              "      <th>image_id</th>\n",
              "      <th>dx</th>\n",
              "      <th>dx_type</th>\n",
              "      <th>age</th>\n",
              "      <th>sex</th>\n",
              "      <th>localization</th>\n",
              "      <th>dataset</th>\n",
              "      <th>lesion_type</th>\n",
              "      <th>lesion_type_idx</th>\n",
              "      <th>path</th>\n",
              "    </tr>\n",
              "  </thead>\n",
              "  <tbody>\n",
              "    <tr>\n",
              "      <th>0</th>\n",
              "      <td>HAM_0000118</td>\n",
              "      <td>ISIC_0027419</td>\n",
              "      <td>bkl</td>\n",
              "      <td>histo</td>\n",
              "      <td>80.0</td>\n",
              "      <td>male</td>\n",
              "      <td>scalp</td>\n",
              "      <td>vidir_modern</td>\n",
              "      <td>Benign keratosis-like lesions</td>\n",
              "      <td>2</td>\n",
              "      <td>HAM10000/ISIC_0027419.jpg</td>\n",
              "    </tr>\n",
              "    <tr>\n",
              "      <th>1</th>\n",
              "      <td>HAM_0000118</td>\n",
              "      <td>ISIC_0025030</td>\n",
              "      <td>bkl</td>\n",
              "      <td>histo</td>\n",
              "      <td>80.0</td>\n",
              "      <td>male</td>\n",
              "      <td>scalp</td>\n",
              "      <td>vidir_modern</td>\n",
              "      <td>Benign keratosis-like lesions</td>\n",
              "      <td>2</td>\n",
              "      <td>HAM10000/ISIC_0025030.jpg</td>\n",
              "    </tr>\n",
              "    <tr>\n",
              "      <th>2</th>\n",
              "      <td>HAM_0002730</td>\n",
              "      <td>ISIC_0026769</td>\n",
              "      <td>bkl</td>\n",
              "      <td>histo</td>\n",
              "      <td>80.0</td>\n",
              "      <td>male</td>\n",
              "      <td>scalp</td>\n",
              "      <td>vidir_modern</td>\n",
              "      <td>Benign keratosis-like lesions</td>\n",
              "      <td>2</td>\n",
              "      <td>HAM10000/ISIC_0026769.jpg</td>\n",
              "    </tr>\n",
              "    <tr>\n",
              "      <th>3</th>\n",
              "      <td>HAM_0002730</td>\n",
              "      <td>ISIC_0025661</td>\n",
              "      <td>bkl</td>\n",
              "      <td>histo</td>\n",
              "      <td>80.0</td>\n",
              "      <td>male</td>\n",
              "      <td>scalp</td>\n",
              "      <td>vidir_modern</td>\n",
              "      <td>Benign keratosis-like lesions</td>\n",
              "      <td>2</td>\n",
              "      <td>HAM10000/ISIC_0025661.jpg</td>\n",
              "    </tr>\n",
              "    <tr>\n",
              "      <th>4</th>\n",
              "      <td>HAM_0001466</td>\n",
              "      <td>ISIC_0031633</td>\n",
              "      <td>bkl</td>\n",
              "      <td>histo</td>\n",
              "      <td>75.0</td>\n",
              "      <td>male</td>\n",
              "      <td>ear</td>\n",
              "      <td>vidir_modern</td>\n",
              "      <td>Benign keratosis-like lesions</td>\n",
              "      <td>2</td>\n",
              "      <td>HAM10000/ISIC_0031633.jpg</td>\n",
              "    </tr>\n",
              "    <tr>\n",
              "      <th>...</th>\n",
              "      <td>...</td>\n",
              "      <td>...</td>\n",
              "      <td>...</td>\n",
              "      <td>...</td>\n",
              "      <td>...</td>\n",
              "      <td>...</td>\n",
              "      <td>...</td>\n",
              "      <td>...</td>\n",
              "      <td>...</td>\n",
              "      <td>...</td>\n",
              "      <td>...</td>\n",
              "    </tr>\n",
              "    <tr>\n",
              "      <th>10010</th>\n",
              "      <td>HAM_0002867</td>\n",
              "      <td>ISIC_0033084</td>\n",
              "      <td>akiec</td>\n",
              "      <td>histo</td>\n",
              "      <td>40.0</td>\n",
              "      <td>male</td>\n",
              "      <td>abdomen</td>\n",
              "      <td>vidir_modern</td>\n",
              "      <td>Actinic keratoses</td>\n",
              "      <td>0</td>\n",
              "      <td>HAM10000/ISIC_0033084.jpg</td>\n",
              "    </tr>\n",
              "    <tr>\n",
              "      <th>10011</th>\n",
              "      <td>HAM_0002867</td>\n",
              "      <td>ISIC_0033550</td>\n",
              "      <td>akiec</td>\n",
              "      <td>histo</td>\n",
              "      <td>40.0</td>\n",
              "      <td>male</td>\n",
              "      <td>abdomen</td>\n",
              "      <td>vidir_modern</td>\n",
              "      <td>Actinic keratoses</td>\n",
              "      <td>0</td>\n",
              "      <td>HAM10000/ISIC_0033550.jpg</td>\n",
              "    </tr>\n",
              "    <tr>\n",
              "      <th>10012</th>\n",
              "      <td>HAM_0002867</td>\n",
              "      <td>ISIC_0033536</td>\n",
              "      <td>akiec</td>\n",
              "      <td>histo</td>\n",
              "      <td>40.0</td>\n",
              "      <td>male</td>\n",
              "      <td>abdomen</td>\n",
              "      <td>vidir_modern</td>\n",
              "      <td>Actinic keratoses</td>\n",
              "      <td>0</td>\n",
              "      <td>HAM10000/ISIC_0033536.jpg</td>\n",
              "    </tr>\n",
              "    <tr>\n",
              "      <th>10013</th>\n",
              "      <td>HAM_0000239</td>\n",
              "      <td>ISIC_0032854</td>\n",
              "      <td>akiec</td>\n",
              "      <td>histo</td>\n",
              "      <td>80.0</td>\n",
              "      <td>male</td>\n",
              "      <td>face</td>\n",
              "      <td>vidir_modern</td>\n",
              "      <td>Actinic keratoses</td>\n",
              "      <td>0</td>\n",
              "      <td>HAM10000/ISIC_0032854.jpg</td>\n",
              "    </tr>\n",
              "    <tr>\n",
              "      <th>10014</th>\n",
              "      <td>HAM_0003521</td>\n",
              "      <td>ISIC_0032258</td>\n",
              "      <td>mel</td>\n",
              "      <td>histo</td>\n",
              "      <td>70.0</td>\n",
              "      <td>female</td>\n",
              "      <td>back</td>\n",
              "      <td>vidir_modern</td>\n",
              "      <td>Melanoma</td>\n",
              "      <td>5</td>\n",
              "      <td>HAM10000/ISIC_0032258.jpg</td>\n",
              "    </tr>\n",
              "  </tbody>\n",
              "</table>\n",
              "<p>10015 rows × 11 columns</p>\n",
              "</div>"
            ],
            "text/plain": [
              "         lesion_id      image_id  ... lesion_type_idx                       path\n",
              "0      HAM_0000118  ISIC_0027419  ...               2  HAM10000/ISIC_0027419.jpg\n",
              "1      HAM_0000118  ISIC_0025030  ...               2  HAM10000/ISIC_0025030.jpg\n",
              "2      HAM_0002730  ISIC_0026769  ...               2  HAM10000/ISIC_0026769.jpg\n",
              "3      HAM_0002730  ISIC_0025661  ...               2  HAM10000/ISIC_0025661.jpg\n",
              "4      HAM_0001466  ISIC_0031633  ...               2  HAM10000/ISIC_0031633.jpg\n",
              "...            ...           ...  ...             ...                        ...\n",
              "10010  HAM_0002867  ISIC_0033084  ...               0  HAM10000/ISIC_0033084.jpg\n",
              "10011  HAM_0002867  ISIC_0033550  ...               0  HAM10000/ISIC_0033550.jpg\n",
              "10012  HAM_0002867  ISIC_0033536  ...               0  HAM10000/ISIC_0033536.jpg\n",
              "10013  HAM_0000239  ISIC_0032854  ...               0  HAM10000/ISIC_0032854.jpg\n",
              "10014  HAM_0003521  ISIC_0032258  ...               5  HAM10000/ISIC_0032258.jpg\n",
              "\n",
              "[10015 rows x 11 columns]"
            ]
          },
          "metadata": {},
          "execution_count": 13
        }
      ]
    },
    {
      "cell_type": "markdown",
      "source": [
        "## Reading data saved after pre-processing"
      ],
      "metadata": {
        "id": "MdH2K3SjijAH"
      }
    },
    {
      "cell_type": "code",
      "metadata": {
        "id": "QF81MPAsSKKW"
      },
      "source": [
        "import pickle"
      ],
      "execution_count": null,
      "outputs": []
    },
    {
      "cell_type": "code",
      "metadata": {
        "id": "DJsKKwmLe8Uu"
      },
      "source": [
        "file_name = \"X_64.pkl\"\n",
        "\n",
        "open_file = open(file_name, \"rb\")\n",
        "X = pickle.load(open_file)\n",
        "open_file.close()"
      ],
      "execution_count": null,
      "outputs": []
    },
    {
      "cell_type": "code",
      "metadata": {
        "id": "pZzL4V8EfR85"
      },
      "source": [
        "X= np.array(X)"
      ],
      "execution_count": null,
      "outputs": []
    },
    {
      "cell_type": "code",
      "metadata": {
        "colab": {
          "base_uri": "https://localhost:8080/"
        },
        "id": "sYtEN-3DfYC9",
        "outputId": "67138221-e2d8-4020-d1b3-5d964dc839da"
      },
      "source": [
        "X.shape"
      ],
      "execution_count": null,
      "outputs": [
        {
          "output_type": "execute_result",
          "data": {
            "text/plain": [
              "(26565, 64, 64, 3)"
            ]
          },
          "metadata": {},
          "execution_count": 17
        }
      ]
    },
    {
      "cell_type": "code",
      "metadata": {
        "id": "IF3fyBB1fahr"
      },
      "source": [
        "X = X.astype(np.float64)"
      ],
      "execution_count": null,
      "outputs": []
    },
    {
      "cell_type": "code",
      "metadata": {
        "colab": {
          "base_uri": "https://localhost:8080/"
        },
        "id": "XAEYyotpfbkk",
        "outputId": "7be29c80-e239-464f-c971-d87720424a0d"
      },
      "source": [
        "X.dtype"
      ],
      "execution_count": null,
      "outputs": [
        {
          "output_type": "execute_result",
          "data": {
            "text/plain": [
              "dtype('float64')"
            ]
          },
          "metadata": {},
          "execution_count": 19
        }
      ]
    },
    {
      "cell_type": "code",
      "metadata": {
        "id": "KOMSv2-Afffi"
      },
      "source": [
        "file_name = \"y_64.pkl\"\n",
        "\n",
        "open_file = open(file_name, \"rb\")\n",
        "y = pickle.load(open_file)\n",
        "open_file.close()\n",
        "\n",
        "#print(y)"
      ],
      "execution_count": null,
      "outputs": []
    },
    {
      "cell_type": "code",
      "metadata": {
        "id": "xMmP13Sufhih"
      },
      "source": [
        "y = np.array(y)"
      ],
      "execution_count": null,
      "outputs": []
    },
    {
      "cell_type": "code",
      "metadata": {
        "colab": {
          "base_uri": "https://localhost:8080/"
        },
        "id": "TqX1K1dhfjXl",
        "outputId": "82f78219-3c72-4098-f44a-faa8ea77b949"
      },
      "source": [
        "y.shape"
      ],
      "execution_count": null,
      "outputs": [
        {
          "output_type": "execute_result",
          "data": {
            "text/plain": [
              "(26565,)"
            ]
          },
          "metadata": {},
          "execution_count": 22
        }
      ]
    },
    {
      "cell_type": "code",
      "metadata": {
        "id": "hcoj4rH9hLF6"
      },
      "source": [
        "from keras.utils.np_utils import to_categorical\n",
        "\n",
        "X = np.array(X)\n",
        "y = np.array(y)\n",
        "\n",
        "#y_train = to_categorical(y, num_classes=7)"
      ],
      "execution_count": null,
      "outputs": []
    },
    {
      "cell_type": "markdown",
      "source": [
        "## Train and Test split"
      ],
      "metadata": {
        "id": "ZEqRXrDeis8E"
      }
    },
    {
      "cell_type": "code",
      "metadata": {
        "colab": {
          "base_uri": "https://localhost:8080/"
        },
        "id": "pnhMumM4hvpv",
        "outputId": "487a4f3a-9170-427e-8215-a8b591768cdf"
      },
      "source": [
        "from sklearn.model_selection import train_test_split\n",
        "\n",
        "# split in 70% training and 30% test data\n",
        "X_train, X_test, y_train, y_test = train_test_split(X, y, test_size=0.20, random_state=0)\n",
        "\n",
        "\n",
        "print('Train dataset shape',X_train.shape)\n",
        "print('Test dataset shape',X_test.shape)"
      ],
      "execution_count": null,
      "outputs": [
        {
          "output_type": "stream",
          "name": "stdout",
          "text": [
            "Train dataset shape (21252, 64, 64, 3)\n",
            "Test dataset shape (5313, 64, 64, 3)\n"
          ]
        }
      ]
    },
    {
      "cell_type": "code",
      "metadata": {
        "colab": {
          "base_uri": "https://localhost:8080/"
        },
        "id": "R01aNs-ojoZY",
        "outputId": "12614374-a13d-4619-87bb-40fc569f6d31"
      },
      "source": [
        "# Split the data into train, val, and test sets. In addition we will\n",
        "# create a small development set as a subset of the training data;\n",
        "# we can use this for development so our code runs faster.\n",
        "num_training = 20000\n",
        "num_validation = 1252\n",
        "num_test = 5313\n",
        "num_dev = 252\n",
        "\n",
        "# Our validation set will be num_validation points from the original\n",
        "# training set.\n",
        "mask = range(num_training, num_training + num_validation)\n",
        "X_val = X_train[mask]\n",
        "y_val = y_train[mask]\n",
        "\n",
        "# Our training set will be the first num_train points from the original\n",
        "# training set.\n",
        "mask = range(num_training)\n",
        "X_train = X_train[mask]\n",
        "y_train = y_train[mask]\n",
        "\n",
        "# We will also make a development set, which is a small subset of\n",
        "# the training set.\n",
        "mask = np.random.choice(num_training, num_dev, replace=False)\n",
        "X_dev = X_train[mask]\n",
        "y_dev = y_train[mask]\n",
        "\n",
        "# We use the first num_test points of the original test set as our\n",
        "# test set.\n",
        "mask = range(num_test)\n",
        "X_test = X_test[mask]\n",
        "y_test = y_test[mask]\n",
        "\n",
        "print('Train data shape: ', X_train.shape)\n",
        "print('Train labels shape: ', y_train.shape)\n",
        "print('Validation data shape: ', X_val.shape)\n",
        "print('Validation labels shape: ', y_val.shape)\n",
        "print('Test data shape: ', X_test.shape)\n",
        "print('Test labels shape: ', y_test.shape)"
      ],
      "execution_count": null,
      "outputs": [
        {
          "output_type": "stream",
          "name": "stdout",
          "text": [
            "Train data shape:  (20000, 64, 64, 3)\n",
            "Train labels shape:  (20000,)\n",
            "Validation data shape:  (1252, 64, 64, 3)\n",
            "Validation labels shape:  (1252,)\n",
            "Test data shape:  (5313, 64, 64, 3)\n",
            "Test labels shape:  (5313,)\n"
          ]
        }
      ]
    },
    {
      "cell_type": "code",
      "metadata": {
        "id": "R-46u_wVA3oB"
      },
      "source": [
        "import os\n",
        "import tensorflow as tf\n",
        "import numpy as np\n",
        "import math\n",
        "import timeit\n",
        "import matplotlib.pyplot as plt\n",
        "\n",
        "%matplotlib inline"
      ],
      "execution_count": null,
      "outputs": []
    },
    {
      "cell_type": "markdown",
      "source": [
        "## CNN"
      ],
      "metadata": {
        "id": "mILTZ-yli03M"
      }
    },
    {
      "cell_type": "code",
      "metadata": {
        "colab": {
          "base_uri": "https://localhost:8080/"
        },
        "id": "s1jlOpJNIEYe",
        "outputId": "eb064e4a-fe37-4282-f1f8-3428ebf391d4"
      },
      "source": [
        " # Set up some global variables\n",
        "USE_GPU = True\n",
        "\n",
        "if USE_GPU:\n",
        "    device = '/device:GPU:0'\n",
        "else:\n",
        "    device = '/cpu:0'\n",
        "\n",
        "# Constant to control how often we print when training models\n",
        "print_every = 100\n",
        "\n",
        "print('Using device: ', device)"
      ],
      "execution_count": null,
      "outputs": [
        {
          "output_type": "stream",
          "name": "stdout",
          "text": [
            "Using device:  /device:GPU:0\n"
          ]
        }
      ]
    },
    {
      "cell_type": "code",
      "metadata": {
        "id": "yctzAM_vCzX-"
      },
      "source": [
        "from tensorflow.keras.layers import Flatten,Dense,Dropout,BatchNormalization,Conv2D, MaxPool2D\n",
        "from tensorflow.keras import layers\n",
        "from tensorflow.keras import Model\n",
        "from tensorflow.keras.optimizers import Adam\n",
        "from keras.callbacks import ReduceLROnPlateau\n",
        "from tensorflow.keras.preprocessing.image import ImageDataGenerator\n",
        "from keras.models import Sequential"
      ],
      "execution_count": null,
      "outputs": []
    },
    {
      "cell_type": "code",
      "source": [
        "# Our input feature map is 64x64x3: 64x64 for the image pixels, and 3 for\n",
        "# the three color channels: R, G, and B\n",
        "img_input = layers.Input(shape=(64, 64, 3))\n",
        "\n",
        "# First convolution extracts 16 filters that are 3x3\n",
        "# Convolution is followed by max-pooling layer with a 2x2 window\n",
        "x = layers.Conv2D(16, 3, activation='relu', padding='same')(img_input)\n",
        "x = layers.MaxPooling2D(2)(x)\n",
        "\n",
        "# Second convolution extracts 32 filters that are 3x3\n",
        "# Convolution is followed by max-pooling layer with a 2x2 window\n",
        "x = layers.Conv2D(32, 3, activation='relu', padding='same')(x)\n",
        "x = layers.MaxPooling2D(2)(x)\n",
        "\n",
        "# Third convolution extracts 64 filters that are 3x3\n",
        "# Convolution is followed by max-pooling layer with a 2x2 window\n",
        "x = layers.Convolution2D(64, 3, activation='relu', padding='same')(x)\n",
        "x = layers.MaxPooling2D(2)(x)\n",
        "\n",
        "# Flatten feature map to a 1-dim tensor\n",
        "x = layers.Flatten()(x)\n",
        "\n",
        "# Create a fully connected layer with ReLU activation and 512 hidden units\n",
        "x = layers.Dense(512, activation='relu')(x)\n",
        "\n",
        "# Add a dropout rate of 0.5\n",
        "x = layers.Dropout(0.3)(x)\n",
        "\n",
        "# Create output layer with a single node and sigmoid activation\n",
        "output = layers.Dense(7, activation='softmax')(x)\n",
        "\n",
        "# Configure and compile the model\n",
        "model = Model(img_input, output)\n",
        "\n",
        "optimizer = Adam(lr=0.001, beta_1=0.9, beta_2=0.999, epsilon=None, decay=0.0, amsgrad=False)\n",
        "\n",
        "model.compile(loss='categorical_crossentropy', optimizer=optimizer, metrics=['accuracy'])\n",
        "model.summary()"
      ],
      "metadata": {
        "id": "Wy2Z1gzojv2w"
      },
      "execution_count": null,
      "outputs": []
    },
    {
      "cell_type": "code",
      "metadata": {
        "id": "VFK8xv9qCzci",
        "colab": {
          "base_uri": "https://localhost:8080/"
        },
        "outputId": "8766ea75-9c58-40c5-a88f-dba7c74708b0"
      },
      "source": [
        "# Define the optimizer\n",
        "optimizer = Adam(lr=0.0001, beta_1=0.9, beta_2=0.999, epsilon=None, decay=0.0, amsgrad=False)"
      ],
      "execution_count": null,
      "outputs": [
        {
          "output_type": "stream",
          "name": "stderr",
          "text": [
            "/usr/local/lib/python3.7/dist-packages/keras/optimizer_v2/adam.py:105: UserWarning: The `lr` argument is deprecated, use `learning_rate` instead.\n",
            "  super(Adam, self).__init__(name, **kwargs)\n"
          ]
        }
      ]
    },
    {
      "cell_type": "code",
      "metadata": {
        "id": "A-GZ4cnnCzfH"
      },
      "source": [
        "# Compile the model\n",
        "model.compile(optimizer = optimizer , loss = \"categorical_crossentropy\", metrics=[\"accuracy\"])"
      ],
      "execution_count": null,
      "outputs": []
    },
    {
      "cell_type": "code",
      "metadata": {
        "id": "8dU2KzFnCzhf"
      },
      "source": [
        "# Set a learning rate annealer\n",
        "learning_rate_reduction = ReduceLROnPlateau(monitor='val_accuracy', \n",
        "                                            patience=4, \n",
        "                                            verbose=1, \n",
        "                                            factor=0.5, \n",
        "                                            min_lr=0.00001)"
      ],
      "execution_count": null,
      "outputs": []
    },
    {
      "cell_type": "code",
      "metadata": {
        "id": "7Dcd8bRbCzkG"
      },
      "source": [
        "#X_train, X_validate, y_train, y_validate = train_test_split(X_train, y_train, test_size = 0.1, random_state = 999)\n",
        "# Reshape image in 3 dimensions (height = 100, width = 125 , canal = 3)\n",
        "X_train = X_train.reshape(X_train.shape[0], *(64, 64, 3))\n",
        "X_test = X_test.reshape(X_test.shape[0], *(64, 64, 3))\n",
        "X_val = X_val.reshape(X_val.shape[0], *(64, 64, 3))\n",
        "# With data augmentation to prevent overfitting \n",
        "\n",
        "datagen = ImageDataGenerator(\n",
        "        featurewise_center=False,  # set input mean to 0 over the dataset\n",
        "        samplewise_center=False,  # set each sample mean to 0\n",
        "        featurewise_std_normalization=False,  # divide inputs by std of the dataset\n",
        "        samplewise_std_normalization=False,  # divide each input by its std\n",
        "        zca_whitening=False,  # apply ZCA whitening\n",
        "        rotation_range=10,  # randomly rotate images in the range (degrees, 0 to 180)\n",
        "        zoom_range = 0.1, # Randomly zoom image \n",
        "        width_shift_range=0.12,  # randomly shift images horizontally (fraction of total width)\n",
        "        height_shift_range=0.12,  # randomly shift images vertically (fraction of total height)\n",
        "        horizontal_flip=True,  # randomly flip images\n",
        "        vertical_flip=True)  # randomly flip images\n",
        "\n",
        "datagen.fit(X_train)"
      ],
      "execution_count": null,
      "outputs": []
    },
    {
      "cell_type": "code",
      "metadata": {
        "id": "PUkz0YDcCzmc",
        "colab": {
          "base_uri": "https://localhost:8080/"
        },
        "outputId": "e5649552-182e-4c58-8099-68b1b573eecf"
      },
      "source": [
        "# Fit the model\n",
        "epochs = 50\n",
        "batch_size = 16\n",
        "history = model.fit_generator(datagen.flow(X_train,y_train, batch_size=batch_size),\n",
        "                              epochs = epochs, validation_data = (X_val,y_val),\n",
        "                              verbose = 1, steps_per_epoch=X_train.shape[0] // batch_size\n",
        "                              , callbacks=[learning_rate_reduction])\n",
        "\n",
        "from tensorflow.keras.metrics import Recall\n",
        "from sklearn.metrics import classification_report,confusion_matrix"
      ],
      "execution_count": null,
      "outputs": [
        {
          "output_type": "stream",
          "name": "stderr",
          "text": [
            "/usr/local/lib/python3.7/dist-packages/ipykernel_launcher.py:7: UserWarning: `Model.fit_generator` is deprecated and will be removed in a future version. Please use `Model.fit`, which supports generators.\n",
            "  import sys\n"
          ]
        },
        {
          "output_type": "stream",
          "name": "stdout",
          "text": [
            "Epoch 1/50\n",
            "1250/1250 [==============================] - 39s 30ms/step - loss: 1.8537 - accuracy: 0.3397 - val_loss: 1.5953 - val_accuracy: 0.4185 - lr: 1.0000e-04\n",
            "Epoch 2/50\n",
            "1250/1250 [==============================] - 37s 30ms/step - loss: 1.5165 - accuracy: 0.4319 - val_loss: 1.5001 - val_accuracy: 0.4633 - lr: 1.0000e-04\n",
            "Epoch 3/50\n",
            "1250/1250 [==============================] - 37s 30ms/step - loss: 1.4313 - accuracy: 0.4645 - val_loss: 1.3659 - val_accuracy: 0.4776 - lr: 1.0000e-04\n",
            "Epoch 4/50\n",
            "1250/1250 [==============================] - 37s 30ms/step - loss: 1.3382 - accuracy: 0.4888 - val_loss: 1.3004 - val_accuracy: 0.4952 - lr: 1.0000e-04\n",
            "Epoch 5/50\n",
            "1250/1250 [==============================] - 37s 30ms/step - loss: 1.2801 - accuracy: 0.5080 - val_loss: 1.2190 - val_accuracy: 0.5192 - lr: 1.0000e-04\n",
            "Epoch 6/50\n",
            "1250/1250 [==============================] - 37s 30ms/step - loss: 1.2272 - accuracy: 0.5256 - val_loss: 1.2101 - val_accuracy: 0.5415 - lr: 1.0000e-04\n",
            "Epoch 7/50\n",
            "1250/1250 [==============================] - 37s 30ms/step - loss: 1.1787 - accuracy: 0.5477 - val_loss: 1.1037 - val_accuracy: 0.5847 - lr: 1.0000e-04\n",
            "Epoch 8/50\n",
            "1250/1250 [==============================] - 37s 30ms/step - loss: 1.1409 - accuracy: 0.5602 - val_loss: 1.0731 - val_accuracy: 0.5911 - lr: 1.0000e-04\n",
            "Epoch 9/50\n",
            "1250/1250 [==============================] - 37s 30ms/step - loss: 1.1096 - accuracy: 0.5756 - val_loss: 1.0291 - val_accuracy: 0.5895 - lr: 1.0000e-04\n",
            "Epoch 10/50\n",
            "1250/1250 [==============================] - 37s 30ms/step - loss: 1.0791 - accuracy: 0.5852 - val_loss: 1.0112 - val_accuracy: 0.5935 - lr: 1.0000e-04\n",
            "Epoch 11/50\n",
            "1250/1250 [==============================] - 37s 29ms/step - loss: 1.0483 - accuracy: 0.5988 - val_loss: 0.9752 - val_accuracy: 0.6094 - lr: 1.0000e-04\n",
            "Epoch 12/50\n",
            "1250/1250 [==============================] - 37s 29ms/step - loss: 1.0293 - accuracy: 0.6076 - val_loss: 0.9675 - val_accuracy: 0.6222 - lr: 1.0000e-04\n",
            "Epoch 13/50\n",
            "1250/1250 [==============================] - 36s 29ms/step - loss: 1.0089 - accuracy: 0.6128 - val_loss: 0.9631 - val_accuracy: 0.6350 - lr: 1.0000e-04\n",
            "Epoch 14/50\n",
            "1250/1250 [==============================] - 37s 29ms/step - loss: 0.9927 - accuracy: 0.6184 - val_loss: 0.9316 - val_accuracy: 0.6326 - lr: 1.0000e-04\n",
            "Epoch 15/50\n",
            "1250/1250 [==============================] - 37s 29ms/step - loss: 0.9808 - accuracy: 0.6226 - val_loss: 0.9527 - val_accuracy: 0.6310 - lr: 1.0000e-04\n",
            "Epoch 16/50\n",
            "1250/1250 [==============================] - 37s 29ms/step - loss: 0.9656 - accuracy: 0.6258 - val_loss: 0.9126 - val_accuracy: 0.6342 - lr: 1.0000e-04\n",
            "Epoch 17/50\n",
            "1249/1250 [============================>.] - ETA: 0s - loss: 0.9498 - accuracy: 0.6316\n",
            "Epoch 00017: ReduceLROnPlateau reducing learning rate to 4.999999873689376e-05.\n",
            "1250/1250 [==============================] - 36s 29ms/step - loss: 0.9496 - accuracy: 0.6317 - val_loss: 0.9966 - val_accuracy: 0.6190 - lr: 1.0000e-04\n",
            "Epoch 18/50\n",
            "1250/1250 [==============================] - 36s 29ms/step - loss: 0.9065 - accuracy: 0.6500 - val_loss: 0.9215 - val_accuracy: 0.6518 - lr: 5.0000e-05\n",
            "Epoch 19/50\n",
            "1250/1250 [==============================] - 37s 29ms/step - loss: 0.8998 - accuracy: 0.6571 - val_loss: 0.8711 - val_accuracy: 0.6573 - lr: 5.0000e-05\n",
            "Epoch 20/50\n",
            "1250/1250 [==============================] - 36s 29ms/step - loss: 0.8872 - accuracy: 0.6530 - val_loss: 0.8801 - val_accuracy: 0.6430 - lr: 5.0000e-05\n",
            "Epoch 21/50\n",
            "1250/1250 [==============================] - 37s 29ms/step - loss: 0.8831 - accuracy: 0.6564 - val_loss: 0.9088 - val_accuracy: 0.6430 - lr: 5.0000e-05\n",
            "Epoch 22/50\n",
            "1250/1250 [==============================] - 36s 29ms/step - loss: 0.8701 - accuracy: 0.6647 - val_loss: 0.8914 - val_accuracy: 0.6597 - lr: 5.0000e-05\n",
            "Epoch 23/50\n",
            "1250/1250 [==============================] - 37s 29ms/step - loss: 0.8698 - accuracy: 0.6642 - val_loss: 0.8387 - val_accuracy: 0.6653 - lr: 5.0000e-05\n",
            "Epoch 24/50\n",
            "1250/1250 [==============================] - 37s 29ms/step - loss: 0.8624 - accuracy: 0.6651 - val_loss: 0.8982 - val_accuracy: 0.6550 - lr: 5.0000e-05\n",
            "Epoch 25/50\n",
            "1250/1250 [==============================] - 36s 29ms/step - loss: 0.8546 - accuracy: 0.6688 - val_loss: 0.8641 - val_accuracy: 0.6605 - lr: 5.0000e-05\n",
            "Epoch 26/50\n",
            "1250/1250 [==============================] - 36s 29ms/step - loss: 0.8418 - accuracy: 0.6711 - val_loss: 0.8217 - val_accuracy: 0.6733 - lr: 5.0000e-05\n",
            "Epoch 27/50\n",
            "1250/1250 [==============================] - 36s 29ms/step - loss: 0.8394 - accuracy: 0.6734 - val_loss: 0.8452 - val_accuracy: 0.6701 - lr: 5.0000e-05\n",
            "Epoch 28/50\n",
            "1250/1250 [==============================] - 37s 29ms/step - loss: 0.8295 - accuracy: 0.6783 - val_loss: 0.9244 - val_accuracy: 0.6542 - lr: 5.0000e-05\n",
            "Epoch 29/50\n",
            "1250/1250 [==============================] - 36s 29ms/step - loss: 0.8250 - accuracy: 0.6791 - val_loss: 0.9144 - val_accuracy: 0.6462 - lr: 5.0000e-05\n",
            "Epoch 30/50\n",
            "1250/1250 [==============================] - ETA: 0s - loss: 0.8229 - accuracy: 0.6792\n",
            "Epoch 00030: ReduceLROnPlateau reducing learning rate to 2.499999936844688e-05.\n",
            "1250/1250 [==============================] - 36s 29ms/step - loss: 0.8229 - accuracy: 0.6792 - val_loss: 0.9079 - val_accuracy: 0.6589 - lr: 5.0000e-05\n",
            "Epoch 31/50\n",
            "1250/1250 [==============================] - 36s 29ms/step - loss: 0.8020 - accuracy: 0.6877 - val_loss: 0.8653 - val_accuracy: 0.6645 - lr: 2.5000e-05\n",
            "Epoch 32/50\n",
            "1250/1250 [==============================] - 37s 29ms/step - loss: 0.7889 - accuracy: 0.6908 - val_loss: 0.8452 - val_accuracy: 0.6765 - lr: 2.5000e-05\n",
            "Epoch 33/50\n",
            "1250/1250 [==============================] - 36s 29ms/step - loss: 0.7918 - accuracy: 0.6909 - val_loss: 0.8918 - val_accuracy: 0.6701 - lr: 2.5000e-05\n",
            "Epoch 34/50\n",
            "1250/1250 [==============================] - 36s 29ms/step - loss: 0.7823 - accuracy: 0.6954 - val_loss: 0.8270 - val_accuracy: 0.6829 - lr: 2.5000e-05\n",
            "Epoch 35/50\n",
            "1250/1250 [==============================] - 36s 29ms/step - loss: 0.7845 - accuracy: 0.6921 - val_loss: 0.8427 - val_accuracy: 0.6701 - lr: 2.5000e-05\n",
            "Epoch 36/50\n",
            "1250/1250 [==============================] - 36s 29ms/step - loss: 0.7860 - accuracy: 0.6914 - val_loss: 0.8097 - val_accuracy: 0.6797 - lr: 2.5000e-05\n",
            "Epoch 37/50\n",
            "1250/1250 [==============================] - 36s 29ms/step - loss: 0.7769 - accuracy: 0.6936 - val_loss: 0.8326 - val_accuracy: 0.6765 - lr: 2.5000e-05\n",
            "Epoch 38/50\n",
            "1250/1250 [==============================] - ETA: 0s - loss: 0.7696 - accuracy: 0.6983\n",
            "Epoch 00038: ReduceLROnPlateau reducing learning rate to 1.249999968422344e-05.\n",
            "1250/1250 [==============================] - 36s 29ms/step - loss: 0.7696 - accuracy: 0.6983 - val_loss: 0.8223 - val_accuracy: 0.6813 - lr: 2.5000e-05\n",
            "Epoch 39/50\n",
            "1250/1250 [==============================] - 36s 29ms/step - loss: 0.7605 - accuracy: 0.7031 - val_loss: 0.8328 - val_accuracy: 0.6813 - lr: 1.2500e-05\n",
            "Epoch 40/50\n",
            "1250/1250 [==============================] - 37s 29ms/step - loss: 0.7585 - accuracy: 0.7012 - val_loss: 0.8479 - val_accuracy: 0.6773 - lr: 1.2500e-05\n",
            "Epoch 41/50\n",
            "1250/1250 [==============================] - 36s 29ms/step - loss: 0.7558 - accuracy: 0.7012 - val_loss: 0.8023 - val_accuracy: 0.6861 - lr: 1.2500e-05\n",
            "Epoch 42/50\n",
            "1250/1250 [==============================] - 36s 29ms/step - loss: 0.7565 - accuracy: 0.7006 - val_loss: 0.8320 - val_accuracy: 0.6765 - lr: 1.2500e-05\n",
            "Epoch 43/50\n",
            "1250/1250 [==============================] - 36s 29ms/step - loss: 0.7488 - accuracy: 0.7075 - val_loss: 0.8186 - val_accuracy: 0.6853 - lr: 1.2500e-05\n",
            "Epoch 44/50\n",
            "1250/1250 [==============================] - 36s 29ms/step - loss: 0.7521 - accuracy: 0.7038 - val_loss: 0.8684 - val_accuracy: 0.6725 - lr: 1.2500e-05\n",
            "Epoch 45/50\n",
            "1250/1250 [==============================] - ETA: 0s - loss: 0.7456 - accuracy: 0.7048\n",
            "Epoch 00045: ReduceLROnPlateau reducing learning rate to 1e-05.\n",
            "1250/1250 [==============================] - 36s 29ms/step - loss: 0.7456 - accuracy: 0.7048 - val_loss: 0.8327 - val_accuracy: 0.6813 - lr: 1.2500e-05\n",
            "Epoch 46/50\n",
            "1250/1250 [==============================] - 36s 29ms/step - loss: 0.7395 - accuracy: 0.7090 - val_loss: 0.8169 - val_accuracy: 0.6837 - lr: 1.0000e-05\n",
            "Epoch 47/50\n",
            "1250/1250 [==============================] - 37s 29ms/step - loss: 0.7370 - accuracy: 0.7099 - val_loss: 0.7954 - val_accuracy: 0.6877 - lr: 1.0000e-05\n",
            "Epoch 48/50\n",
            "1250/1250 [==============================] - 37s 29ms/step - loss: 0.7391 - accuracy: 0.7093 - val_loss: 0.8108 - val_accuracy: 0.6917 - lr: 1.0000e-05\n",
            "Epoch 49/50\n",
            "1250/1250 [==============================] - 36s 29ms/step - loss: 0.7400 - accuracy: 0.7096 - val_loss: 0.8551 - val_accuracy: 0.6757 - lr: 1.0000e-05\n",
            "Epoch 50/50\n",
            "1250/1250 [==============================] - 36s 29ms/step - loss: 0.7366 - accuracy: 0.7106 - val_loss: 0.8305 - val_accuracy: 0.6837 - lr: 1.0000e-05\n"
          ]
        }
      ]
    },
    {
      "cell_type": "code",
      "metadata": {
        "id": "3Ir3UzoiCzpA",
        "colab": {
          "base_uri": "https://localhost:8080/"
        },
        "outputId": "5427f2f9-15ca-405b-d86e-51e3e87d7af2"
      },
      "source": [
        "loss, accuracy = model.evaluate(X_test, y_test, verbose=1)\n",
        "loss_v, accuracy_v = model.evaluate(X_val, y_val, verbose=1)\n",
        "loss_t, accuracy_t = model.evaluate(X_train, y_train, verbose=1)\n",
        "print(\"Train: accuracy = %f  ;  loss_t = %f\" % (accuracy_t, loss_t))\n",
        "print(\"Validation: accuracy = %f  ;  loss_v = %f\" % (accuracy_v, loss_v))\n",
        "print(\"Test: accuracy = %f  ;  loss = %f\" % (accuracy, loss))\n",
        "model.save(\"CNN1_Vini.h5\")"
      ],
      "execution_count": null,
      "outputs": [
        {
          "output_type": "stream",
          "name": "stdout",
          "text": [
            "167/167 [==============================] - 1s 5ms/step - loss: 0.8435 - accuracy: 0.6891\n",
            "40/40 [==============================] - 0s 5ms/step - loss: 0.8305 - accuracy: 0.6837\n",
            "625/625 [==============================] - 5s 5ms/step - loss: 0.7652 - accuracy: 0.7017\n",
            "Train: accuracy = 0.701750  ;  loss_t = 0.765245\n",
            "Validation: accuracy = 0.683706  ;  loss_v = 0.830473\n",
            "Test: accuracy = 0.689065  ;  loss = 0.843487\n"
          ]
        }
      ]
    },
    {
      "cell_type": "code",
      "metadata": {
        "id": "8Ezre7kdCzrq",
        "colab": {
          "base_uri": "https://localhost:8080/",
          "height": 573
        },
        "outputId": "e707e161-2c53-459a-c796-bc2c2ac74133"
      },
      "source": [
        "# summarize history for accuracy\n",
        "plt.plot(history.history['accuracy'])\n",
        "plt.plot(history.history['val_accuracy'])\n",
        "plt.title('model accuracy')\n",
        "plt.ylabel('accuracy')\n",
        "plt.xlabel('epoch')\n",
        "plt.legend(['train', 'validation'], loc='upper left')\n",
        "plt.show()\n",
        "# summarize history for loss\n",
        "plt.plot(history.history['loss'])\n",
        "plt.plot(history.history['val_loss'])\n",
        "plt.title('model loss')\n",
        "plt.ylabel('loss')\n",
        "plt.xlabel('epoch')\n",
        "plt.legend(['train', 'validation'], loc='upper left')\n",
        "plt.show()"
      ],
      "execution_count": null,
      "outputs": [
        {
          "output_type": "display_data",
          "data": {
            "image/png": "[encoded data removed]",
            "text/plain": [
              "<Figure size 432x288 with 1 Axes>"
            ]
          },
          "metadata": {
            "needs_background": "light"
          }
        },
        {
          "output_type": "display_data",
          "data": {
            "image/png": "[encoded data removed]",
            "text/plain": [
              "<Figure size 432x288 with 1 Axes>"
            ]
          },
          "metadata": {
            "needs_background": "light"
          }
        }
      ]
    },
    {
      "cell_type": "code",
      "metadata": {
        "id": "CGlDjx4q1uQu"
      },
      "source": [
        "from keras import models   \n",
        "model = models.load_model('CNN1_Vini.h5')"
      ],
      "execution_count": null,
      "outputs": []
    },
    {
      "cell_type": "code",
      "metadata": {
        "colab": {
          "base_uri": "https://localhost:8080/"
        },
        "id": "Ya1gj-S2Iv-z",
        "outputId": "281305ae-0255-477a-eb15-be9efdf42228"
      },
      "source": [
        "from sklearn.metrics import confusion_matrix\n",
        "train_pred = model.predict(X_train)\n",
        "train_pred_classes = np.argmax(train_pred,axis = 1)\n",
        "test_pred = model.predict(X_test)\n",
        "# Convert predictions classes to one hot vectors \n",
        "test_pred_classes = np.argmax(test_pred,axis = 1) \n",
        "\n",
        "confusionmatrix = confusion_matrix(y_test, test_pred_classes)\n",
        "confusionmatrix"
      ],
      "execution_count": null,
      "outputs": [
        {
          "output_type": "execute_result",
          "data": {
            "text/plain": [
              "array([[ 116,   16,  200,    1,    8,   87,    0],\n",
              "       [  33,  354,  186,   11,   13,   63,    1],\n",
              "       [   5,   13, 1056,    4,   35,  168,    3],\n",
              "       [   9,    6,   58,   41,   11,   11,    0],\n",
              "       [   3,    5,  140,    3,  946,  203,    4],\n",
              "       [   2,    8,  255,    0,   71,  988,    0],\n",
              "       [   0,    6,    1,    0,    3,    6,  160]])"
            ]
          },
          "metadata": {},
          "execution_count": 31
        }
      ]
    },
    {
      "cell_type": "code",
      "metadata": {
        "id": "ybmalRixIwAs"
      },
      "source": [
        "classes=[0,1,2,3,4,5,6]"
      ],
      "execution_count": null,
      "outputs": []
    },
    {
      "cell_type": "code",
      "metadata": {
        "colab": {
          "base_uri": "https://localhost:8080/",
          "height": 671
        },
        "id": "-adlKDqZIwDD",
        "outputId": "7fdbfaac-67a9-44f7-fa06-c426a5981a03"
      },
      "source": [
        "figure = plt.figure(figsize=(9,9))\n",
        "sns.heatmap(confusionmatrix.astype('int'), annot=True,cmap=plt.cm.Blues, fmt=\".1f\")\n",
        "plt.tight_layout()\n",
        "plt.ylabel('True label')\n",
        "plt.xlabel('Predicted label')\n",
        "plt.show()"
      ],
      "execution_count": null,
      "outputs": [
        {
          "output_type": "display_data",
          "data": {
            "image/png": "[encoded data removed]",
            "text/plain": [
              "<Figure size 648x648 with 2 Axes>"
            ]
          },
          "metadata": {
            "needs_background": "light"
          }
        }
      ]
    },
    {
      "cell_type": "code",
      "metadata": {
        "colab": {
          "base_uri": "https://localhost:8080/"
        },
        "id": "SURo_9R8IwFr",
        "outputId": "7311dcfb-8078-420f-d7db-490d69573e97"
      },
      "source": [
        "from sklearn.metrics import classification_report\n",
        "labels = lesion_type.keys()\n",
        "# Generate a classification report\n",
        "trainreport = classification_report(y_train, train_pred_classes, target_names=list(labels))\n",
        "testreport = classification_report(y_test, test_pred_classes, target_names=list(labels))\n",
        "\n",
        "print(trainreport)\n",
        "print(testreport)"
      ],
      "execution_count": null,
      "outputs": [
        {
          "output_type": "stream",
          "name": "stdout",
          "text": [
            "              precision    recall  f1-score   support\n",
            "\n",
            "          nv       0.67      0.28      0.39      1435\n",
            "         mel       0.87      0.58      0.69      2294\n",
            "         bkl       0.58      0.82      0.68      4990\n",
            "         bcc       0.74      0.30      0.43       523\n",
            "       akiec       0.88      0.71      0.79      5085\n",
            "        vasc       0.66      0.76      0.71      5041\n",
            "          df       0.98      0.93      0.95       632\n",
            "\n",
            "    accuracy                           0.70     20000\n",
            "   macro avg       0.77      0.63      0.66     20000\n",
            "weighted avg       0.73      0.70      0.70     20000\n",
            "\n",
            "              precision    recall  f1-score   support\n",
            "\n",
            "          nv       0.69      0.27      0.39       428\n",
            "         mel       0.87      0.54      0.66       661\n",
            "         bkl       0.56      0.82      0.66      1284\n",
            "         bcc       0.68      0.30      0.42       136\n",
            "       akiec       0.87      0.73      0.79      1304\n",
            "        vasc       0.65      0.75      0.69      1324\n",
            "          df       0.95      0.91      0.93       176\n",
            "\n",
            "    accuracy                           0.69      5313\n",
            "   macro avg       0.75      0.62      0.65      5313\n",
            "weighted avg       0.72      0.69      0.68      5313\n",
            "\n"
          ]
        }
      ]
    }
  ]
}
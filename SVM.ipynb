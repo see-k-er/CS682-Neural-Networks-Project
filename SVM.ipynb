{
  "nbformat": 4,
  "nbformat_minor": 0,
  "metadata": {
    "colab": {
      "name": "Final_SVM.ipynb",
      "provenance": [],
      "collapsed_sections": []
    },
    "kernelspec": {
      "name": "python3",
      "display_name": "Python 3"
    },
    "language_info": {
      "name": "python"
    }
  },
  "cells": [
    {
      "cell_type": "code",
      "metadata": {
        "colab": {
          "base_uri": "https://localhost:8080/"
        },
        "id": "4SeokCWGxdW_",
        "outputId": "a3023603-9118-4dcd-9584-a0d6025192e8"
      },
      "source": [
        "from google.colab import drive\n",
        "drive.mount('/content/drive/', force_remount=True)\n",
        "%cd '/content/drive/MyDrive/Project_682'"
      ],
      "execution_count": null,
      "outputs": [
        {
          "output_type": "stream",
          "name": "stdout",
          "text": [
            "Mounted at /content/drive/\n",
            "/content/drive/MyDrive/Project_682\n"
          ]
        }
      ]
    },
    {
      "cell_type": "code",
      "metadata": {
        "id": "yU2YT9f8xhls"
      },
      "source": [
        "import matplotlib.pyplot as plt\n",
        "from PIL import Image\n",
        "import seaborn as sns\n",
        "import numpy as np\n",
        "import pandas as pd\n",
        "import os\n",
        "from tensorflow.keras.utils import to_categorical\n",
        "from glob import glob\n",
        "from tensorflow.keras.preprocessing.image import ImageDataGenerator"
      ],
      "execution_count": null,
      "outputs": []
    },
    {
      "cell_type": "markdown",
      "source": [
        "## Loading and Cleaning Metadata"
      ],
      "metadata": {
        "id": "Ddi4_ZIGaEW4"
      }
    },
    {
      "cell_type": "code",
      "metadata": {
        "id": "sheQiGYAx0EU"
      },
      "source": [
        "df = pd.read_csv('HAM10000_metadata.csv')"
      ],
      "execution_count": null,
      "outputs": []
    },
    {
      "cell_type": "code",
      "metadata": {
        "colab": {
          "base_uri": "https://localhost:8080/",
          "height": 419
        },
        "id": "lDvMKj9tho-2",
        "outputId": "bec9981b-ca13-4ab1-a014-2263b456c8ae"
      },
      "source": [
        "df"
      ],
      "execution_count": null,
      "outputs": [
        {
          "output_type": "execute_result",
          "data": {
            "text/html": [
              "<div>\n",
              "<style scoped>\n",
              "    .dataframe tbody tr th:only-of-type {\n",
              "        vertical-align: middle;\n",
              "    }\n",
              "\n",
              "    .dataframe tbody tr th {\n",
              "        vertical-align: top;\n",
              "    }\n",
              "\n",
              "    .dataframe thead th {\n",
              "        text-align: right;\n",
              "    }\n",
              "</style>\n",
              "<table border=\"1\" class=\"dataframe\">\n",
              "  <thead>\n",
              "    <tr style=\"text-align: right;\">\n",
              "      <th></th>\n",
              "      <th>lesion_id</th>\n",
              "      <th>image_id</th>\n",
              "      <th>dx</th>\n",
              "      <th>dx_type</th>\n",
              "      <th>age</th>\n",
              "      <th>sex</th>\n",
              "      <th>localization</th>\n",
              "      <th>dataset</th>\n",
              "    </tr>\n",
              "  </thead>\n",
              "  <tbody>\n",
              "    <tr>\n",
              "      <th>0</th>\n",
              "      <td>HAM_0000118</td>\n",
              "      <td>ISIC_0027419</td>\n",
              "      <td>bkl</td>\n",
              "      <td>histo</td>\n",
              "      <td>80.0</td>\n",
              "      <td>male</td>\n",
              "      <td>scalp</td>\n",
              "      <td>vidir_modern</td>\n",
              "    </tr>\n",
              "    <tr>\n",
              "      <th>1</th>\n",
              "      <td>HAM_0000118</td>\n",
              "      <td>ISIC_0025030</td>\n",
              "      <td>bkl</td>\n",
              "      <td>histo</td>\n",
              "      <td>80.0</td>\n",
              "      <td>male</td>\n",
              "      <td>scalp</td>\n",
              "      <td>vidir_modern</td>\n",
              "    </tr>\n",
              "    <tr>\n",
              "      <th>2</th>\n",
              "      <td>HAM_0002730</td>\n",
              "      <td>ISIC_0026769</td>\n",
              "      <td>bkl</td>\n",
              "      <td>histo</td>\n",
              "      <td>80.0</td>\n",
              "      <td>male</td>\n",
              "      <td>scalp</td>\n",
              "      <td>vidir_modern</td>\n",
              "    </tr>\n",
              "    <tr>\n",
              "      <th>3</th>\n",
              "      <td>HAM_0002730</td>\n",
              "      <td>ISIC_0025661</td>\n",
              "      <td>bkl</td>\n",
              "      <td>histo</td>\n",
              "      <td>80.0</td>\n",
              "      <td>male</td>\n",
              "      <td>scalp</td>\n",
              "      <td>vidir_modern</td>\n",
              "    </tr>\n",
              "    <tr>\n",
              "      <th>4</th>\n",
              "      <td>HAM_0001466</td>\n",
              "      <td>ISIC_0031633</td>\n",
              "      <td>bkl</td>\n",
              "      <td>histo</td>\n",
              "      <td>75.0</td>\n",
              "      <td>male</td>\n",
              "      <td>ear</td>\n",
              "      <td>vidir_modern</td>\n",
              "    </tr>\n",
              "    <tr>\n",
              "      <th>...</th>\n",
              "      <td>...</td>\n",
              "      <td>...</td>\n",
              "      <td>...</td>\n",
              "      <td>...</td>\n",
              "      <td>...</td>\n",
              "      <td>...</td>\n",
              "      <td>...</td>\n",
              "      <td>...</td>\n",
              "    </tr>\n",
              "    <tr>\n",
              "      <th>10010</th>\n",
              "      <td>HAM_0002867</td>\n",
              "      <td>ISIC_0033084</td>\n",
              "      <td>akiec</td>\n",
              "      <td>histo</td>\n",
              "      <td>40.0</td>\n",
              "      <td>male</td>\n",
              "      <td>abdomen</td>\n",
              "      <td>vidir_modern</td>\n",
              "    </tr>\n",
              "    <tr>\n",
              "      <th>10011</th>\n",
              "      <td>HAM_0002867</td>\n",
              "      <td>ISIC_0033550</td>\n",
              "      <td>akiec</td>\n",
              "      <td>histo</td>\n",
              "      <td>40.0</td>\n",
              "      <td>male</td>\n",
              "      <td>abdomen</td>\n",
              "      <td>vidir_modern</td>\n",
              "    </tr>\n",
              "    <tr>\n",
              "      <th>10012</th>\n",
              "      <td>HAM_0002867</td>\n",
              "      <td>ISIC_0033536</td>\n",
              "      <td>akiec</td>\n",
              "      <td>histo</td>\n",
              "      <td>40.0</td>\n",
              "      <td>male</td>\n",
              "      <td>abdomen</td>\n",
              "      <td>vidir_modern</td>\n",
              "    </tr>\n",
              "    <tr>\n",
              "      <th>10013</th>\n",
              "      <td>HAM_0000239</td>\n",
              "      <td>ISIC_0032854</td>\n",
              "      <td>akiec</td>\n",
              "      <td>histo</td>\n",
              "      <td>80.0</td>\n",
              "      <td>male</td>\n",
              "      <td>face</td>\n",
              "      <td>vidir_modern</td>\n",
              "    </tr>\n",
              "    <tr>\n",
              "      <th>10014</th>\n",
              "      <td>HAM_0003521</td>\n",
              "      <td>ISIC_0032258</td>\n",
              "      <td>mel</td>\n",
              "      <td>histo</td>\n",
              "      <td>70.0</td>\n",
              "      <td>female</td>\n",
              "      <td>back</td>\n",
              "      <td>vidir_modern</td>\n",
              "    </tr>\n",
              "  </tbody>\n",
              "</table>\n",
              "<p>10015 rows × 8 columns</p>\n",
              "</div>"
            ],
            "text/plain": [
              "         lesion_id      image_id     dx  ...     sex  localization       dataset\n",
              "0      HAM_0000118  ISIC_0027419    bkl  ...    male         scalp  vidir_modern\n",
              "1      HAM_0000118  ISIC_0025030    bkl  ...    male         scalp  vidir_modern\n",
              "2      HAM_0002730  ISIC_0026769    bkl  ...    male         scalp  vidir_modern\n",
              "3      HAM_0002730  ISIC_0025661    bkl  ...    male         scalp  vidir_modern\n",
              "4      HAM_0001466  ISIC_0031633    bkl  ...    male           ear  vidir_modern\n",
              "...            ...           ...    ...  ...     ...           ...           ...\n",
              "10010  HAM_0002867  ISIC_0033084  akiec  ...    male       abdomen  vidir_modern\n",
              "10011  HAM_0002867  ISIC_0033550  akiec  ...    male       abdomen  vidir_modern\n",
              "10012  HAM_0002867  ISIC_0033536  akiec  ...    male       abdomen  vidir_modern\n",
              "10013  HAM_0000239  ISIC_0032854  akiec  ...    male          face  vidir_modern\n",
              "10014  HAM_0003521  ISIC_0032258    mel  ...  female          back  vidir_modern\n",
              "\n",
              "[10015 rows x 8 columns]"
            ]
          },
          "metadata": {},
          "execution_count": 4
        }
      ]
    },
    {
      "cell_type": "code",
      "metadata": {
        "colab": {
          "base_uri": "https://localhost:8080/"
        },
        "id": "VM5WGKiJhrFg",
        "outputId": "09d0b7db-689c-4077-b0e1-c59d085a9601"
      },
      "source": [
        "df.shape"
      ],
      "execution_count": null,
      "outputs": [
        {
          "output_type": "execute_result",
          "data": {
            "text/plain": [
              "(10015, 8)"
            ]
          },
          "metadata": {},
          "execution_count": 5
        }
      ]
    },
    {
      "cell_type": "code",
      "metadata": {
        "colab": {
          "base_uri": "https://localhost:8080/"
        },
        "id": "wMdvisjuhwA1",
        "outputId": "865dcfdc-4d88-499a-9239-1dc4d8d9a28c"
      },
      "source": [
        "df.dtypes"
      ],
      "execution_count": null,
      "outputs": [
        {
          "output_type": "execute_result",
          "data": {
            "text/plain": [
              "lesion_id        object\n",
              "image_id         object\n",
              "dx               object\n",
              "dx_type          object\n",
              "age             float64\n",
              "sex              object\n",
              "localization     object\n",
              "dataset          object\n",
              "dtype: object"
            ]
          },
          "metadata": {},
          "execution_count": 6
        }
      ]
    },
    {
      "cell_type": "code",
      "metadata": {
        "colab": {
          "base_uri": "https://localhost:8080/",
          "height": 390
        },
        "id": "HdSh1Kamhyqj",
        "outputId": "ba0b9f94-e179-4e1d-8c39-419be7ca1323"
      },
      "source": [
        "df.describe(include='all')"
      ],
      "execution_count": null,
      "outputs": [
        {
          "output_type": "execute_result",
          "data": {
            "text/html": [
              "<div>\n",
              "<style scoped>\n",
              "    .dataframe tbody tr th:only-of-type {\n",
              "        vertical-align: middle;\n",
              "    }\n",
              "\n",
              "    .dataframe tbody tr th {\n",
              "        vertical-align: top;\n",
              "    }\n",
              "\n",
              "    .dataframe thead th {\n",
              "        text-align: right;\n",
              "    }\n",
              "</style>\n",
              "<table border=\"1\" class=\"dataframe\">\n",
              "  <thead>\n",
              "    <tr style=\"text-align: right;\">\n",
              "      <th></th>\n",
              "      <th>lesion_id</th>\n",
              "      <th>image_id</th>\n",
              "      <th>dx</th>\n",
              "      <th>dx_type</th>\n",
              "      <th>age</th>\n",
              "      <th>sex</th>\n",
              "      <th>localization</th>\n",
              "      <th>dataset</th>\n",
              "    </tr>\n",
              "  </thead>\n",
              "  <tbody>\n",
              "    <tr>\n",
              "      <th>count</th>\n",
              "      <td>10015</td>\n",
              "      <td>10015</td>\n",
              "      <td>10015</td>\n",
              "      <td>10015</td>\n",
              "      <td>9958.000000</td>\n",
              "      <td>10015</td>\n",
              "      <td>10015</td>\n",
              "      <td>10015</td>\n",
              "    </tr>\n",
              "    <tr>\n",
              "      <th>unique</th>\n",
              "      <td>7470</td>\n",
              "      <td>10015</td>\n",
              "      <td>7</td>\n",
              "      <td>4</td>\n",
              "      <td>NaN</td>\n",
              "      <td>3</td>\n",
              "      <td>15</td>\n",
              "      <td>4</td>\n",
              "    </tr>\n",
              "    <tr>\n",
              "      <th>top</th>\n",
              "      <td>HAM_0003789</td>\n",
              "      <td>ISIC_0034231</td>\n",
              "      <td>nv</td>\n",
              "      <td>histo</td>\n",
              "      <td>NaN</td>\n",
              "      <td>male</td>\n",
              "      <td>back</td>\n",
              "      <td>vidir_molemax</td>\n",
              "    </tr>\n",
              "    <tr>\n",
              "      <th>freq</th>\n",
              "      <td>6</td>\n",
              "      <td>1</td>\n",
              "      <td>6705</td>\n",
              "      <td>5340</td>\n",
              "      <td>NaN</td>\n",
              "      <td>5406</td>\n",
              "      <td>2192</td>\n",
              "      <td>3954</td>\n",
              "    </tr>\n",
              "    <tr>\n",
              "      <th>mean</th>\n",
              "      <td>NaN</td>\n",
              "      <td>NaN</td>\n",
              "      <td>NaN</td>\n",
              "      <td>NaN</td>\n",
              "      <td>51.863828</td>\n",
              "      <td>NaN</td>\n",
              "      <td>NaN</td>\n",
              "      <td>NaN</td>\n",
              "    </tr>\n",
              "    <tr>\n",
              "      <th>std</th>\n",
              "      <td>NaN</td>\n",
              "      <td>NaN</td>\n",
              "      <td>NaN</td>\n",
              "      <td>NaN</td>\n",
              "      <td>16.968614</td>\n",
              "      <td>NaN</td>\n",
              "      <td>NaN</td>\n",
              "      <td>NaN</td>\n",
              "    </tr>\n",
              "    <tr>\n",
              "      <th>min</th>\n",
              "      <td>NaN</td>\n",
              "      <td>NaN</td>\n",
              "      <td>NaN</td>\n",
              "      <td>NaN</td>\n",
              "      <td>0.000000</td>\n",
              "      <td>NaN</td>\n",
              "      <td>NaN</td>\n",
              "      <td>NaN</td>\n",
              "    </tr>\n",
              "    <tr>\n",
              "      <th>25%</th>\n",
              "      <td>NaN</td>\n",
              "      <td>NaN</td>\n",
              "      <td>NaN</td>\n",
              "      <td>NaN</td>\n",
              "      <td>40.000000</td>\n",
              "      <td>NaN</td>\n",
              "      <td>NaN</td>\n",
              "      <td>NaN</td>\n",
              "    </tr>\n",
              "    <tr>\n",
              "      <th>50%</th>\n",
              "      <td>NaN</td>\n",
              "      <td>NaN</td>\n",
              "      <td>NaN</td>\n",
              "      <td>NaN</td>\n",
              "      <td>50.000000</td>\n",
              "      <td>NaN</td>\n",
              "      <td>NaN</td>\n",
              "      <td>NaN</td>\n",
              "    </tr>\n",
              "    <tr>\n",
              "      <th>75%</th>\n",
              "      <td>NaN</td>\n",
              "      <td>NaN</td>\n",
              "      <td>NaN</td>\n",
              "      <td>NaN</td>\n",
              "      <td>65.000000</td>\n",
              "      <td>NaN</td>\n",
              "      <td>NaN</td>\n",
              "      <td>NaN</td>\n",
              "    </tr>\n",
              "    <tr>\n",
              "      <th>max</th>\n",
              "      <td>NaN</td>\n",
              "      <td>NaN</td>\n",
              "      <td>NaN</td>\n",
              "      <td>NaN</td>\n",
              "      <td>85.000000</td>\n",
              "      <td>NaN</td>\n",
              "      <td>NaN</td>\n",
              "      <td>NaN</td>\n",
              "    </tr>\n",
              "  </tbody>\n",
              "</table>\n",
              "</div>"
            ],
            "text/plain": [
              "          lesion_id      image_id     dx  ...    sex  localization        dataset\n",
              "count         10015         10015  10015  ...  10015         10015          10015\n",
              "unique         7470         10015      7  ...      3            15              4\n",
              "top     HAM_0003789  ISIC_0034231     nv  ...   male          back  vidir_molemax\n",
              "freq              6             1   6705  ...   5406          2192           3954\n",
              "mean            NaN           NaN    NaN  ...    NaN           NaN            NaN\n",
              "std             NaN           NaN    NaN  ...    NaN           NaN            NaN\n",
              "min             NaN           NaN    NaN  ...    NaN           NaN            NaN\n",
              "25%             NaN           NaN    NaN  ...    NaN           NaN            NaN\n",
              "50%             NaN           NaN    NaN  ...    NaN           NaN            NaN\n",
              "75%             NaN           NaN    NaN  ...    NaN           NaN            NaN\n",
              "max             NaN           NaN    NaN  ...    NaN           NaN            NaN\n",
              "\n",
              "[11 rows x 8 columns]"
            ]
          },
          "metadata": {},
          "execution_count": 7
        }
      ]
    },
    {
      "cell_type": "code",
      "metadata": {
        "colab": {
          "base_uri": "https://localhost:8080/"
        },
        "id": "aCINirU9h1-y",
        "outputId": "9c50e46e-faf3-40dc-9272-e3c372a0b87e"
      },
      "source": [
        "df.info()"
      ],
      "execution_count": null,
      "outputs": [
        {
          "output_type": "stream",
          "name": "stdout",
          "text": [
            "<class 'pandas.core.frame.DataFrame'>\n",
            "RangeIndex: 10015 entries, 0 to 10014\n",
            "Data columns (total 8 columns):\n",
            " #   Column        Non-Null Count  Dtype  \n",
            "---  ------        --------------  -----  \n",
            " 0   lesion_id     10015 non-null  object \n",
            " 1   image_id      10015 non-null  object \n",
            " 2   dx            10015 non-null  object \n",
            " 3   dx_type       10015 non-null  object \n",
            " 4   age           9958 non-null   float64\n",
            " 5   sex           10015 non-null  object \n",
            " 6   localization  10015 non-null  object \n",
            " 7   dataset       10015 non-null  object \n",
            "dtypes: float64(1), object(7)\n",
            "memory usage: 626.1+ KB\n"
          ]
        }
      ]
    },
    {
      "cell_type": "code",
      "metadata": {
        "colab": {
          "base_uri": "https://localhost:8080/"
        },
        "id": "X9j8XqM1h2Cd",
        "outputId": "262cad99-89fc-4865-9857-3b51d3720437"
      },
      "source": [
        "df.isnull().sum()"
      ],
      "execution_count": null,
      "outputs": [
        {
          "output_type": "execute_result",
          "data": {
            "text/plain": [
              "lesion_id        0\n",
              "image_id         0\n",
              "dx               0\n",
              "dx_type          0\n",
              "age             57\n",
              "sex              0\n",
              "localization     0\n",
              "dataset          0\n",
              "dtype: int64"
            ]
          },
          "metadata": {},
          "execution_count": 9
        }
      ]
    },
    {
      "cell_type": "code",
      "metadata": {
        "id": "XOxfVEhAh2Fs"
      },
      "source": [
        "mean = int(df['age'].mean())\n",
        "df['age'].fillna(mean,inplace=True)"
      ],
      "execution_count": null,
      "outputs": []
    },
    {
      "cell_type": "code",
      "metadata": {
        "colab": {
          "base_uri": "https://localhost:8080/"
        },
        "id": "D_j5J7npx-or",
        "outputId": "d410eb35-c656-432b-f1fc-b1d57d405eba"
      },
      "source": [
        "df.isnull().sum()"
      ],
      "execution_count": null,
      "outputs": [
        {
          "output_type": "execute_result",
          "data": {
            "text/plain": [
              "lesion_id       0\n",
              "image_id        0\n",
              "dx              0\n",
              "dx_type         0\n",
              "age             0\n",
              "sex             0\n",
              "localization    0\n",
              "dataset         0\n",
              "dtype: int64"
            ]
          },
          "metadata": {},
          "execution_count": 11
        }
      ]
    },
    {
      "cell_type": "code",
      "metadata": {
        "id": "44qgv_l7yAGF"
      },
      "source": [
        "lesion_type = {\n",
        "    'nv': 'Melanocytic nevi',\n",
        "    'mel': 'Melanoma',\n",
        "    'bkl': 'Benign keratosis-like lesions ',\n",
        "    'bcc': 'Basal cell carcinoma',\n",
        "    'akiec': 'Actinic keratoses',\n",
        "    'vasc': 'Vascular lesions',\n",
        "    'df': 'Dermatofibroma'\n",
        "}\n",
        "\n",
        "df['lesion_type'] = df['dx'].map(lesion_type.get) \n",
        "df['lesion_type_idx'] = pd.Categorical(df['lesion_type']).codes"
      ],
      "execution_count": null,
      "outputs": []
    },
    {
      "cell_type": "code",
      "metadata": {
        "id": "q2ZwxUxAiM1k"
      },
      "source": [
        "#Now time to read images based on image ID from the CSV file\n",
        "#This is the safest way to read images as it ensures the right image is read for the right ID\n",
        "imageid_path = {os.path.splitext(os.path.basename(x))[0]: x\n",
        "                     for x in glob(os.path.join('', '*', '*.jpg'))}"
      ],
      "execution_count": null,
      "outputs": []
    },
    {
      "cell_type": "code",
      "metadata": {
        "id": "SbEz0MaYyddN"
      },
      "source": [
        "df['path'] = df['image_id'].map(imageid_path.get)"
      ],
      "execution_count": null,
      "outputs": []
    },
    {
      "cell_type": "code",
      "metadata": {
        "colab": {
          "base_uri": "https://localhost:8080/",
          "height": 419
        },
        "id": "UEgsPiFojnB_",
        "outputId": "efaf4e40-52f0-406c-9dae-c3051e209724"
      },
      "source": [
        "df"
      ],
      "execution_count": null,
      "outputs": [
        {
          "output_type": "execute_result",
          "data": {
            "text/html": [
              "<div>\n",
              "<style scoped>\n",
              "    .dataframe tbody tr th:only-of-type {\n",
              "        vertical-align: middle;\n",
              "    }\n",
              "\n",
              "    .dataframe tbody tr th {\n",
              "        vertical-align: top;\n",
              "    }\n",
              "\n",
              "    .dataframe thead th {\n",
              "        text-align: right;\n",
              "    }\n",
              "</style>\n",
              "<table border=\"1\" class=\"dataframe\">\n",
              "  <thead>\n",
              "    <tr style=\"text-align: right;\">\n",
              "      <th></th>\n",
              "      <th>lesion_id</th>\n",
              "      <th>image_id</th>\n",
              "      <th>dx</th>\n",
              "      <th>dx_type</th>\n",
              "      <th>age</th>\n",
              "      <th>sex</th>\n",
              "      <th>localization</th>\n",
              "      <th>dataset</th>\n",
              "      <th>lesion_type</th>\n",
              "      <th>lesion_type_idx</th>\n",
              "      <th>path</th>\n",
              "    </tr>\n",
              "  </thead>\n",
              "  <tbody>\n",
              "    <tr>\n",
              "      <th>0</th>\n",
              "      <td>HAM_0000118</td>\n",
              "      <td>ISIC_0027419</td>\n",
              "      <td>bkl</td>\n",
              "      <td>histo</td>\n",
              "      <td>80.0</td>\n",
              "      <td>male</td>\n",
              "      <td>scalp</td>\n",
              "      <td>vidir_modern</td>\n",
              "      <td>Benign keratosis-like lesions</td>\n",
              "      <td>2</td>\n",
              "      <td>HAM10000/ISIC_0027419.jpg</td>\n",
              "    </tr>\n",
              "    <tr>\n",
              "      <th>1</th>\n",
              "      <td>HAM_0000118</td>\n",
              "      <td>ISIC_0025030</td>\n",
              "      <td>bkl</td>\n",
              "      <td>histo</td>\n",
              "      <td>80.0</td>\n",
              "      <td>male</td>\n",
              "      <td>scalp</td>\n",
              "      <td>vidir_modern</td>\n",
              "      <td>Benign keratosis-like lesions</td>\n",
              "      <td>2</td>\n",
              "      <td>HAM10000/ISIC_0025030.jpg</td>\n",
              "    </tr>\n",
              "    <tr>\n",
              "      <th>2</th>\n",
              "      <td>HAM_0002730</td>\n",
              "      <td>ISIC_0026769</td>\n",
              "      <td>bkl</td>\n",
              "      <td>histo</td>\n",
              "      <td>80.0</td>\n",
              "      <td>male</td>\n",
              "      <td>scalp</td>\n",
              "      <td>vidir_modern</td>\n",
              "      <td>Benign keratosis-like lesions</td>\n",
              "      <td>2</td>\n",
              "      <td>HAM10000/ISIC_0026769.jpg</td>\n",
              "    </tr>\n",
              "    <tr>\n",
              "      <th>3</th>\n",
              "      <td>HAM_0002730</td>\n",
              "      <td>ISIC_0025661</td>\n",
              "      <td>bkl</td>\n",
              "      <td>histo</td>\n",
              "      <td>80.0</td>\n",
              "      <td>male</td>\n",
              "      <td>scalp</td>\n",
              "      <td>vidir_modern</td>\n",
              "      <td>Benign keratosis-like lesions</td>\n",
              "      <td>2</td>\n",
              "      <td>HAM10000/ISIC_0025661.jpg</td>\n",
              "    </tr>\n",
              "    <tr>\n",
              "      <th>4</th>\n",
              "      <td>HAM_0001466</td>\n",
              "      <td>ISIC_0031633</td>\n",
              "      <td>bkl</td>\n",
              "      <td>histo</td>\n",
              "      <td>75.0</td>\n",
              "      <td>male</td>\n",
              "      <td>ear</td>\n",
              "      <td>vidir_modern</td>\n",
              "      <td>Benign keratosis-like lesions</td>\n",
              "      <td>2</td>\n",
              "      <td>HAM10000/ISIC_0031633.jpg</td>\n",
              "    </tr>\n",
              "    <tr>\n",
              "      <th>...</th>\n",
              "      <td>...</td>\n",
              "      <td>...</td>\n",
              "      <td>...</td>\n",
              "      <td>...</td>\n",
              "      <td>...</td>\n",
              "      <td>...</td>\n",
              "      <td>...</td>\n",
              "      <td>...</td>\n",
              "      <td>...</td>\n",
              "      <td>...</td>\n",
              "      <td>...</td>\n",
              "    </tr>\n",
              "    <tr>\n",
              "      <th>10010</th>\n",
              "      <td>HAM_0002867</td>\n",
              "      <td>ISIC_0033084</td>\n",
              "      <td>akiec</td>\n",
              "      <td>histo</td>\n",
              "      <td>40.0</td>\n",
              "      <td>male</td>\n",
              "      <td>abdomen</td>\n",
              "      <td>vidir_modern</td>\n",
              "      <td>Actinic keratoses</td>\n",
              "      <td>0</td>\n",
              "      <td>HAM10000/ISIC_0033084.jpg</td>\n",
              "    </tr>\n",
              "    <tr>\n",
              "      <th>10011</th>\n",
              "      <td>HAM_0002867</td>\n",
              "      <td>ISIC_0033550</td>\n",
              "      <td>akiec</td>\n",
              "      <td>histo</td>\n",
              "      <td>40.0</td>\n",
              "      <td>male</td>\n",
              "      <td>abdomen</td>\n",
              "      <td>vidir_modern</td>\n",
              "      <td>Actinic keratoses</td>\n",
              "      <td>0</td>\n",
              "      <td>HAM10000/ISIC_0033550.jpg</td>\n",
              "    </tr>\n",
              "    <tr>\n",
              "      <th>10012</th>\n",
              "      <td>HAM_0002867</td>\n",
              "      <td>ISIC_0033536</td>\n",
              "      <td>akiec</td>\n",
              "      <td>histo</td>\n",
              "      <td>40.0</td>\n",
              "      <td>male</td>\n",
              "      <td>abdomen</td>\n",
              "      <td>vidir_modern</td>\n",
              "      <td>Actinic keratoses</td>\n",
              "      <td>0</td>\n",
              "      <td>HAM10000/ISIC_0033536.jpg</td>\n",
              "    </tr>\n",
              "    <tr>\n",
              "      <th>10013</th>\n",
              "      <td>HAM_0000239</td>\n",
              "      <td>ISIC_0032854</td>\n",
              "      <td>akiec</td>\n",
              "      <td>histo</td>\n",
              "      <td>80.0</td>\n",
              "      <td>male</td>\n",
              "      <td>face</td>\n",
              "      <td>vidir_modern</td>\n",
              "      <td>Actinic keratoses</td>\n",
              "      <td>0</td>\n",
              "      <td>HAM10000/ISIC_0032854.jpg</td>\n",
              "    </tr>\n",
              "    <tr>\n",
              "      <th>10014</th>\n",
              "      <td>HAM_0003521</td>\n",
              "      <td>ISIC_0032258</td>\n",
              "      <td>mel</td>\n",
              "      <td>histo</td>\n",
              "      <td>70.0</td>\n",
              "      <td>female</td>\n",
              "      <td>back</td>\n",
              "      <td>vidir_modern</td>\n",
              "      <td>Melanoma</td>\n",
              "      <td>5</td>\n",
              "      <td>HAM10000/ISIC_0032258.jpg</td>\n",
              "    </tr>\n",
              "  </tbody>\n",
              "</table>\n",
              "<p>10015 rows × 11 columns</p>\n",
              "</div>"
            ],
            "text/plain": [
              "         lesion_id      image_id  ... lesion_type_idx                       path\n",
              "0      HAM_0000118  ISIC_0027419  ...               2  HAM10000/ISIC_0027419.jpg\n",
              "1      HAM_0000118  ISIC_0025030  ...               2  HAM10000/ISIC_0025030.jpg\n",
              "2      HAM_0002730  ISIC_0026769  ...               2  HAM10000/ISIC_0026769.jpg\n",
              "3      HAM_0002730  ISIC_0025661  ...               2  HAM10000/ISIC_0025661.jpg\n",
              "4      HAM_0001466  ISIC_0031633  ...               2  HAM10000/ISIC_0031633.jpg\n",
              "...            ...           ...  ...             ...                        ...\n",
              "10010  HAM_0002867  ISIC_0033084  ...               0  HAM10000/ISIC_0033084.jpg\n",
              "10011  HAM_0002867  ISIC_0033550  ...               0  HAM10000/ISIC_0033550.jpg\n",
              "10012  HAM_0002867  ISIC_0033536  ...               0  HAM10000/ISIC_0033536.jpg\n",
              "10013  HAM_0000239  ISIC_0032854  ...               0  HAM10000/ISIC_0032854.jpg\n",
              "10014  HAM_0003521  ISIC_0032258  ...               5  HAM10000/ISIC_0032258.jpg\n",
              "\n",
              "[10015 rows x 11 columns]"
            ]
          },
          "metadata": {},
          "execution_count": 15
        }
      ]
    },
    {
      "cell_type": "code",
      "metadata": {
        "colab": {
          "base_uri": "https://localhost:8080/"
        },
        "id": "UPhnVXerjlS-",
        "outputId": "0d11e8d6-c6d5-4f87-db8d-a418b305d5a8"
      },
      "source": [
        "df['lesion_type_idx'].value_counts()"
      ],
      "execution_count": null,
      "outputs": [
        {
          "output_type": "execute_result",
          "data": {
            "text/plain": [
              "4    6705\n",
              "5    1113\n",
              "2    1099\n",
              "1     514\n",
              "0     327\n",
              "6     142\n",
              "3     115\n",
              "Name: lesion_type_idx, dtype: int64"
            ]
          },
          "metadata": {},
          "execution_count": 16
        }
      ]
    },
    {
      "cell_type": "markdown",
      "source": [
        "## Denoise, Resize and Data Augmentation"
      ],
      "metadata": {
        "id": "qgQ7I8lvZ3TP"
      }
    },
    {
      "cell_type": "code",
      "source": [
        "import cv2\n",
        "from cv2 import imread, resize"
      ],
      "metadata": {
        "id": "kFOaDdLKaNXX"
      },
      "execution_count": null,
      "outputs": []
    },
    {
      "cell_type": "code",
      "metadata": {
        "id": "VwJIuvmTjOk2"
      },
      "source": [
        "def produce_new_img(img2):\n",
        "    imga = cv2.rotate(img2,cv2.ROTATE_90_CLOCKWISE)\n",
        "    imgb = cv2.rotate(img2,cv2.ROTATE_90_COUNTERCLOCKWISE)\n",
        "    imgc = cv2.rotate(img2,cv2.ROTATE_180)\n",
        "    imgd = cv2.flip(img2,0)\n",
        "    imge = cv2.flip(img2,1)\n",
        "    return imga,imgb,imgc,imgd,imge\n",
        "\n",
        "X = []\n",
        "y = []\n",
        "\n",
        "kernel = cv2.getStructuringElement(1,(17,17)) # Kernel for the morphological filtering\n",
        "\n",
        "for i in range(len(df)):\n",
        "  src = cv2.imread(df['path'][i])\n",
        "  grayScale = cv2.cvtColor( src, cv2.COLOR_RGB2GRAY ) #1 Convert the original image to grayscale\n",
        "  blackhat = cv2.morphologyEx(grayScale, cv2.MORPH_BLACKHAT, kernel) #2 Perform the blackHat filtering on the grayscale image to find the hair countours\n",
        "  ret,thresh2 = cv2.threshold(blackhat,10,255,cv2.THRESH_BINARY) # intensify the hair countours in preparation for the inpainting algorithm\n",
        "  dst = cv2.inpaint(src,thresh2,1,cv2.INPAINT_TELEA) # inpaint the original image depending on the mask\n",
        "\n",
        "  file_to_read = df['path'][i]\n",
        "  img = imread(file_to_read)\n",
        "  img2 = resize(dst,(50,50))\n",
        "  X.append(img2)\n",
        "    \n",
        "  #targets\n",
        "  output = df['lesion_type_idx'][i]\n",
        "  y.append(output)\n",
        "    \n",
        "  # add more images for class between 1-6, rotating them \n",
        "  if output != 4:\n",
        "    new_img = produce_new_img(img2)\n",
        "    for i in range(5):\n",
        "      X.append(new_img[i])\n",
        "      y.append(output)"
      ],
      "execution_count": null,
      "outputs": []
    },
    {
      "cell_type": "code",
      "metadata": {
        "colab": {
          "base_uri": "https://localhost:8080/"
        },
        "id": "yqd4Z6RBMfw5",
        "outputId": "fda850de-eba7-470a-ba17-d1511aa077f5"
      },
      "source": [
        "print(y.count(0),y.count(1),y.count(2),y.count(3),y.count(4),y.count(5),y.count(6))"
      ],
      "execution_count": null,
      "outputs": [
        {
          "output_type": "stream",
          "name": "stdout",
          "text": [
            "1962 3084 6594 690 6705 6678 852\n"
          ]
        }
      ]
    },
    {
      "cell_type": "markdown",
      "source": [
        "## Saving data after pre-processing"
      ],
      "metadata": {
        "id": "nsATAd3Acn0Q"
      }
    },
    {
      "cell_type": "code",
      "source": [
        "import pickle"
      ],
      "metadata": {
        "id": "LYkMCHugcoFy"
      },
      "execution_count": null,
      "outputs": []
    },
    {
      "cell_type": "code",
      "source": [
        "file_name = \"X.pkl\"\n",
        "\n",
        "#open_file = open(file_name, \"wb\")\n",
        "#pickle.dump(X, open_file)\n",
        "#open_file.close()\n",
        "\n",
        "open_file = open(file_name, \"rb\")\n",
        "X = pickle.load(open_file)\n",
        "open_file.close()\n",
        "\n",
        "#print(X)"
      ],
      "metadata": {
        "id": "ju5nTDkScoIn"
      },
      "execution_count": null,
      "outputs": []
    },
    {
      "cell_type": "code",
      "source": [
        "X= np.array(X)"
      ],
      "metadata": {
        "id": "SMWWiKy5coMa"
      },
      "execution_count": null,
      "outputs": []
    },
    {
      "cell_type": "code",
      "source": [
        "X.shape"
      ],
      "metadata": {
        "id": "nw4qMtUQcoPw"
      },
      "execution_count": null,
      "outputs": []
    },
    {
      "cell_type": "code",
      "source": [
        "X = X.astype(np.float64)"
      ],
      "metadata": {
        "id": "93gF_wCacoS0"
      },
      "execution_count": null,
      "outputs": []
    },
    {
      "cell_type": "code",
      "source": [
        "X.dtype"
      ],
      "metadata": {
        "id": "eaivVjZWcogI"
      },
      "execution_count": null,
      "outputs": []
    },
    {
      "cell_type": "code",
      "source": [
        "file_name = \"y.pkl\"\n",
        "\n",
        "#open_file = open(file_name, \"wb\")\n",
        "#pickle.dump(y, open_file)\n",
        "#open_file.close()\n",
        "\n",
        "open_file = open(file_name, \"rb\")\n",
        "y = pickle.load(open_file)\n",
        "open_file.close()\n",
        "\n",
        "#print(y)"
      ],
      "metadata": {
        "id": "BDbhZ_fwdAB7"
      },
      "execution_count": null,
      "outputs": []
    },
    {
      "cell_type": "code",
      "source": [
        "y = np.array(y)"
      ],
      "metadata": {
        "id": "esa55q3VdI6a"
      },
      "execution_count": null,
      "outputs": []
    },
    {
      "cell_type": "code",
      "source": [
        "y.shape"
      ],
      "metadata": {
        "id": "6t5HJx2hdAFi"
      },
      "execution_count": null,
      "outputs": []
    },
    {
      "cell_type": "code",
      "metadata": {
        "id": "aA48daGmL5I5"
      },
      "source": [
        "from keras.utils.np_utils import to_categorical\n",
        "\n",
        "X = np.array(X)\n",
        "y = np.array(y)\n",
        "\n",
        "#y_train = to_categorical(y, num_classes=7)"
      ],
      "execution_count": null,
      "outputs": []
    },
    {
      "cell_type": "code",
      "metadata": {
        "id": "LFiDpjaTA3lL"
      },
      "source": [
        "X = X.astype(np.float64)"
      ],
      "execution_count": null,
      "outputs": []
    },
    {
      "cell_type": "code",
      "metadata": {
        "id": "tyvqes2gsf4m"
      },
      "source": [
        "#y_train = [1 if each == 5 else 0 for each in y]"
      ],
      "execution_count": null,
      "outputs": []
    },
    {
      "cell_type": "markdown",
      "source": [
        "## Train and Test split"
      ],
      "metadata": {
        "id": "BtfmofKfaSwU"
      }
    },
    {
      "cell_type": "code",
      "metadata": {
        "colab": {
          "base_uri": "https://localhost:8080/"
        },
        "id": "a0tQBoWiL8iQ",
        "outputId": "eb4ae7ad-bef3-438d-cf1d-33225a0b05f7"
      },
      "source": [
        "from sklearn.model_selection import train_test_split\n",
        "\n",
        "# split in 70% training and 30% test data\n",
        "X_train, X_test, y_train, y_test = train_test_split(X, y, test_size=0.20, random_state=0)\n",
        "\n",
        "\n",
        "print('Train dataset shape',X_train.shape)\n",
        "print('Test dataset shape',X_test.shape)"
      ],
      "execution_count": null,
      "outputs": [
        {
          "output_type": "stream",
          "name": "stdout",
          "text": [
            "Train dataset shape (21252, 50, 50, 3)\n",
            "Test dataset shape (5313, 50, 50, 3)\n"
          ]
        }
      ]
    },
    {
      "cell_type": "markdown",
      "metadata": {
        "id": "r98VnFZumEto"
      },
      "source": [
        "## SVM"
      ]
    },
    {
      "cell_type": "code",
      "metadata": {
        "id": "biueoBnxmpJw"
      },
      "source": [
        "# This is a bit of magic to make matplotlib figures appear inline in the\n",
        "# notebook rather than in a new window.\n",
        "%matplotlib inline\n",
        "plt.rcParams['figure.figsize'] = (10.0, 8.0) # set default size of plots\n",
        "plt.rcParams['image.interpolation'] = 'nearest'\n",
        "plt.rcParams['image.cmap'] = 'gray'\n",
        "\n",
        "# Some more magic so that the notebook will reload external python modules;\n",
        "# see http://stackoverflow.com/questions/1907993/autoreload-of-modules-in-ipython\n",
        "%load_ext autoreload\n",
        "%autoreload 2"
      ],
      "execution_count": null,
      "outputs": []
    },
    {
      "cell_type": "code",
      "metadata": {
        "id": "I74GxXAkj4xW",
        "colab": {
          "base_uri": "https://localhost:8080/"
        },
        "outputId": "1306351e-6afb-40e2-8190-fd2fa7b8d9be"
      },
      "source": [
        "# Split the data into train, val, and test sets. In addition we will\n",
        "# create a small development set as a subset of the training data;\n",
        "# we can use this for development so our code runs faster.\n",
        "num_training = 20000\n",
        "num_validation = 1252\n",
        "num_test = 5313\n",
        "num_dev = 252\n",
        "\n",
        "# Our validation set will be num_validation points from the original\n",
        "# training set.\n",
        "mask = range(num_training, num_training + num_validation)\n",
        "X_val = X_train[mask]\n",
        "y_val = y_train[mask]\n",
        "\n",
        "# Our training set will be the first num_train points from the original\n",
        "# training set.\n",
        "mask = range(num_training)\n",
        "X_train = X_train[mask]\n",
        "y_train = y_train[mask]\n",
        "\n",
        "# We will also make a development set, which is a small subset of\n",
        "# the training set.\n",
        "mask = np.random.choice(num_training, num_dev, replace=False)\n",
        "X_dev = X_train[mask]\n",
        "y_dev = y_train[mask]\n",
        "\n",
        "# We use the first num_test points of the original test set as our\n",
        "# test set.\n",
        "mask = range(num_test)\n",
        "X_test = X_test[mask]\n",
        "y_test = y_test[mask]\n",
        "\n",
        "print('Train data shape: ', X_train.shape)\n",
        "print('Train labels shape: ', y_train.shape)\n",
        "print('Validation data shape: ', X_val.shape)\n",
        "print('Validation labels shape: ', y_val.shape)\n",
        "print('Test data shape: ', X_test.shape)\n",
        "print('Test labels shape: ', y_test.shape)"
      ],
      "execution_count": null,
      "outputs": [
        {
          "output_type": "stream",
          "name": "stdout",
          "text": [
            "Train data shape:  (20000, 50, 50, 3)\n",
            "Train labels shape:  (20000,)\n",
            "Validation data shape:  (1252, 50, 50, 3)\n",
            "Validation labels shape:  (1252,)\n",
            "Test data shape:  (5313, 50, 50, 3)\n",
            "Test labels shape:  (5313,)\n"
          ]
        }
      ]
    },
    {
      "cell_type": "code",
      "metadata": {
        "id": "-2-xYAqgj40K",
        "colab": {
          "base_uri": "https://localhost:8080/"
        },
        "outputId": "ca0f0b83-627b-45c8-b5f5-07ac9168b7c3"
      },
      "source": [
        "# Preprocessing: reshape the image data into rows\n",
        "X_train = np.reshape(X_train, (X_train.shape[0], -1))\n",
        "X_val = np.reshape(X_val, (X_val.shape[0], -1))\n",
        "X_test = np.reshape(X_test, (X_test.shape[0], -1))\n",
        "X_dev = np.reshape(X_dev, (X_dev.shape[0], -1))\n",
        "\n",
        "# As a sanity check, print out the shapes of the data\n",
        "print('Training data shape: ', X_train.shape)\n",
        "print('Validation data shape: ', X_val.shape)\n",
        "print('Test data shape: ', X_test.shape)\n",
        "print('dev data shape: ', X_dev.shape)"
      ],
      "execution_count": null,
      "outputs": [
        {
          "output_type": "stream",
          "name": "stdout",
          "text": [
            "Training data shape:  (20000, 7500)\n",
            "Validation data shape:  (1252, 7500)\n",
            "Test data shape:  (5313, 7500)\n",
            "dev data shape:  (252, 7500)\n"
          ]
        }
      ]
    },
    {
      "cell_type": "code",
      "metadata": {
        "id": "aXhqAuMuj42f",
        "colab": {
          "base_uri": "https://localhost:8080/",
          "height": 301
        },
        "outputId": "a9685a55-e613-4f62-8b66-5ee551c0e3b8"
      },
      "source": [
        "# Preprocessing: subtract the mean image\n",
        "# first: compute the image mean based on the training data\n",
        "mean_image = np.mean(X_train, axis=0)\n",
        "print(mean_image[:10]) # print a few of the elements\n",
        "plt.figure(figsize=(4,4))\n",
        "plt.imshow(mean_image.reshape((50,50,3)).astype('uint8')) # visualize the mean image\n",
        "plt.show()"
      ],
      "execution_count": null,
      "outputs": [
        {
          "output_type": "stream",
          "name": "stdout",
          "text": [
            "[130.5766  122.6324  160.91665 134.3819  126.2479  165.0601  137.9716\n",
            " 129.64785 168.9681  141.50885]\n"
          ]
        },
        {
          "output_type": "display_data",
          "data": {
            "image/png": "[encoded data removed]",
            "text/plain": [
              "<Figure size 288x288 with 1 Axes>"
            ]
          },
          "metadata": {
            "needs_background": "light"
          }
        }
      ]
    },
    {
      "cell_type": "code",
      "metadata": {
        "id": "HPyw4H0tj44s"
      },
      "source": [
        "# second: subtract the mean image from train and test data\n",
        "X_train = X_train -  mean_image\n",
        "X_val = X_val -  mean_image\n",
        "X_test = X_test - mean_image\n",
        "X_dev = X_dev - mean_image"
      ],
      "execution_count": null,
      "outputs": []
    },
    {
      "cell_type": "code",
      "metadata": {
        "id": "RQ5MBvtWj49h",
        "colab": {
          "base_uri": "https://localhost:8080/"
        },
        "outputId": "01465f4f-b589-4cd8-aaf1-7c7ba586df5c"
      },
      "source": [
        "# third: append the bias dimension of ones (i.e. bias trick) so that our SVM\n",
        "# only has to worry about optimizing a single weight matrix W.\n",
        "X_train = np.hstack([X_train, np.ones((X_train.shape[0], 1))])\n",
        "X_val = np.hstack([X_val, np.ones((X_val.shape[0], 1))])\n",
        "X_test = np.hstack([X_test, np.ones((X_test.shape[0], 1))])\n",
        "X_dev = np.hstack([X_dev, np.ones((X_dev.shape[0], 1))])\n",
        "\n",
        "print(X_train.shape, X_val.shape, X_test.shape, X_dev.shape)"
      ],
      "execution_count": null,
      "outputs": [
        {
          "output_type": "stream",
          "name": "stdout",
          "text": [
            "(20000, 7501) (1252, 7501) (5313, 7501) (252, 7501)\n"
          ]
        }
      ]
    },
    {
      "cell_type": "code",
      "metadata": {
        "id": "LHNHSNuXj4_-"
      },
      "source": [
        "import numpy as np\n",
        "from random import shuffle\n",
        "\n",
        "def svm_loss_naive(W, X, y, reg):\n",
        "  \"\"\"\n",
        "  Structured SVM loss function, naive implementation (with loops).\n",
        "\n",
        "  Inputs have dimension D, there are C classes, and we operate on minibatches\n",
        "  of N examples.\n",
        "\n",
        "  Inputs:\n",
        "  - W: A numpy array of shape (D, C) containing weights.\n",
        "  - X: A numpy array of shape (N, D) containing a minibatch of data.\n",
        "  - y: A numpy array of shape (N,) containing training labels; y[i] = c means\n",
        "    that X[i] has label c, where 0 <= c < C.\n",
        "  - reg: (float) regularization strength\n",
        "\n",
        "  Returns a tuple of:\n",
        "  - loss as single float\n",
        "  - gradient with respect to weights W; an array of same shape as W\n",
        "  \"\"\"\n",
        "  dW = np.zeros(W.shape) # initialize the gradient as zero\n",
        "\n",
        "  # compute the loss and the gradient\n",
        "  num_classes = W.shape[1]\n",
        "  num_train = X.shape[0]\n",
        "  loss = 0.0\n",
        "  for i in range(num_train):\n",
        "    scores = X[i].dot(W)\n",
        "    correct_class_score = scores[y[i]]\n",
        "    for j in range(num_classes):\n",
        "      if j == y[i]:\n",
        "        continue\n",
        "      margin = scores[j] - correct_class_score + 1 # note delta = 1\n",
        "      if margin > 0:\n",
        "        dW[:,j] = dW[:,j] + X[i]\n",
        "        dW[:,y[i]] = dW[:,y[i]] -X[i]\n",
        "        loss += margin\n",
        "\n",
        "  # Right now the loss is a sum over all training examples, but we want it\n",
        "  # to be an average instead so we divide by num_train.\n",
        "  loss /= num_train\n",
        "  dW /= num_train\n",
        "\n",
        "  # Add regularization to the loss.\n",
        "  loss += reg * np.sum(W * W)\n",
        "  dW += reg * 2 * W\n",
        "\n",
        "  #############################################################################\n",
        "  # TODO:                                                                     #\n",
        "  # Compute the gradient of the loss function and store it dW.                #\n",
        "  # Rather that first computing the loss and then computing the derivative,   #\n",
        "  # it may be simpler to compute the derivative at the same time that the     #\n",
        "  # loss is being computed. As a result you may need to modify some of the    #\n",
        "  # code above to compute the gradient.                                       #\n",
        "  #############################################################################\n",
        "\n",
        "\n",
        "  return loss, dW\n",
        "\n",
        "\n",
        "def svm_loss_vectorized(W, X, y, reg):\n",
        "  \"\"\"\n",
        "  Structured SVM loss function, vectorized implementation.\n",
        "\n",
        "  Inputs and outputs are the same as svm_loss_naive.\n",
        "  \"\"\"\n",
        "  loss = 0.0\n",
        "  dW = np.zeros(W.shape) # initialize the gradient as zero\n",
        "\n",
        "  #############################################################################\n",
        "  # TODO:                                                                     #\n",
        "  # Implement a vectorized version of the structured SVM loss, storing the    #\n",
        "  # result in loss.                                                           #\n",
        "  #############################################################################\n",
        "  num_train = X.shape[0]\n",
        "\n",
        "  scores = X.dot(W)\n",
        "  #print(scores.shape)\n",
        "  correct_class_score_y = scores[np.arange(num_train), y]\n",
        "  #print(correct_class_score_y.shape)\n",
        "  l = scores - correct_class_score_y[:,None] + 1\n",
        "  #print(l.shape)\n",
        "  #print(l)\n",
        "  l[np.arange(num_train), y] -=1\n",
        "  l_max = np.maximum(0, l)\n",
        "  #print(l_max.shape)\n",
        "  #print(l_max)\n",
        "  Final_l = np.sum(l_max)\n",
        "\n",
        "  loss = (Final_l/num_train)\n",
        "  #print(loss)\n",
        "\n",
        "  # Add regularization to the loss.\n",
        "  loss += reg * np.sum(W * W) \n",
        "\n",
        "  pass\n",
        "  #############################################################################\n",
        "  #                             END OF YOUR CODE                              #\n",
        "  #############################################################################\n",
        "\n",
        "\n",
        "  #############################################################################\n",
        "  # TODO:                                                                     #\n",
        "  # Implement a vectorized version of the gradient for the structured SVM     #\n",
        "  # loss, storing the result in dW.                                           #\n",
        "  #                                                                           #\n",
        "  # Hint: Instead of computing the gradient from scratch, it may be easier    #\n",
        "  # to reuse some of the intermediate values that you used to compute the     #\n",
        "  # loss.                                                                     #\n",
        "  #############################################################################\n",
        "\n",
        "  mask = np.zeros(l_max.shape)\n",
        "  #print(mask.shape)\n",
        "  case = l_max>0\n",
        "  mask[case] = 1\n",
        "  mask_sum = np.sum(mask, axis=1)\n",
        "  #print(mask_sum.shape)\n",
        "  mask[np.arange(num_train), y] = -mask_sum\n",
        "  #print(mask.shape)\n",
        "  dW = np.dot(X.T, mask)\n",
        "\n",
        "  # Average\n",
        "  dW /= num_train\n",
        "\n",
        "  # Regularize\n",
        "  dW += reg * 2 * W\n",
        "  pass\n",
        "  #############################################################################\n",
        "  #                             END OF YOUR CODE                              #\n",
        "  #############################################################################\n",
        "\n",
        "  return loss, dW\n"
      ],
      "execution_count": null,
      "outputs": []
    },
    {
      "cell_type": "code",
      "metadata": {
        "id": "oJ0ksbHiTPzD"
      },
      "source": [
        "import numpy as np\n",
        "from random import shuffle\n",
        "\n",
        "def softmax_loss_naive(W, X, y, reg):\n",
        "  \"\"\"\n",
        "  Softmax loss function, naive implementation (with loops)\n",
        "\n",
        "  Inputs have dimension D, there are C classes, and we operate on minibatches\n",
        "  of N examples.\n",
        "\n",
        "  Inputs:\n",
        "  - W: A numpy array of shape (D, C) containing weights.\n",
        "  - X: A numpy array of shape (N, D) containing a minibatch of data.\n",
        "  - y: A numpy array of shape (N,) containing training labels; y[i] = c means\n",
        "    that X[i] has label c, where 0 <= c < C.\n",
        "  - reg: (float) regularization strength\n",
        "\n",
        "  Returns a tuple of:\n",
        "  - loss as single float\n",
        "  - gradient with respect to weights W; an array of same shape as W\n",
        "  \"\"\"\n",
        "  # Initialize the loss and gradient to zero.\n",
        "  loss = 0.0\n",
        "  dW = np.zeros_like(W)\n",
        "\n",
        "  #############################################################################\n",
        "  # TODO: Compute the softmax loss and its gradient using explicit loops.     #\n",
        "  # Store the loss in loss and the gradient in dW. If you are not careful     #\n",
        "  # here, it is easy to run into numeric instability. Don't forget the        #\n",
        "  # regularization!                                                           #\n",
        "  #############################################################################\n",
        "  # compute the loss and the gradient\n",
        "  num_classes = W.shape[1]\n",
        "  num_train = X.shape[0]\n",
        "  \n",
        "  for i in range(num_train):\n",
        "    scores = X[i].dot(W)\n",
        "    correct_class_score = scores[y[i]]\n",
        "    exp= np.exp(scores)\n",
        "    sum_exp = np.sum(exp)\n",
        "    log_sum_exp = np.log(sum_exp)\n",
        "    loss += (-correct_class_score + log_sum_exp)\n",
        "  \n",
        "    for j in range(num_classes):\n",
        "      softmax_function = np.exp(scores[j]) / sum_exp\n",
        "      if j == y[i]:\n",
        "        dW[:,j] = dW[:,j] + ((-1 + softmax_function) *X[i]) \n",
        "      else: \n",
        "        dW[:,j] = dW[:,j] + softmax_function *X[i] \n",
        "\n",
        "  # Right now the loss is a sum over all training examples, but we want it\n",
        "  # to be an average instead so we divide by num_train.\n",
        "  loss /= num_train\n",
        "  dW /= num_train\n",
        "\n",
        "  # Add regularization to the loss.\n",
        "  loss += reg * np.sum(W * W)\n",
        "  dW += reg * 2 * W\n",
        "\n",
        "  pass\n",
        "  #############################################################################\n",
        "  #                          END OF YOUR CODE                                 #\n",
        "  #############################################################################\n",
        "\n",
        "  return loss, dW\n",
        "\n",
        "\n",
        "def softmax_loss_vectorized(W, X, y, reg):\n",
        "  \"\"\"\n",
        "  Softmax loss function, vectorized version.\n",
        "\n",
        "  Inputs and outputs are the same as softmax_loss_naive.\n",
        "  \"\"\"\n",
        "  # Initialize the loss and gradient to zero.\n",
        "  loss = 0.0\n",
        "  dW = np.zeros_like(W)\n",
        "\n",
        "  #############################################################################\n",
        "  # TODO: Compute the softmax loss and its gradient using no explicit loops.  #\n",
        "  # Store the loss in loss and the gradient in dW. If you are not careful     #\n",
        "  # here, it is easy to run into numeric instability. Don't forget the        #\n",
        "  # regularization!                                                           #\n",
        "  #############################################################################\n",
        "  num_train = X.shape[0]\n",
        "  scores = X.dot(W)\n",
        "  #print(scores.shape)\n",
        "  correct_class_score_y = scores[np.arange(num_train), y]\n",
        "  #print(correct_class_score_y.shape)\n",
        "  sum_correct_class_score_y = np.sum(-correct_class_score_y)\n",
        "  #print(sum_correct_class_score_y)\n",
        "  exp= np.exp(scores)\n",
        "  sum_exp = np.sum(exp, axis=1)\n",
        "  log_sum_exp = np.log(sum_exp)\n",
        "  Final_l = sum_correct_class_score_y + np.sum(log_sum_exp)\n",
        "\n",
        "  #Gradient\n",
        "  #print(exp.shape)\n",
        "  #print(sum_exp.shape)\n",
        "  Grad = exp / sum_exp[:,None]\n",
        "  #print(Grad.shape)\n",
        "  Grad[np.arange(num_train),y] -=1\n",
        "  dW = X.T.dot(Grad)\n",
        "\n",
        "  loss = (Final_l/num_train)\n",
        "  dW /= num_train\n",
        "  #print(loss)\n",
        "\n",
        "  # Add regularization to the loss.\n",
        "  loss += reg * np.sum(W * W)\n",
        "  dW += reg * 2 * W\n",
        "  pass\n",
        "  #############################################################################\n",
        "  #                          END OF YOUR CODE                                 #\n",
        "  #############################################################################\n",
        "\n",
        "  return loss, dW\n",
        "\n"
      ],
      "execution_count": null,
      "outputs": []
    },
    {
      "cell_type": "code",
      "metadata": {
        "id": "o_wsJ1k2TMpV"
      },
      "source": [
        "from __future__ import print_function\n",
        "\n",
        "import numpy as np\n",
        "\n",
        "class LinearClassifier(object):\n",
        "\n",
        "  def __init__(self):\n",
        "    self.W = None\n",
        "\n",
        "  def train(self, X, y, learning_rate=1e-3, reg=1e-5, num_iters=100,\n",
        "            batch_size=200, verbose=False):\n",
        "    \"\"\"\n",
        "    Train this linear classifier using stochastic gradient descent.\n",
        "\n",
        "    Inputs:\n",
        "    - X: A numpy array of shape (N, D) containing training data; there are N\n",
        "      training samples each of dimension D.\n",
        "    - y: A numpy array of shape (N,) containing training labels; y[i] = c\n",
        "      means that X[i] has label 0 <= c < C for C classes.\n",
        "    - learning_rate: (float) learning rate for optimization.\n",
        "    - reg: (float) regularization strength.\n",
        "    - num_iters: (integer) number of steps to take when optimizing\n",
        "    - batch_size: (integer) number of training examples to use at each step.\n",
        "    - verbose: (boolean) If true, print progress during optimization.\n",
        "\n",
        "    Outputs:\n",
        "    A list containing the value of the loss function at each training iteration.\n",
        "    \"\"\"\n",
        "    num_train, dim = X.shape\n",
        "    num_classes = np.max(y) + 1 # assume y takes values 0...K-1 where K is number of classes\n",
        "    if self.W is None:\n",
        "      # lazily initialize W\n",
        "      self.W = 0.001 * np.random.randn(dim, num_classes)\n",
        "\n",
        "    # Run stochastic gradient descent to optimize W\n",
        "    loss_history = []\n",
        "    for it in range(num_iters):\n",
        "      X_batch = None\n",
        "      y_batch = None\n",
        "\n",
        "      #########################################################################\n",
        "      # TODO:                                                                 #\n",
        "      # Sample batch_size elements from the training data and their           #\n",
        "      # corresponding labels to use in this round of gradient descent.        #\n",
        "      # Store the data in X_batch and their corresponding labels in           #\n",
        "      # y_batch; after sampling X_batch should have shape (dim, batch_size)   #\n",
        "      # and y_batch should have shape (batch_size,)                           #\n",
        "      #                                                                       #\n",
        "      # Hint: Use np.random.choice to generate indices. Sampling with         #\n",
        "      # replacement is faster than sampling without replacement.              #\n",
        "      #########################################################################\n",
        "      sampling_indices = np.random.choice(num_train,batch_size)\n",
        "      #print(sampling_indices.shape)\n",
        "      X_batch = X[sampling_indices]\n",
        "      #print(X_batch.shape)\n",
        "      y_batch = y[sampling_indices]\n",
        "      #print(y_batch.shape)\n",
        "      pass\n",
        "      #########################################################################\n",
        "      #                       END OF YOUR CODE                                #\n",
        "      #########################################################################\n",
        "\n",
        "      # evaluate loss and gradient\n",
        "      loss, grad = self.loss(X_batch, y_batch, reg)\n",
        "      loss_history.append(loss)\n",
        "\n",
        "      # perform parameter update\n",
        "      #########################################################################\n",
        "      # TODO:                                                                 #\n",
        "      # Update the weights using the gradient and the learning rate.          #\n",
        "      #########################################################################\n",
        "      self.W = self.W - learning_rate * grad\n",
        "      pass\n",
        "      #########################################################################\n",
        "      #                       END OF YOUR CODE                                #\n",
        "      #########################################################################\n",
        "\n",
        "      if verbose and it % 100 == 0:\n",
        "        print('iteration %d / %d: loss %f' % (it, num_iters, loss))\n",
        "\n",
        "    return loss_history\n",
        "\n",
        "  def predict(self, X):\n",
        "    \"\"\"\n",
        "    Use the trained weights of this linear classifier to predict labels for\n",
        "    data points.\n",
        "\n",
        "    Inputs:\n",
        "    - X: A numpy array of shape (N, D) containing training data; there are N\n",
        "      training samples each of dimension D.\n",
        "\n",
        "    Returns:\n",
        "    - y_pred: Predicted labels for the data in X. y_pred is a 1-dimensional\n",
        "      array of length N, and each element is an integer giving the predicted\n",
        "      class.\n",
        "    \"\"\"\n",
        "    y_pred = np.zeros(X.shape[0])\n",
        "    ###########################################################################\n",
        "    # TODO:                                                                   #\n",
        "    # Implement this method. Store the predicted labels in y_pred.            #\n",
        "    ###########################################################################\n",
        "    #print(y_pred.shape)\n",
        "    #print(self.W.shape)\n",
        "    scores = X.dot(self.W)\n",
        "    #print(scores.shape) \n",
        "    max_scores = np.argmax(scores, axis=1)\n",
        "    #print(max_scores.shape)\n",
        "    y_pred = max_scores\n",
        "    pass\n",
        "    ###########################################################################\n",
        "    #                           END OF YOUR CODE                              #\n",
        "    ###########################################################################\n",
        "    return y_pred\n",
        "\n",
        "  def loss(self, X_batch, y_batch, reg):\n",
        "    \"\"\"\n",
        "    Compute the loss function and its derivative.\n",
        "    Subclasses will override this.\n",
        "\n",
        "    Inputs:\n",
        "    - X_batch: A numpy array of shape (N, D) containing a minibatch of N\n",
        "      data points; each point has dimension D.\n",
        "    - y_batch: A numpy array of shape (N,) containing labels for the minibatch.\n",
        "    - reg: (float) regularization strength.\n",
        "\n",
        "    Returns: A tuple containing:\n",
        "    - loss as a single float\n",
        "    - gradient with respect to self.W; an array of the same shape as W\n",
        "    \"\"\"\n",
        "    pass\n",
        "\n",
        "\n",
        "class LinearSVM(LinearClassifier):\n",
        "  \"\"\" A subclass that uses the Multiclass SVM loss function \"\"\"\n",
        "\n",
        "  def loss(self, X_batch, y_batch, reg):\n",
        "    return svm_loss_vectorized(self.W, X_batch, y_batch, reg)\n",
        "    #return svm_loss_naive(self.W, X_batch, y_batch, reg)\n",
        "\n",
        "\n",
        "class Softmax(LinearClassifier):\n",
        "  \"\"\" A subclass that uses the Softmax + Cross-entropy loss function \"\"\"\n",
        "\n",
        "  def loss(self, X_batch, y_batch, reg):\n",
        "    return softmax_loss_vectorized(self.W, X_batch, y_batch, reg)\n"
      ],
      "execution_count": null,
      "outputs": []
    },
    {
      "cell_type": "code",
      "metadata": {
        "id": "9tlukCbUj5Cc",
        "colab": {
          "base_uri": "https://localhost:8080/"
        },
        "outputId": "cda564e0-62d5-49c9-aa8c-8caefa3fbece"
      },
      "source": [
        "import time\n",
        "\n",
        "# generate a random SVM weight matrix of small numbers\n",
        "W = np.random.randn(7501, 7) * 0.0001 \n",
        "\n",
        "loss, grad = svm_loss_naive(W, X_dev, y_dev, 0.000005)\n",
        "print('loss: %f' % (loss, ))"
      ],
      "execution_count": null,
      "outputs": [
        {
          "output_type": "stream",
          "name": "stdout",
          "text": [
            "loss: 5.732113\n"
          ]
        }
      ]
    },
    {
      "cell_type": "code",
      "metadata": {
        "id": "_Ar6YcIvj5FU",
        "colab": {
          "base_uri": "https://localhost:8080/"
        },
        "outputId": "fe72abf4-5be7-482b-ab03-e5d764cf7b7c"
      },
      "source": [
        "# In the file linear_classifier.py, implement SGD in the function\n",
        "# LinearClassifier.train() and then run it with the code below.\n",
        "svm = LinearSVM()\n",
        "tic = time.time()\n",
        "loss_hist = svm.train(X_train, y_train, learning_rate=1e-7, reg=2.5e4,\n",
        "                      num_iters=1500, verbose=True)\n",
        "toc = time.time()\n",
        "print('That took %fs' % (toc - tic))"
      ],
      "execution_count": null,
      "outputs": [
        {
          "output_type": "stream",
          "name": "stdout",
          "text": [
            "iteration 0 / 1500: loss 1335.602757\n",
            "iteration 100 / 1500: loss 487.811415\n",
            "iteration 200 / 1500: loss 180.974047\n",
            "iteration 300 / 1500: loss 68.114237\n",
            "iteration 400 / 1500: loss 26.901948\n",
            "iteration 500 / 1500: loss 12.164379\n",
            "iteration 600 / 1500: loss 6.939884\n",
            "iteration 700 / 1500: loss 4.731552\n",
            "iteration 800 / 1500: loss 4.065711\n",
            "iteration 900 / 1500: loss 3.644685\n",
            "iteration 1000 / 1500: loss 3.310620\n",
            "iteration 1100 / 1500: loss 3.540954\n",
            "iteration 1200 / 1500: loss 3.678685\n",
            "iteration 1300 / 1500: loss 3.445148\n",
            "iteration 1400 / 1500: loss 3.568559\n",
            "That took 23.007956s\n"
          ]
        }
      ]
    },
    {
      "cell_type": "code",
      "metadata": {
        "id": "gjIFwvMvj5Hw",
        "colab": {
          "base_uri": "https://localhost:8080/",
          "height": 500
        },
        "outputId": "1e3776ab-692b-44a3-8cd9-7e882f0f2727"
      },
      "source": [
        "# A useful debugging strategy is to plot the loss as a function of\n",
        "# iteration number:\n",
        "plt.plot(loss_hist)\n",
        "plt.xlabel('Iteration number')\n",
        "plt.ylabel('Loss value')\n",
        "plt.show()"
      ],
      "execution_count": null,
      "outputs": [
        {
          "output_type": "display_data",
          "data": {
            "image/png": "[encoded data removed]",
            "text/plain": [
              "<Figure size 720x576 with 1 Axes>"
            ]
          },
          "metadata": {
            "needs_background": "light"
          }
        }
      ]
    },
    {
      "cell_type": "code",
      "metadata": {
        "id": "swpG8JU8j5Km",
        "colab": {
          "base_uri": "https://localhost:8080/"
        },
        "outputId": "0b598274-e224-41fb-ea1a-2d18193704a3"
      },
      "source": [
        "# Write the LinearSVM.predict function and evaluate the performance on both the\n",
        "# training and validation set\n",
        "y_train_pred = svm.predict(X_train)\n",
        "print('training accuracy: %f' % (np.mean(y_train == y_train_pred), ))\n",
        "y_val_pred = svm.predict(X_val)\n",
        "print('validation accuracy: %f' % (np.mean(y_val == y_val_pred), ))"
      ],
      "execution_count": null,
      "outputs": [
        {
          "output_type": "stream",
          "name": "stdout",
          "text": [
            "training accuracy: 0.493150\n",
            "validation accuracy: 0.498403\n"
          ]
        }
      ]
    },
    {
      "cell_type": "code",
      "metadata": {
        "id": "hw1NanTLj5NL",
        "colab": {
          "base_uri": "https://localhost:8080/"
        },
        "outputId": "25d81f9b-8353-464b-ee58-cbffda4de1b1"
      },
      "source": [
        "# Use the validation set to tune hyperparameters (regularization strength and\n",
        "# learning rate). You should experiment with different ranges for the learning\n",
        "# rates and regularization strengths; if you are careful you should be able to\n",
        "# get a classification accuracy of about 0.4 on the validation set.\n",
        "learning_rates = [1e-8, 1e-7, 1e-6]\n",
        "regularization_strengths = [1e3, 2e3, 3e3, 1e4, 2e4, 3e4, 1e5]\n",
        "#learning_rates = [1e-7, 1e-6, 5e-5]\n",
        "#regularization_strengths = [1e4, 2e4, 2.3e4, 2.5e4, 3e4, 4e4, 5e4]\n",
        "\n",
        "# results is dictionary mapping tuples of the form\n",
        "# (learning_rate, regularization_strength) to tuples of the form\n",
        "# (training_accuracy, validation_accuracy). The accuracy is simply the fraction\n",
        "# of data points that are correctly classified.\n",
        "results = {}\n",
        "best_val = -1   # The highest validation accuracy that we have seen so far.\n",
        "best_svm = None # The LinearSVM object that achieved the highest validation rate.\n",
        "\n",
        "################################################################################\n",
        "# TODO:                                                                        #\n",
        "# Write code that chooses the best hyperparameters by tuning on the validation #\n",
        "# set. For each combination of hyperparameters, train a linear SVM on the      #\n",
        "# training set, compute its accuracy on the training and validation sets, and  #\n",
        "# store these numbers in the results dictionary. In addition, store the best   #\n",
        "# validation accuracy in best_val and the LinearSVM object that achieves this  #\n",
        "# accuracy in best_svm.                                                        #\n",
        "#                                                                              #\n",
        "# Hint: You should use a small value for num_iters as you develop your         #\n",
        "# validation code so that the SVMs don't take much time to train; once you are #\n",
        "# confident that your validation code works, you should rerun the validation   #\n",
        "# code with a larger value for num_iters.                                      #\n",
        "################################################################################\n",
        "# Your code\n",
        "for lr in learning_rates:\n",
        "  for rs in regularization_strengths: \n",
        "    svm = LinearSVM()\n",
        "    loss_hist = svm.train(X_train, y_train, learning_rate=lr, reg=rs,\n",
        "                          num_iters=2500, verbose=True)\n",
        "    y_train_pred = svm.predict(X_train)\n",
        "    training_accuracy = np.mean(y_train == y_train_pred) \n",
        "    #print('training accuracy: ', training_accuracy)\n",
        "    y_val_pred = svm.predict(X_val)\n",
        "    validation_accuracy = np.mean(y_val == y_val_pred)\n",
        "    #print('validation accuracy: ', validation_accuracy)\n",
        "\n",
        "    # Storing in results dictionary\n",
        "    results[(lr,rs)] = (training_accuracy,validation_accuracy)\n",
        "\n",
        "    if(validation_accuracy>best_val):\n",
        "      best_val = validation_accuracy\n",
        "      best_svm = svm\n",
        "      best_y_val_pred = y_val_pred\n",
        "\n",
        "################################################################################\n",
        "#                              END OF YOUR CODE                                #\n",
        "################################################################################\n",
        "    \n",
        "# Print out results.\n",
        "for lr, reg in sorted(results):\n",
        "    train_accuracy, val_accuracy = results[(lr, reg)]\n",
        "    print('lr %e reg %e train accuracy: %f val accuracy: %f' % (\n",
        "                lr, reg, train_accuracy, val_accuracy))\n",
        "    \n",
        "print('best validation accuracy achieved during cross-validation: %f' % best_val)"
      ],
      "execution_count": null,
      "outputs": [
        {
          "output_type": "stream",
          "name": "stdout",
          "text": [
            "iteration 0 / 2500: loss 68.160685\n",
            "iteration 100 / 2500: loss 62.245520\n",
            "iteration 200 / 2500: loss 61.098470\n",
            "iteration 300 / 2500: loss 60.436813\n",
            "iteration 400 / 2500: loss 60.696606\n",
            "iteration 500 / 2500: loss 58.390902\n",
            "iteration 600 / 2500: loss 57.772809\n",
            "iteration 700 / 2500: loss 57.858567\n",
            "iteration 800 / 2500: loss 55.845976\n",
            "iteration 900 / 2500: loss 56.978609\n",
            "iteration 1000 / 2500: loss 55.647923\n",
            "iteration 1100 / 2500: loss 55.503221\n",
            "iteration 1200 / 2500: loss 55.426523\n",
            "iteration 1300 / 2500: loss 54.930076\n",
            "iteration 1400 / 2500: loss 55.170483\n",
            "iteration 1500 / 2500: loss 53.987507\n",
            "iteration 1600 / 2500: loss 54.328528\n",
            "iteration 1700 / 2500: loss 54.046825\n",
            "iteration 1800 / 2500: loss 53.953235\n",
            "iteration 1900 / 2500: loss 53.587913\n",
            "iteration 2000 / 2500: loss 53.544879\n",
            "iteration 2100 / 2500: loss 53.563605\n",
            "iteration 2200 / 2500: loss 52.850357\n",
            "iteration 2300 / 2500: loss 53.302781\n",
            "iteration 2400 / 2500: loss 53.105423\n",
            "iteration 0 / 2500: loss 117.044967\n",
            "iteration 100 / 2500: loss 113.422891\n",
            "iteration 200 / 2500: loss 110.660006\n",
            "iteration 300 / 2500: loss 109.399804\n",
            "iteration 400 / 2500: loss 107.700944\n",
            "iteration 500 / 2500: loss 108.886884\n",
            "iteration 600 / 2500: loss 106.293870\n",
            "iteration 700 / 2500: loss 105.289091\n",
            "iteration 800 / 2500: loss 103.798609\n",
            "iteration 900 / 2500: loss 103.699603\n",
            "iteration 1000 / 2500: loss 102.160510\n",
            "iteration 1100 / 2500: loss 101.648178\n",
            "iteration 1200 / 2500: loss 101.261273\n",
            "iteration 1300 / 2500: loss 100.111579\n",
            "iteration 1400 / 2500: loss 99.011667\n",
            "iteration 1500 / 2500: loss 98.004167\n",
            "iteration 1600 / 2500: loss 97.250973\n",
            "iteration 1700 / 2500: loss 96.606699\n",
            "iteration 1800 / 2500: loss 96.273661\n",
            "iteration 1900 / 2500: loss 94.794308\n",
            "iteration 2000 / 2500: loss 94.515335\n",
            "iteration 2100 / 2500: loss 93.502754\n",
            "iteration 2200 / 2500: loss 92.976998\n",
            "iteration 2300 / 2500: loss 92.493436\n",
            "iteration 2400 / 2500: loss 91.457511\n",
            "iteration 0 / 2500: loss 169.410827\n",
            "iteration 100 / 2500: loss 165.438873\n",
            "iteration 200 / 2500: loss 161.880798\n",
            "iteration 300 / 2500: loss 158.278453\n",
            "iteration 400 / 2500: loss 156.982149\n",
            "iteration 500 / 2500: loss 154.715729\n",
            "iteration 600 / 2500: loss 152.562357\n",
            "iteration 700 / 2500: loss 151.218227\n",
            "iteration 800 / 2500: loss 148.132910\n",
            "iteration 900 / 2500: loss 146.708700\n",
            "iteration 1000 / 2500: loss 144.663611\n",
            "iteration 1100 / 2500: loss 143.464126\n",
            "iteration 1200 / 2500: loss 141.468064\n",
            "iteration 1300 / 2500: loss 140.442382\n",
            "iteration 1400 / 2500: loss 137.266594\n",
            "iteration 1500 / 2500: loss 136.124690\n",
            "iteration 1600 / 2500: loss 134.605433\n",
            "iteration 1700 / 2500: loss 132.986242\n",
            "iteration 1800 / 2500: loss 131.654240\n",
            "iteration 1900 / 2500: loss 130.366579\n",
            "iteration 2000 / 2500: loss 128.005884\n",
            "iteration 2100 / 2500: loss 126.659406\n",
            "iteration 2200 / 2500: loss 125.873306\n",
            "iteration 2300 / 2500: loss 123.616741\n",
            "iteration 2400 / 2500: loss 122.101724\n",
            "iteration 0 / 2500: loss 536.787390\n",
            "iteration 100 / 2500: loss 511.384999\n",
            "iteration 200 / 2500: loss 491.452208\n",
            "iteration 300 / 2500: loss 472.296162\n",
            "iteration 400 / 2500: loss 453.188043\n",
            "iteration 500 / 2500: loss 435.633030\n",
            "iteration 600 / 2500: loss 419.170159\n",
            "iteration 700 / 2500: loss 402.218561\n",
            "iteration 800 / 2500: loss 385.740881\n",
            "iteration 900 / 2500: loss 370.722363\n",
            "iteration 1000 / 2500: loss 356.378345\n",
            "iteration 1100 / 2500: loss 341.798553\n",
            "iteration 1200 / 2500: loss 328.484399\n",
            "iteration 1300 / 2500: loss 316.693698\n",
            "iteration 1400 / 2500: loss 304.570634\n",
            "iteration 1500 / 2500: loss 291.607888\n",
            "iteration 1600 / 2500: loss 280.531916\n",
            "iteration 1700 / 2500: loss 270.152755\n",
            "iteration 1800 / 2500: loss 259.186248\n",
            "iteration 1900 / 2500: loss 249.007782\n",
            "iteration 2000 / 2500: loss 239.812188\n",
            "iteration 2100 / 2500: loss 230.089773\n",
            "iteration 2200 / 2500: loss 220.850039\n",
            "iteration 2300 / 2500: loss 212.956160\n",
            "iteration 2400 / 2500: loss 204.262062\n",
            "iteration 0 / 2500: loss 1072.314575\n",
            "iteration 100 / 2500: loss 987.330921\n",
            "iteration 200 / 2500: loss 908.074179\n",
            "iteration 300 / 2500: loss 837.799709\n",
            "iteration 400 / 2500: loss 773.264122\n",
            "iteration 500 / 2500: loss 713.210032\n",
            "iteration 600 / 2500: loss 658.484295\n",
            "iteration 700 / 2500: loss 607.952215\n",
            "iteration 800 / 2500: loss 561.651692\n",
            "iteration 900 / 2500: loss 518.332474\n",
            "iteration 1000 / 2500: loss 478.412851\n",
            "iteration 1100 / 2500: loss 441.356702\n",
            "iteration 1200 / 2500: loss 408.244433\n",
            "iteration 1300 / 2500: loss 376.910642\n",
            "iteration 1400 / 2500: loss 347.319057\n",
            "iteration 1500 / 2500: loss 320.984385\n",
            "iteration 1600 / 2500: loss 296.676836\n",
            "iteration 1700 / 2500: loss 274.427173\n",
            "iteration 1800 / 2500: loss 254.135651\n",
            "iteration 1900 / 2500: loss 233.882350\n",
            "iteration 2000 / 2500: loss 216.409164\n",
            "iteration 2100 / 2500: loss 200.140129\n",
            "iteration 2200 / 2500: loss 184.875522\n",
            "iteration 2300 / 2500: loss 170.865441\n",
            "iteration 2400 / 2500: loss 157.734335\n",
            "iteration 0 / 2500: loss 1583.527333\n",
            "iteration 100 / 2500: loss 1400.803765\n",
            "iteration 200 / 2500: loss 1243.004670\n",
            "iteration 300 / 2500: loss 1102.148909\n",
            "iteration 400 / 2500: loss 977.046056\n",
            "iteration 500 / 2500: loss 866.188888\n",
            "iteration 600 / 2500: loss 769.240157\n",
            "iteration 700 / 2500: loss 682.245703\n",
            "iteration 800 / 2500: loss 605.936596\n",
            "iteration 900 / 2500: loss 537.678963\n",
            "iteration 1000 / 2500: loss 476.737055\n",
            "iteration 1100 / 2500: loss 423.038512\n",
            "iteration 1200 / 2500: loss 375.659570\n",
            "iteration 1300 / 2500: loss 333.635453\n",
            "iteration 1400 / 2500: loss 295.928851\n",
            "iteration 1500 / 2500: loss 262.768165\n",
            "iteration 1600 / 2500: loss 233.748849\n",
            "iteration 1700 / 2500: loss 207.566668\n",
            "iteration 1800 / 2500: loss 184.136400\n",
            "iteration 1900 / 2500: loss 163.539104\n",
            "iteration 2000 / 2500: loss 145.540977\n",
            "iteration 2100 / 2500: loss 130.065260\n",
            "iteration 2200 / 2500: loss 115.349317\n",
            "iteration 2300 / 2500: loss 102.502685\n",
            "iteration 2400 / 2500: loss 91.440053\n",
            "iteration 0 / 2500: loss 5242.436063\n",
            "iteration 100 / 2500: loss 3513.786793\n",
            "iteration 200 / 2500: loss 2353.739484\n",
            "iteration 300 / 2500: loss 1578.348601\n",
            "iteration 400 / 2500: loss 1058.414217\n",
            "iteration 500 / 2500: loss 710.162209\n",
            "iteration 600 / 2500: loss 477.127606\n",
            "iteration 700 / 2500: loss 320.791895\n",
            "iteration 800 / 2500: loss 216.118471\n",
            "iteration 900 / 2500: loss 145.725367\n",
            "iteration 1000 / 2500: loss 98.892450\n",
            "iteration 1100 / 2500: loss 67.421110\n",
            "iteration 1200 / 2500: loss 46.669108\n",
            "iteration 1300 / 2500: loss 31.970575\n",
            "iteration 1400 / 2500: loss 22.892322\n",
            "iteration 1500 / 2500: loss 16.893918\n",
            "iteration 1600 / 2500: loss 12.443116\n",
            "iteration 1700 / 2500: loss 9.633396\n",
            "iteration 1800 / 2500: loss 7.851147\n",
            "iteration 1900 / 2500: loss 6.671891\n",
            "iteration 2000 / 2500: loss 5.394009\n",
            "iteration 2100 / 2500: loss 5.204888\n",
            "iteration 2200 / 2500: loss 4.301546\n",
            "iteration 2300 / 2500: loss 4.243281\n",
            "iteration 2400 / 2500: loss 4.106873\n",
            "iteration 0 / 2500: loss 62.520756\n",
            "iteration 100 / 2500: loss 56.020817\n",
            "iteration 200 / 2500: loss 52.763683\n",
            "iteration 300 / 2500: loss 50.731512\n",
            "iteration 400 / 2500: loss 49.127580\n",
            "iteration 500 / 2500: loss 47.099435\n",
            "iteration 600 / 2500: loss 45.066059\n",
            "iteration 700 / 2500: loss 43.765394\n",
            "iteration 800 / 2500: loss 41.612514\n",
            "iteration 900 / 2500: loss 39.734151\n",
            "iteration 1000 / 2500: loss 38.661913\n",
            "iteration 1100 / 2500: loss 37.007208\n",
            "iteration 1200 / 2500: loss 35.806279\n",
            "iteration 1300 / 2500: loss 34.814738\n",
            "iteration 1400 / 2500: loss 33.201218\n",
            "iteration 1500 / 2500: loss 32.253573\n",
            "iteration 1600 / 2500: loss 31.069504\n",
            "iteration 1700 / 2500: loss 30.101250\n",
            "iteration 1800 / 2500: loss 28.607156\n",
            "iteration 1900 / 2500: loss 27.520229\n",
            "iteration 2000 / 2500: loss 26.071746\n",
            "iteration 2100 / 2500: loss 26.066450\n",
            "iteration 2200 / 2500: loss 24.365524\n",
            "iteration 2300 / 2500: loss 24.334329\n",
            "iteration 2400 / 2500: loss 23.044047\n",
            "iteration 0 / 2500: loss 115.239842\n",
            "iteration 100 / 2500: loss 102.877720\n",
            "iteration 200 / 2500: loss 94.114412\n",
            "iteration 300 / 2500: loss 87.099681\n",
            "iteration 400 / 2500: loss 80.050177\n",
            "iteration 500 / 2500: loss 73.954201\n",
            "iteration 600 / 2500: loss 69.268352\n",
            "iteration 700 / 2500: loss 63.422909\n",
            "iteration 800 / 2500: loss 58.697321\n",
            "iteration 900 / 2500: loss 53.774349\n",
            "iteration 1000 / 2500: loss 50.310316\n",
            "iteration 1100 / 2500: loss 46.759477\n",
            "iteration 1200 / 2500: loss 42.975627\n",
            "iteration 1300 / 2500: loss 40.180563\n",
            "iteration 1400 / 2500: loss 36.873971\n",
            "iteration 1500 / 2500: loss 34.499412\n",
            "iteration 1600 / 2500: loss 32.021360\n",
            "iteration 1700 / 2500: loss 29.815262\n",
            "iteration 1800 / 2500: loss 27.391714\n",
            "iteration 1900 / 2500: loss 25.363880\n",
            "iteration 2000 / 2500: loss 24.316716\n",
            "iteration 2100 / 2500: loss 22.179545\n",
            "iteration 2200 / 2500: loss 20.996163\n",
            "iteration 2300 / 2500: loss 19.458595\n",
            "iteration 2400 / 2500: loss 17.941489\n",
            "iteration 0 / 2500: loss 172.474949\n",
            "iteration 100 / 2500: loss 144.378573\n",
            "iteration 200 / 2500: loss 127.628924\n",
            "iteration 300 / 2500: loss 113.343239\n",
            "iteration 400 / 2500: loss 100.855103\n",
            "iteration 500 / 2500: loss 89.627393\n",
            "iteration 600 / 2500: loss 79.474215\n",
            "iteration 700 / 2500: loss 71.075471\n",
            "iteration 800 / 2500: loss 62.781387\n",
            "iteration 900 / 2500: loss 56.136888\n",
            "iteration 1000 / 2500: loss 50.630622\n",
            "iteration 1100 / 2500: loss 45.340046\n",
            "iteration 1200 / 2500: loss 39.798081\n",
            "iteration 1300 / 2500: loss 35.809786\n",
            "iteration 1400 / 2500: loss 32.346280\n",
            "iteration 1500 / 2500: loss 28.553902\n",
            "iteration 1600 / 2500: loss 26.169497\n",
            "iteration 1700 / 2500: loss 23.452887\n",
            "iteration 1800 / 2500: loss 20.664223\n",
            "iteration 1900 / 2500: loss 19.110307\n",
            "iteration 2000 / 2500: loss 17.067310\n",
            "iteration 2100 / 2500: loss 15.187378\n",
            "iteration 2200 / 2500: loss 13.913921\n",
            "iteration 2300 / 2500: loss 13.105142\n",
            "iteration 2400 / 2500: loss 11.440152\n",
            "iteration 0 / 2500: loss 535.883310\n",
            "iteration 100 / 2500: loss 355.052933\n",
            "iteration 200 / 2500: loss 238.345557\n",
            "iteration 300 / 2500: loss 161.022307\n",
            "iteration 400 / 2500: loss 108.721582\n",
            "iteration 500 / 2500: loss 73.734046\n",
            "iteration 600 / 2500: loss 50.574765\n",
            "iteration 700 / 2500: loss 34.581761\n",
            "iteration 800 / 2500: loss 24.455145\n",
            "iteration 900 / 2500: loss 17.249010\n",
            "iteration 1000 / 2500: loss 12.626827\n",
            "iteration 1100 / 2500: loss 9.590437\n",
            "iteration 1200 / 2500: loss 7.849588\n",
            "iteration 1300 / 2500: loss 6.179112\n",
            "iteration 1400 / 2500: loss 5.095167\n",
            "iteration 1500 / 2500: loss 4.162665\n",
            "iteration 1600 / 2500: loss 4.211168\n",
            "iteration 1700 / 2500: loss 4.013198\n",
            "iteration 1800 / 2500: loss 3.851025\n",
            "iteration 1900 / 2500: loss 3.613109\n",
            "iteration 2000 / 2500: loss 3.591717\n",
            "iteration 2100 / 2500: loss 2.934746\n",
            "iteration 2200 / 2500: loss 3.579613\n",
            "iteration 2300 / 2500: loss 3.712828\n",
            "iteration 2400 / 2500: loss 3.667224\n",
            "iteration 0 / 2500: loss 1066.704730\n",
            "iteration 100 / 2500: loss 476.428134\n",
            "iteration 200 / 2500: loss 215.347345\n",
            "iteration 300 / 2500: loss 98.315686\n",
            "iteration 400 / 2500: loss 45.623185\n",
            "iteration 500 / 2500: loss 22.235318\n",
            "iteration 600 / 2500: loss 12.105479\n",
            "iteration 700 / 2500: loss 7.206312\n",
            "iteration 800 / 2500: loss 4.889116\n",
            "iteration 900 / 2500: loss 4.151559\n",
            "iteration 1000 / 2500: loss 4.007720\n",
            "iteration 1100 / 2500: loss 3.713518\n",
            "iteration 1200 / 2500: loss 3.708584\n",
            "iteration 1300 / 2500: loss 3.238476\n",
            "iteration 1400 / 2500: loss 3.313757\n",
            "iteration 1500 / 2500: loss 3.368316\n",
            "iteration 1600 / 2500: loss 3.480107\n",
            "iteration 1700 / 2500: loss 3.146911\n",
            "iteration 1800 / 2500: loss 3.625479\n",
            "iteration 1900 / 2500: loss 3.019251\n",
            "iteration 2000 / 2500: loss 3.288422\n",
            "iteration 2100 / 2500: loss 3.387548\n",
            "iteration 2200 / 2500: loss 3.127781\n",
            "iteration 2300 / 2500: loss 3.398200\n",
            "iteration 2400 / 2500: loss 3.047436\n",
            "iteration 0 / 2500: loss 1588.454462\n",
            "iteration 100 / 2500: loss 475.683107\n",
            "iteration 200 / 2500: loss 144.694327\n",
            "iteration 300 / 2500: loss 45.856563\n",
            "iteration 400 / 2500: loss 15.886985\n",
            "iteration 500 / 2500: loss 7.825574\n",
            "iteration 600 / 2500: loss 4.495164\n",
            "iteration 700 / 2500: loss 4.242228\n",
            "iteration 800 / 2500: loss 3.336983\n",
            "iteration 900 / 2500: loss 3.414955\n",
            "iteration 1000 / 2500: loss 3.461008\n",
            "iteration 1100 / 2500: loss 3.736705\n",
            "iteration 1200 / 2500: loss 3.560944\n",
            "iteration 1300 / 2500: loss 3.793317\n",
            "iteration 1400 / 2500: loss 3.659678\n",
            "iteration 1500 / 2500: loss 3.174447\n",
            "iteration 1600 / 2500: loss 3.763137\n",
            "iteration 1700 / 2500: loss 3.067813\n",
            "iteration 1800 / 2500: loss 3.274463\n",
            "iteration 1900 / 2500: loss 3.535215\n",
            "iteration 2000 / 2500: loss 3.201205\n",
            "iteration 2100 / 2500: loss 3.370225\n",
            "iteration 2200 / 2500: loss 3.590419\n",
            "iteration 2300 / 2500: loss 3.590146\n",
            "iteration 2400 / 2500: loss 3.003426\n",
            "iteration 0 / 2500: loss 5295.076161\n",
            "iteration 100 / 2500: loss 96.766574\n",
            "iteration 200 / 2500: loss 5.586601\n",
            "iteration 300 / 2500: loss 3.868857\n",
            "iteration 400 / 2500: loss 4.292930\n",
            "iteration 500 / 2500: loss 4.006181\n",
            "iteration 600 / 2500: loss 3.939755\n",
            "iteration 700 / 2500: loss 4.137964\n",
            "iteration 800 / 2500: loss 3.629147\n",
            "iteration 900 / 2500: loss 4.148947\n",
            "iteration 1000 / 2500: loss 4.157725\n",
            "iteration 1100 / 2500: loss 4.253350\n",
            "iteration 1200 / 2500: loss 3.930022\n",
            "iteration 1300 / 2500: loss 4.039658\n",
            "iteration 1400 / 2500: loss 3.869950\n",
            "iteration 1500 / 2500: loss 3.800419\n",
            "iteration 1600 / 2500: loss 3.730731\n",
            "iteration 1700 / 2500: loss 3.956197\n",
            "iteration 1800 / 2500: loss 3.866395\n",
            "iteration 1900 / 2500: loss 3.434337\n",
            "iteration 2000 / 2500: loss 3.871586\n",
            "iteration 2100 / 2500: loss 4.097596\n",
            "iteration 2200 / 2500: loss 3.769586\n",
            "iteration 2300 / 2500: loss 3.701291\n",
            "iteration 2400 / 2500: loss 3.927463\n",
            "iteration 0 / 2500: loss 64.569697\n",
            "iteration 100 / 2500: loss 38.731194\n",
            "iteration 200 / 2500: loss 26.513802\n",
            "iteration 300 / 2500: loss 19.559173\n",
            "iteration 400 / 2500: loss 13.229354\n",
            "iteration 500 / 2500: loss 9.658361\n",
            "iteration 600 / 2500: loss 7.829898\n",
            "iteration 700 / 2500: loss 6.243382\n",
            "iteration 800 / 2500: loss 4.607532\n",
            "iteration 900 / 2500: loss 4.322791\n",
            "iteration 1000 / 2500: loss 4.210160\n",
            "iteration 1100 / 2500: loss 3.961191\n",
            "iteration 1200 / 2500: loss 3.823169\n",
            "iteration 1300 / 2500: loss 3.491687\n",
            "iteration 1400 / 2500: loss 3.110075\n",
            "iteration 1500 / 2500: loss 3.504811\n",
            "iteration 1600 / 2500: loss 3.583069\n",
            "iteration 1700 / 2500: loss 3.170849\n",
            "iteration 1800 / 2500: loss 2.954038\n",
            "iteration 1900 / 2500: loss 3.418880\n",
            "iteration 2000 / 2500: loss 2.905012\n",
            "iteration 2100 / 2500: loss 3.161864\n",
            "iteration 2200 / 2500: loss 3.302072\n",
            "iteration 2300 / 2500: loss 2.846881\n",
            "iteration 2400 / 2500: loss 2.832511\n",
            "iteration 0 / 2500: loss 121.397074\n",
            "iteration 100 / 2500: loss 50.484774\n",
            "iteration 200 / 2500: loss 23.843198\n",
            "iteration 300 / 2500: loss 12.574686\n",
            "iteration 400 / 2500: loss 7.861707\n",
            "iteration 500 / 2500: loss 4.547423\n",
            "iteration 600 / 2500: loss 3.348309\n",
            "iteration 700 / 2500: loss 3.547806\n",
            "iteration 800 / 2500: loss 3.809739\n",
            "iteration 900 / 2500: loss 3.126118\n",
            "iteration 1000 / 2500: loss 2.829775\n",
            "iteration 1100 / 2500: loss 3.410367\n",
            "iteration 1200 / 2500: loss 3.088932\n",
            "iteration 1300 / 2500: loss 3.624687\n",
            "iteration 1400 / 2500: loss 3.552234\n",
            "iteration 1500 / 2500: loss 3.083468\n",
            "iteration 1600 / 2500: loss 4.460195\n",
            "iteration 1700 / 2500: loss 2.948151\n",
            "iteration 1800 / 2500: loss 3.629790\n",
            "iteration 1900 / 2500: loss 3.849994\n",
            "iteration 2000 / 2500: loss 3.332937\n",
            "iteration 2100 / 2500: loss 3.072280\n",
            "iteration 2200 / 2500: loss 2.693729\n",
            "iteration 2300 / 2500: loss 3.267622\n",
            "iteration 2400 / 2500: loss 3.369131\n",
            "iteration 0 / 2500: loss 169.496076\n",
            "iteration 100 / 2500: loss 50.225745\n",
            "iteration 200 / 2500: loss 17.357392\n",
            "iteration 300 / 2500: loss 7.655484\n",
            "iteration 400 / 2500: loss 4.569043\n",
            "iteration 500 / 2500: loss 3.823591\n",
            "iteration 600 / 2500: loss 3.815732\n",
            "iteration 700 / 2500: loss 3.338204\n",
            "iteration 800 / 2500: loss 2.954944\n",
            "iteration 900 / 2500: loss 4.066639\n",
            "iteration 1000 / 2500: loss 3.798690\n",
            "iteration 1100 / 2500: loss 3.641457\n",
            "iteration 1200 / 2500: loss 3.381287\n",
            "iteration 1300 / 2500: loss 3.964380\n",
            "iteration 1400 / 2500: loss 3.496325\n",
            "iteration 1500 / 2500: loss 3.664700\n",
            "iteration 1600 / 2500: loss 3.512542\n",
            "iteration 1700 / 2500: loss 3.856228\n",
            "iteration 1800 / 2500: loss 3.635333\n",
            "iteration 1900 / 2500: loss 3.567238\n",
            "iteration 2000 / 2500: loss 3.094247\n",
            "iteration 2100 / 2500: loss 3.658914\n",
            "iteration 2200 / 2500: loss 3.636432\n",
            "iteration 2300 / 2500: loss 3.236728\n",
            "iteration 2400 / 2500: loss 3.435288\n",
            "iteration 0 / 2500: loss 538.615083\n",
            "iteration 100 / 2500: loss 13.059774\n",
            "iteration 200 / 2500: loss 4.150729\n",
            "iteration 300 / 2500: loss 3.646064\n",
            "iteration 400 / 2500: loss 4.042897\n",
            "iteration 500 / 2500: loss 4.174282\n",
            "iteration 600 / 2500: loss 4.450900\n",
            "iteration 700 / 2500: loss 4.041306\n",
            "iteration 800 / 2500: loss 4.262003\n",
            "iteration 900 / 2500: loss 3.779147\n",
            "iteration 1000 / 2500: loss 4.441731\n",
            "iteration 1100 / 2500: loss 3.829957\n",
            "iteration 1200 / 2500: loss 3.639063\n",
            "iteration 1300 / 2500: loss 3.645388\n",
            "iteration 1400 / 2500: loss 4.315600\n",
            "iteration 1500 / 2500: loss 3.548786\n",
            "iteration 1600 / 2500: loss 3.439838\n",
            "iteration 1700 / 2500: loss 4.270153\n",
            "iteration 1800 / 2500: loss 4.001025\n",
            "iteration 1900 / 2500: loss 4.218641\n",
            "iteration 2000 / 2500: loss 4.613836\n",
            "iteration 2100 / 2500: loss 3.872103\n",
            "iteration 2200 / 2500: loss 3.685277\n",
            "iteration 2300 / 2500: loss 4.315047\n",
            "iteration 2400 / 2500: loss 3.533165\n",
            "iteration 0 / 2500: loss 1065.833508\n",
            "iteration 100 / 2500: loss 4.414508\n",
            "iteration 200 / 2500: loss 4.473223\n",
            "iteration 300 / 2500: loss 3.979772\n",
            "iteration 400 / 2500: loss 4.144233\n",
            "iteration 500 / 2500: loss 4.264095\n",
            "iteration 600 / 2500: loss 3.668531\n",
            "iteration 700 / 2500: loss 3.549575\n",
            "iteration 800 / 2500: loss 5.805619\n",
            "iteration 900 / 2500: loss 4.606390\n",
            "iteration 1000 / 2500: loss 3.984180\n",
            "iteration 1100 / 2500: loss 4.393119\n",
            "iteration 1200 / 2500: loss 4.029941\n",
            "iteration 1300 / 2500: loss 3.859243\n",
            "iteration 1400 / 2500: loss 4.195465\n",
            "iteration 1500 / 2500: loss 4.364733\n",
            "iteration 1600 / 2500: loss 4.115492\n",
            "iteration 1700 / 2500: loss 4.424651\n",
            "iteration 1800 / 2500: loss 3.672852\n",
            "iteration 1900 / 2500: loss 4.375098\n",
            "iteration 2000 / 2500: loss 3.864615\n",
            "iteration 2100 / 2500: loss 3.971236\n",
            "iteration 2200 / 2500: loss 4.495996\n",
            "iteration 2300 / 2500: loss 3.367419\n",
            "iteration 2400 / 2500: loss 5.273928\n",
            "iteration 0 / 2500: loss 1597.097558\n",
            "iteration 100 / 2500: loss 4.177333\n",
            "iteration 200 / 2500: loss 3.988093\n",
            "iteration 300 / 2500: loss 4.571837\n",
            "iteration 400 / 2500: loss 4.273151\n",
            "iteration 500 / 2500: loss 4.055714\n",
            "iteration 600 / 2500: loss 4.702672\n",
            "iteration 700 / 2500: loss 3.931688\n",
            "iteration 800 / 2500: loss 3.887715\n",
            "iteration 900 / 2500: loss 4.419814\n",
            "iteration 1000 / 2500: loss 3.865279\n",
            "iteration 1100 / 2500: loss 4.558752\n",
            "iteration 1200 / 2500: loss 4.047220\n",
            "iteration 1300 / 2500: loss 4.168286\n",
            "iteration 1400 / 2500: loss 4.593066\n",
            "iteration 1500 / 2500: loss 3.750575\n",
            "iteration 1600 / 2500: loss 4.809848\n",
            "iteration 1700 / 2500: loss 4.018513\n",
            "iteration 1800 / 2500: loss 4.068377\n",
            "iteration 1900 / 2500: loss 4.714855\n",
            "iteration 2000 / 2500: loss 3.862874\n",
            "iteration 2100 / 2500: loss 3.836229\n",
            "iteration 2200 / 2500: loss 3.841136\n",
            "iteration 2300 / 2500: loss 5.479385\n",
            "iteration 2400 / 2500: loss 4.611637\n",
            "iteration 0 / 2500: loss 5254.337814\n",
            "iteration 100 / 2500: loss 5.909410\n",
            "iteration 200 / 2500: loss 6.110029\n",
            "iteration 300 / 2500: loss 4.532345\n",
            "iteration 400 / 2500: loss 5.255539\n",
            "iteration 500 / 2500: loss 6.016017\n",
            "iteration 600 / 2500: loss 5.608014\n",
            "iteration 700 / 2500: loss 4.767581\n",
            "iteration 800 / 2500: loss 5.400708\n",
            "iteration 900 / 2500: loss 4.891099\n",
            "iteration 1000 / 2500: loss 4.271854\n",
            "iteration 1100 / 2500: loss 5.724099\n",
            "iteration 1200 / 2500: loss 5.353084\n",
            "iteration 1300 / 2500: loss 4.568938\n",
            "iteration 1400 / 2500: loss 5.557086\n",
            "iteration 1500 / 2500: loss 5.358366\n",
            "iteration 1600 / 2500: loss 5.521589\n",
            "iteration 1700 / 2500: loss 5.330071\n",
            "iteration 1800 / 2500: loss 5.649568\n",
            "iteration 1900 / 2500: loss 5.127742\n",
            "iteration 2000 / 2500: loss 4.993581\n",
            "iteration 2100 / 2500: loss 5.100398\n",
            "iteration 2200 / 2500: loss 5.576757\n",
            "iteration 2300 / 2500: loss 6.714563\n",
            "iteration 2400 / 2500: loss 4.243339\n",
            "lr 1.000000e-08 reg 1.000000e+03 train accuracy: 0.382150 val accuracy: 0.388978\n",
            "lr 1.000000e-08 reg 2.000000e+03 train accuracy: 0.380350 val accuracy: 0.376997\n",
            "lr 1.000000e-08 reg 3.000000e+03 train accuracy: 0.371200 val accuracy: 0.384984\n",
            "lr 1.000000e-08 reg 1.000000e+04 train accuracy: 0.406050 val accuracy: 0.392971\n",
            "lr 1.000000e-08 reg 2.000000e+04 train accuracy: 0.442200 val accuracy: 0.437700\n",
            "lr 1.000000e-08 reg 3.000000e+04 train accuracy: 0.465800 val accuracy: 0.468051\n",
            "lr 1.000000e-08 reg 1.000000e+05 train accuracy: 0.475250 val accuracy: 0.484824\n",
            "lr 1.000000e-07 reg 1.000000e+03 train accuracy: 0.485950 val accuracy: 0.480831\n",
            "lr 1.000000e-07 reg 2.000000e+03 train accuracy: 0.507950 val accuracy: 0.481629\n",
            "lr 1.000000e-07 reg 3.000000e+03 train accuracy: 0.520800 val accuracy: 0.514377\n",
            "lr 1.000000e-07 reg 1.000000e+04 train accuracy: 0.514450 val accuracy: 0.504792\n",
            "lr 1.000000e-07 reg 2.000000e+04 train accuracy: 0.492100 val accuracy: 0.488019\n",
            "lr 1.000000e-07 reg 3.000000e+04 train accuracy: 0.493250 val accuracy: 0.496805\n",
            "lr 1.000000e-07 reg 1.000000e+05 train accuracy: 0.474950 val accuracy: 0.484026\n",
            "lr 1.000000e-06 reg 1.000000e+03 train accuracy: 0.530100 val accuracy: 0.515176\n",
            "lr 1.000000e-06 reg 2.000000e+03 train accuracy: 0.525450 val accuracy: 0.523163\n",
            "lr 1.000000e-06 reg 3.000000e+03 train accuracy: 0.497500 val accuracy: 0.480831\n",
            "lr 1.000000e-06 reg 1.000000e+04 train accuracy: 0.494000 val accuracy: 0.490415\n",
            "lr 1.000000e-06 reg 2.000000e+04 train accuracy: 0.430350 val accuracy: 0.400160\n",
            "lr 1.000000e-06 reg 3.000000e+04 train accuracy: 0.463050 val accuracy: 0.460064\n",
            "lr 1.000000e-06 reg 1.000000e+05 train accuracy: 0.416050 val accuracy: 0.426518\n",
            "best validation accuracy achieved during cross-validation: 0.523163\n"
          ]
        }
      ]
    },
    {
      "cell_type": "code",
      "metadata": {
        "id": "lnVPLM1Fj5P2",
        "colab": {
          "base_uri": "https://localhost:8080/",
          "height": 513
        },
        "outputId": "0633ba13-f44e-47bc-fdff-e1c9c7bb4ff0"
      },
      "source": [
        "# Visualize the cross-validation results\n",
        "import math\n",
        "x_scatter = [math.log10(x[0]) for x in results]\n",
        "y_scatter = [math.log10(x[1]) for x in results]\n",
        "\n",
        "# plot training accuracy\n",
        "marker_size = 100\n",
        "colors = [results[x][0] for x in results]\n",
        "plt.subplot(2, 1, 1)\n",
        "plt.scatter(x_scatter, y_scatter, marker_size, c=colors)\n",
        "plt.colorbar()\n",
        "plt.xlabel('log learning rate')\n",
        "plt.ylabel('log regularization strength')\n",
        "plt.title('CIFAR-10 training accuracy')\n",
        "\n",
        "# plot validation accuracy\n",
        "colors = [results[x][1] for x in results] # default size of markers is 20\n",
        "plt.subplot(2, 1, 2)\n",
        "plt.scatter(x_scatter, y_scatter, marker_size, c=colors)\n",
        "plt.colorbar()\n",
        "plt.xlabel('log learning rate')\n",
        "plt.ylabel('log regularization strength')\n",
        "plt.title('CIFAR-10 validation accuracy')\n",
        "plt.show()"
      ],
      "execution_count": null,
      "outputs": [
        {
          "output_type": "display_data",
          "data": {
            "image/png": "[encoded data removed]",
            "text/plain": [
              "<Figure size 720x576 with 4 Axes>"
            ]
          },
          "metadata": {
            "needs_background": "light"
          }
        }
      ]
    },
    {
      "cell_type": "code",
      "metadata": {
        "id": "vhTjjnkoj5Ss",
        "colab": {
          "base_uri": "https://localhost:8080/"
        },
        "outputId": "64fa7965-28ef-4555-bc08-cf678f9a634c"
      },
      "source": [
        "# Evaluate the best svm on test set\n",
        "y_test_pred = best_svm.predict(X_test)\n",
        "test_accuracy = np.mean(y_test == y_test_pred)\n",
        "print('linear SVM on raw pixels final test set accuracy: %f' % test_accuracy)"
      ],
      "execution_count": null,
      "outputs": [
        {
          "output_type": "stream",
          "name": "stdout",
          "text": [
            "linear SVM on raw pixels final test set accuracy: 0.514022\n"
          ]
        }
      ]
    }
  ]
}